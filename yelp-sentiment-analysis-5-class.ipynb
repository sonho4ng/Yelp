{
 "cells": [
  {
   "cell_type": "code",
   "execution_count": 1,
   "id": "b65b2e4b",
   "metadata": {
    "_cell_guid": "b1076dfc-b9ad-4769-8c92-a6c4dae69d19",
    "_uuid": "8f2839f25d086af736a60e9eeb907d3b93b6e0e5",
    "execution": {
     "iopub.execute_input": "2025-02-22T12:49:09.550679Z",
     "iopub.status.busy": "2025-02-22T12:49:09.550385Z",
     "iopub.status.idle": "2025-02-22T12:49:10.463596Z",
     "shell.execute_reply": "2025-02-22T12:49:10.462861Z"
    },
    "papermill": {
     "duration": 0.922105,
     "end_time": "2025-02-22T12:49:10.465318",
     "exception": false,
     "start_time": "2025-02-22T12:49:09.543213",
     "status": "completed"
    },
    "tags": []
   },
   "outputs": [],
   "source": [
    "import pandas as pd\n",
    "dataset = pd.read_csv('/kaggle/input/yelp-reviews-dataset/yelp.csv', encoding='utf-8')"
   ]
  },
  {
   "cell_type": "code",
   "execution_count": 2,
   "id": "70b84787",
   "metadata": {
    "execution": {
     "iopub.execute_input": "2025-02-22T12:49:10.478431Z",
     "iopub.status.busy": "2025-02-22T12:49:10.478174Z",
     "iopub.status.idle": "2025-02-22T12:49:10.488237Z",
     "shell.execute_reply": "2025-02-22T12:49:10.487167Z"
    },
    "papermill": {
     "duration": 0.017596,
     "end_time": "2025-02-22T12:49:10.489606",
     "exception": false,
     "start_time": "2025-02-22T12:49:10.472010",
     "status": "completed"
    },
    "tags": []
   },
   "outputs": [
    {
     "name": "stdout",
     "output_type": "stream",
     "text": [
      "business_id    0\n",
      "date           0\n",
      "review_id      0\n",
      "stars          0\n",
      "text           0\n",
      "type           0\n",
      "user_id        0\n",
      "cool           0\n",
      "useful         0\n",
      "funny          0\n",
      "dtype: int64\n"
     ]
    }
   ],
   "source": [
    "print(dataset.isnull().sum())"
   ]
  },
  {
   "cell_type": "markdown",
   "id": "12631a23",
   "metadata": {
    "papermill": {
     "duration": 0.005526,
     "end_time": "2025-02-22T12:49:10.589597",
     "exception": false,
     "start_time": "2025-02-22T12:49:10.584071",
     "status": "completed"
    },
    "tags": []
   },
   "source": [
    "# Preprocessing text"
   ]
  },
  {
   "cell_type": "code",
   "execution_count": 5,
   "id": "a7aeb28b",
   "metadata": {
    "execution": {
     "iopub.execute_input": "2025-02-22T12:49:10.601791Z",
     "iopub.status.busy": "2025-02-22T12:49:10.601554Z",
     "iopub.status.idle": "2025-02-22T12:49:18.271086Z",
     "shell.execute_reply": "2025-02-22T12:49:18.270094Z"
    },
    "papermill": {
     "duration": 7.677214,
     "end_time": "2025-02-22T12:49:18.272583",
     "exception": false,
     "start_time": "2025-02-22T12:49:10.595369",
     "status": "completed"
    },
    "tags": []
   },
   "outputs": [
    {
     "name": "stdout",
     "output_type": "stream",
     "text": [
      "Collecting contractions\r\n",
      "  Downloading contractions-0.1.73-py2.py3-none-any.whl.metadata (1.2 kB)\r\n",
      "Collecting textsearch>=0.0.21 (from contractions)\r\n",
      "  Downloading textsearch-0.0.24-py2.py3-none-any.whl.metadata (1.2 kB)\r\n",
      "Collecting anyascii (from textsearch>=0.0.21->contractions)\r\n",
      "  Downloading anyascii-0.3.2-py3-none-any.whl.metadata (1.5 kB)\r\n",
      "Collecting pyahocorasick (from textsearch>=0.0.21->contractions)\r\n",
      "  Downloading pyahocorasick-2.1.0-cp310-cp310-manylinux_2_5_x86_64.manylinux1_x86_64.manylinux_2_12_x86_64.manylinux2010_x86_64.whl.metadata (13 kB)\r\n",
      "Downloading contractions-0.1.73-py2.py3-none-any.whl (8.7 kB)\r\n",
      "Downloading textsearch-0.0.24-py2.py3-none-any.whl (7.6 kB)\r\n",
      "Downloading anyascii-0.3.2-py3-none-any.whl (289 kB)\r\n",
      "\u001B[2K   \u001B[90m━━━━━━━━━━━━━━━━━━━━━━━━━━━━━━━━━━━━━━━━\u001B[0m \u001B[32m289.9/289.9 kB\u001B[0m \u001B[31m5.6 MB/s\u001B[0m eta \u001B[36m0:00:00\u001B[0m\r\n",
      "\u001B[?25hDownloading pyahocorasick-2.1.0-cp310-cp310-manylinux_2_5_x86_64.manylinux1_x86_64.manylinux_2_12_x86_64.manylinux2010_x86_64.whl (110 kB)\r\n",
      "\u001B[2K   \u001B[90m━━━━━━━━━━━━━━━━━━━━━━━━━━━━━━━━━━━━━━━━\u001B[0m \u001B[32m110.7/110.7 kB\u001B[0m \u001B[31m7.3 MB/s\u001B[0m eta \u001B[36m0:00:00\u001B[0m\r\n",
      "\u001B[?25hInstalling collected packages: pyahocorasick, anyascii, textsearch, contractions\r\n",
      "Successfully installed anyascii-0.3.2 contractions-0.1.73 pyahocorasick-2.1.0 textsearch-0.0.24\r\n",
      "[nltk_data] Downloading package wordnet to /usr/share/nltk_data...\n",
      "[nltk_data]   Package wordnet is already up-to-date!\n",
      "[nltk_data] Downloading package stopwords to /usr/share/nltk_data...\n",
      "[nltk_data]   Unzipping corpora/stopwords.zip.\n"
     ]
    },
    {
     "data": {
      "text/plain": [
       "True"
      ]
     },
     "execution_count": 5,
     "metadata": {},
     "output_type": "execute_result"
    }
   ],
   "source": [
    "import nltk\n",
    "!pip install contractions\n",
    "import contractions\n",
    "import string\n",
    "from nltk.tokenize import RegexpTokenizer\n",
    "from nltk.corpus import stopwords\n",
    "from nltk.stem.wordnet import WordNetLemmatizer\n",
    "nltk.download('wordnet')\n",
    "nltk.download('stopwords')"
   ]
  },
  {
   "cell_type": "code",
   "execution_count": 6,
   "id": "0589a931",
   "metadata": {
    "execution": {
     "iopub.execute_input": "2025-02-22T12:49:18.287189Z",
     "iopub.status.busy": "2025-02-22T12:49:18.286591Z",
     "iopub.status.idle": "2025-02-22T12:49:18.292854Z",
     "shell.execute_reply": "2025-02-22T12:49:18.292169Z"
    },
    "papermill": {
     "duration": 0.014648,
     "end_time": "2025-02-22T12:49:18.294045",
     "exception": false,
     "start_time": "2025-02-22T12:49:18.279397",
     "status": "completed"
    },
    "tags": []
   },
   "outputs": [],
   "source": [
    "# lower case\n",
    "# punctuation remove (bỏ dấu câu)\n",
    "# contraction expansion (xử lí từ viết tắt you're -> you are)\n",
    "# tokenization\n",
    "# RegexTokenizer\n",
    "# stopword remove\n",
    "# stemming hoặc lemma (lemma tốt hơn)\n",
    "# loại bỏ số và ký tự đặc biệt\n",
    "import re\n",
    "def manual_lemmatize(word):\n",
    "    irregulars = {\n",
    "        'children': 'child',\n",
    "        'mice': 'mouse',\n",
    "        'geese': 'goose',\n",
    "        'feet': 'foot',\n",
    "        'teeth': 'tooth',\n",
    "        'men': 'man',\n",
    "        'women': 'woman',\n",
    "        'better': 'good',\n",
    "        'best': 'good',\n",
    "        'worse': 'bad',\n",
    "        'worst': 'bad',\n",
    "    }\n",
    "\n",
    "    # Check for irregular forms\n",
    "    if word in irregulars:\n",
    "        return irregulars[word]\n",
    "\n",
    "    # Handle plurals\n",
    "    if re.search(r'ies$', word):\n",
    "        return re.sub(r'ies$', 'y', word)\n",
    "    elif re.search(r'es$', word):\n",
    "        return re.sub(r'es$', '', word)\n",
    "    elif re.search(r's$', word) and not re.search(r'ss$', word):\n",
    "        return re.sub(r's$', '', word)\n",
    "\n",
    "    # Handle verbs ending in 'ing' (simplified)\n",
    "    if re.search(r'ing$', word):\n",
    "        return re.sub(r'ing$', 'e', word) if re.search(r'[aeiou][^aeiou]ing$', word) else re.sub(r'ing$', '', word)\n",
    "\n",
    "    # Handle verbs ending in 'ed' (simplified)\n",
    "    if re.search(r'ed$', word):\n",
    "        return re.sub(r'ed$', '', word)\n",
    "    return word\n"
   ]
  },
  {
   "cell_type": "code",
   "execution_count": 7,
   "id": "d9d3f090",
   "metadata": {
    "execution": {
     "iopub.execute_input": "2025-02-22T12:49:18.307485Z",
     "iopub.status.busy": "2025-02-22T12:49:18.307261Z",
     "iopub.status.idle": "2025-02-22T12:49:18.383437Z",
     "shell.execute_reply": "2025-02-22T12:49:18.382512Z"
    },
    "papermill": {
     "duration": 0.084252,
     "end_time": "2025-02-22T12:49:18.384677",
     "exception": false,
     "start_time": "2025-02-22T12:49:18.300425",
     "status": "completed"
    },
    "tags": []
   },
   "outputs": [
    {
     "name": "stdout",
     "output_type": "stream",
     "text": [
      "[nltk_data] Downloading package punkt to /usr/share/nltk_data...\n",
      "[nltk_data]   Package punkt is already up-to-date!\n"
     ]
    }
   ],
   "source": [
    "from nltk.tokenize import word_tokenize\n",
    "nltk.download('punkt')\n",
    "lemmatizer = WordNetLemmatizer()\n",
    "tokenizer = RegexpTokenizer(r'\\w+')\n",
    "stop_words = set(stopwords.words('english')) - {\"not\", \"no\", \"never\", \"n't\"}\n",
    "\n",
    "def preprocess(text):\n",
    "    text = re.sub(r'<br\\s*/?>', ' ', text)\n",
    "    # Chuyển thành chữ thường\n",
    "    text = text.lower()\n",
    "\n",
    "    # Xử lý từ viết tắt\n",
    "    text = contractions.fix(text)  # \"you're\" -> \"you are\", \"isn't\" -> \"is not\"\n",
    "\n",
    "    # Loại bỏ dấu câu\n",
    "    text = re.sub(r'[^\\w\\s]', ' ', text)\n",
    "\n",
    "    # Tokenization\n",
    "    tokens = word_tokenize(text)\n",
    "\n",
    "    # Loại bỏ stopwords nhưng giữ từ phủ định\n",
    "    tokens = [word for word in tokens if word not in stop_words]\n",
    "\n",
    "    # Lemmatization\n",
    "    tokens = [manual_lemmatize(word) for word in tokens]\n",
    "\n",
    "    return \" \".join(tokens)"
   ]
  },
  {
   "cell_type": "code",
   "execution_count": 8,
   "id": "aa4e9cc8",
   "metadata": {
    "execution": {
     "iopub.execute_input": "2025-02-22T12:49:18.398458Z",
     "iopub.status.busy": "2025-02-22T12:49:18.398247Z",
     "iopub.status.idle": "2025-02-22T12:49:25.986703Z",
     "shell.execute_reply": "2025-02-22T12:49:25.985987Z"
    },
    "papermill": {
     "duration": 7.596813,
     "end_time": "2025-02-22T12:49:25.988189",
     "exception": false,
     "start_time": "2025-02-22T12:49:18.391376",
     "status": "completed"
    },
    "tags": []
   },
   "outputs": [],
   "source": [
    "feature = [preprocess(text) for text in dataset['text']]"
   ]
  },
  {
   "cell_type": "code",
   "execution_count": 9,
   "id": "ab0d6231",
   "metadata": {
    "execution": {
     "iopub.execute_input": "2025-02-22T12:49:26.002870Z",
     "iopub.status.busy": "2025-02-22T12:49:26.002618Z",
     "iopub.status.idle": "2025-02-22T12:49:26.083792Z",
     "shell.execute_reply": "2025-02-22T12:49:26.082837Z"
    },
    "papermill": {
     "duration": 0.090126,
     "end_time": "2025-02-22T12:49:26.085235",
     "exception": false,
     "start_time": "2025-02-22T12:49:25.995109",
     "status": "completed"
    },
    "tags": []
   },
   "outputs": [
    {
     "name": "stdout",
     "output_type": "stream",
     "text": [
      "528\n",
      "23484\n"
     ]
    }
   ],
   "source": [
    "max_sentence = 0\n",
    "unique_words = set()\n",
    "for sentence in feature:\n",
    "  b =str(sentence).split()\n",
    "  a = len(b)\n",
    "  unique_words.update(b)\n",
    "  max_sentence = max(a, max_sentence)\n",
    "vocab_size = len(unique_words)\n",
    "print(max_sentence) # 528\n",
    "print(vocab_size) # 23484"
   ]
  },
  {
   "cell_type": "code",
   "execution_count": 10,
   "id": "37971049",
   "metadata": {
    "execution": {
     "iopub.execute_input": "2025-02-22T12:49:26.099335Z",
     "iopub.status.busy": "2025-02-22T12:49:26.099111Z",
     "iopub.status.idle": "2025-02-22T12:49:26.218176Z",
     "shell.execute_reply": "2025-02-22T12:49:26.217267Z"
    },
    "papermill": {
     "duration": 0.127501,
     "end_time": "2025-02-22T12:49:26.219472",
     "exception": false,
     "start_time": "2025-02-22T12:49:26.091971",
     "status": "completed"
    },
    "tags": []
   },
   "outputs": [
    {
     "name": "stdout",
     "output_type": "stream",
     "text": [
      "New vocab size: 10660\n"
     ]
    }
   ],
   "source": [
    "from collections import Counter\n",
    "\n",
    "\n",
    "word_counter = Counter()\n",
    "for sentence in feature:\n",
    "    words = str(sentence).split()\n",
    "    word_counter.update(words)\n",
    "\n",
    "\n",
    "threshold = 3\n",
    "filtered_vocab = {word for word, count in word_counter.items() if count >= threshold}\n",
    "\n",
    "# Cập nhật vocab size sau khi lọc\n",
    "vocab_size = len(filtered_vocab)\n",
    "print(\"New vocab size:\", vocab_size)"
   ]
  },
  {
   "cell_type": "code",
   "execution_count": 11,
   "id": "7e32a0b3",
   "metadata": {
    "execution": {
     "iopub.execute_input": "2025-02-22T12:49:26.233965Z",
     "iopub.status.busy": "2025-02-22T12:49:26.233700Z",
     "iopub.status.idle": "2025-02-22T12:49:26.356200Z",
     "shell.execute_reply": "2025-02-22T12:49:26.355347Z"
    },
    "papermill": {
     "duration": 0.131023,
     "end_time": "2025-02-22T12:49:26.357690",
     "exception": false,
     "start_time": "2025-02-22T12:49:26.226667",
     "status": "completed"
    },
    "tags": []
   },
   "outputs": [],
   "source": [
    "filtered_feature = []\n",
    "for sentence in feature:\n",
    "    words = [word if word in filtered_vocab else \"<UNK>\" for word in str(sentence).split()]\n",
    "    filtered_feature.append(\" \".join(words))"
   ]
  },
  {
   "cell_type": "code",
   "execution_count": 12,
   "id": "fca36bb3",
   "metadata": {
    "execution": {
     "iopub.execute_input": "2025-02-22T12:49:26.372204Z",
     "iopub.status.busy": "2025-02-22T12:49:26.371968Z",
     "iopub.status.idle": "2025-02-22T12:49:26.450715Z",
     "shell.execute_reply": "2025-02-22T12:49:26.450004Z"
    },
    "papermill": {
     "duration": 0.087082,
     "end_time": "2025-02-22T12:49:26.451929",
     "exception": false,
     "start_time": "2025-02-22T12:49:26.364847",
     "status": "completed"
    },
    "tags": []
   },
   "outputs": [
    {
     "name": "stdout",
     "output_type": "stream",
     "text": [
      "528\n",
      "10661\n"
     ]
    }
   ],
   "source": [
    "max_sentence = 0\n",
    "unique_words = set()\n",
    "for sentence in filtered_feature:\n",
    "  b =str(sentence).split()\n",
    "  a = len(b)\n",
    "  unique_words.update(b)\n",
    "  max_sentence = max(a, max_sentence)\n",
    "vocab_size = len(unique_words)\n",
    "print(max_sentence) # 528\n",
    "print(vocab_size) # 10661"
   ]
  },
  {
   "cell_type": "code",
   "execution_count": 13,
   "id": "0bbd403d",
   "metadata": {
    "execution": {
     "iopub.execute_input": "2025-02-22T12:49:26.466184Z",
     "iopub.status.busy": "2025-02-22T12:49:26.465860Z",
     "iopub.status.idle": "2025-02-22T12:49:26.821062Z",
     "shell.execute_reply": "2025-02-22T12:49:26.820242Z"
    },
    "papermill": {
     "duration": 0.363705,
     "end_time": "2025-02-22T12:49:26.822472",
     "exception": false,
     "start_time": "2025-02-22T12:49:26.458767",
     "status": "completed"
    },
    "tags": []
   },
   "outputs": [
    {
     "data": {
      "image/png": "[encoded data removed]",
      "text/plain": [
       "<Figure size 1000x500 with 1 Axes>"
      ]
     },
     "metadata": {},
     "output_type": "display_data"
    }
   ],
   "source": [
    "import matplotlib.pyplot as plt\n",
    "sentence_lengths = [len(str(sentence).split()) for sentence in filtered_feature]\n",
    "\n",
    "\n",
    "plt.figure(figsize=(10, 5))\n",
    "plt.hist(sentence_lengths, bins=50, alpha=0.75, edgecolor='black')\n",
    "plt.xlabel(\"Sentence Length\")\n",
    "plt.ylabel(\"Frequency\")\n",
    "plt.title(\"Distribution of Sentence Lengths\")\n",
    "plt.grid(axis='y', linestyle='--', alpha=0.7)\n",
    "plt.show()"
   ]
  },
  {
   "cell_type": "code",
   "execution_count": 14,
   "id": "cc296da3",
   "metadata": {
    "execution": {
     "iopub.execute_input": "2025-02-22T12:49:26.838153Z",
     "iopub.status.busy": "2025-02-22T12:49:26.837872Z",
     "iopub.status.idle": "2025-02-22T12:49:26.843225Z",
     "shell.execute_reply": "2025-02-22T12:49:26.842487Z"
    },
    "papermill": {
     "duration": 0.014368,
     "end_time": "2025-02-22T12:49:26.844374",
     "exception": false,
     "start_time": "2025-02-22T12:49:26.830006",
     "status": "completed"
    },
    "tags": []
   },
   "outputs": [
    {
     "name": "stdout",
     "output_type": "stream",
     "text": [
      "Chọn max_length = 156 sẽ giữ lại 92.31% dữ liệu.\n"
     ]
    }
   ],
   "source": [
    "import numpy as np\n",
    "\n",
    "\n",
    "max_length = 156\n",
    "\n",
    "valid_sentences = np.sum(np.array(sentence_lengths) <= max_length)\n",
    "total_sentences = len(sentence_lengths)\n",
    "\n",
    "coverage = (valid_sentences / total_sentences) * 100\n",
    "print(f\"Chọn max_length = {max_length} sẽ giữ lại {coverage:.2f}% dữ liệu.\")"
   ]
  },
  {
   "cell_type": "code",
   "execution_count": 15,
   "id": "c191c660",
   "metadata": {
    "execution": {
     "iopub.execute_input": "2025-02-22T12:49:26.859385Z",
     "iopub.status.busy": "2025-02-22T12:49:26.859148Z",
     "iopub.status.idle": "2025-02-22T12:49:26.864700Z",
     "shell.execute_reply": "2025-02-22T12:49:26.863896Z"
    },
    "papermill": {
     "duration": 0.014428,
     "end_time": "2025-02-22T12:49:26.866054",
     "exception": false,
     "start_time": "2025-02-22T12:49:26.851626",
     "status": "completed"
    },
    "tags": []
   },
   "outputs": [],
   "source": [
    "dataset['cleaned'] = filtered_feature\n"
   ]
  },
  {
   "cell_type": "code",
   "execution_count": 16,
   "id": "c01e3278",
   "metadata": {
    "execution": {
     "iopub.execute_input": "2025-02-22T12:49:26.881393Z",
     "iopub.status.busy": "2025-02-22T12:49:26.881154Z",
     "iopub.status.idle": "2025-02-22T12:49:26.888796Z",
     "shell.execute_reply": "2025-02-22T12:49:26.888030Z"
    },
    "papermill": {
     "duration": 0.016757,
     "end_time": "2025-02-22T12:49:26.890072",
     "exception": false,
     "start_time": "2025-02-22T12:49:26.873315",
     "status": "completed"
    },
    "tags": []
   },
   "outputs": [],
   "source": [
    "dataset['text length'] = dataset['cleaned'].apply(len)"
   ]
  },
  {
   "cell_type": "code",
   "execution_count": 17,
   "id": "28071d27",
   "metadata": {
    "execution": {
     "iopub.execute_input": "2025-02-22T12:49:26.904880Z",
     "iopub.status.busy": "2025-02-22T12:49:26.904679Z",
     "iopub.status.idle": "2025-02-22T12:49:28.677246Z",
     "shell.execute_reply": "2025-02-22T12:49:28.676351Z"
    },
    "papermill": {
     "duration": 1.781369,
     "end_time": "2025-02-22T12:49:28.678595",
     "exception": false,
     "start_time": "2025-02-22T12:49:26.897226",
     "status": "completed"
    },
    "tags": []
   },
   "outputs": [
    {
     "name": "stderr",
     "output_type": "stream",
     "text": [
      "/usr/local/lib/python3.10/dist-packages/seaborn/_oldcore.py:1119: FutureWarning: use_inf_as_na option is deprecated and will be removed in a future version. Convert inf values to NaN before operating instead.\n",
      "  with pd.option_context('mode.use_inf_as_na', True):\n",
      "/usr/local/lib/python3.10/dist-packages/seaborn/_oldcore.py:1119: FutureWarning: use_inf_as_na option is deprecated and will be removed in a future version. Convert inf values to NaN before operating instead.\n",
      "  with pd.option_context('mode.use_inf_as_na', True):\n",
      "/usr/local/lib/python3.10/dist-packages/seaborn/_oldcore.py:1119: FutureWarning: use_inf_as_na option is deprecated and will be removed in a future version. Convert inf values to NaN before operating instead.\n",
      "  with pd.option_context('mode.use_inf_as_na', True):\n",
      "/usr/local/lib/python3.10/dist-packages/seaborn/_oldcore.py:1119: FutureWarning: use_inf_as_na option is deprecated and will be removed in a future version. Convert inf values to NaN before operating instead.\n",
      "  with pd.option_context('mode.use_inf_as_na', True):\n",
      "/usr/local/lib/python3.10/dist-packages/seaborn/_oldcore.py:1119: FutureWarning: use_inf_as_na option is deprecated and will be removed in a future version. Convert inf values to NaN before operating instead.\n",
      "  with pd.option_context('mode.use_inf_as_na', True):\n"
     ]
    },
    {
     "data": {
      "text/plain": [
       "<seaborn.axisgrid.FacetGrid at 0x7d6aee4cb4f0>"
      ]
     },
     "execution_count": 17,
     "metadata": {},
     "output_type": "execute_result"
    },
    {
     "data": {
      "image/png": "[encoded data removed]",
      "text/plain": [
       "<Figure size 1500x300 with 5 Axes>"
      ]
     },
     "metadata": {},
     "output_type": "display_data"
    }
   ],
   "source": [
    "import seaborn as sns\n",
    "sns.FacetGrid(data=dataset,col='stars').map(sns.histplot,'text length')"
   ]
  },
  {
   "cell_type": "code",
   "execution_count": 18,
   "id": "10dccd97",
   "metadata": {
    "execution": {
     "iopub.execute_input": "2025-02-22T12:49:28.695790Z",
     "iopub.status.busy": "2025-02-22T12:49:28.695396Z",
     "iopub.status.idle": "2025-02-22T12:49:28.700814Z",
     "shell.execute_reply": "2025-02-22T12:49:28.700208Z"
    },
    "papermill": {
     "duration": 0.01531,
     "end_time": "2025-02-22T12:49:28.702160",
     "exception": false,
     "start_time": "2025-02-22T12:49:28.686850",
     "status": "completed"
    },
    "tags": []
   },
   "outputs": [],
   "source": [
    "new_dataset = dataset[dataset['text length'] <= 1500]\n"
   ]
  },
  {
   "cell_type": "code",
   "execution_count": 19,
   "id": "480521f4",
   "metadata": {
    "execution": {
     "iopub.execute_input": "2025-02-22T12:49:28.718886Z",
     "iopub.status.busy": "2025-02-22T12:49:28.718665Z",
     "iopub.status.idle": "2025-02-22T12:49:28.723437Z",
     "shell.execute_reply": "2025-02-22T12:49:28.722457Z"
    },
    "papermill": {
     "duration": 0.014477,
     "end_time": "2025-02-22T12:49:28.724673",
     "exception": false,
     "start_time": "2025-02-22T12:49:28.710196",
     "status": "completed"
    },
    "tags": []
   },
   "outputs": [
    {
     "name": "stderr",
     "output_type": "stream",
     "text": [
      "<ipython-input-19-26dca518d42e>:1: SettingWithCopyWarning: \n",
      "A value is trying to be set on a copy of a slice from a DataFrame.\n",
      "Try using .loc[row_indexer,col_indexer] = value instead\n",
      "\n",
      "See the caveats in the documentation: https://pandas.pydata.org/pandas-docs/stable/user_guide/indexing.html#returning-a-view-versus-a-copy\n",
      "  new_dataset['stars'] = new_dataset['stars'] - 1\n"
     ]
    }
   ],
   "source": [
    "new_dataset['stars'] = new_dataset['stars'] - 1\n"
   ]
  },
  {
   "cell_type": "code",
   "execution_count": 20,
   "id": "89db8511",
   "metadata": {
    "execution": {
     "iopub.execute_input": "2025-02-22T12:49:28.740986Z",
     "iopub.status.busy": "2025-02-22T12:49:28.740728Z",
     "iopub.status.idle": "2025-02-22T12:49:30.123805Z",
     "shell.execute_reply": "2025-02-22T12:49:30.122963Z"
    },
    "papermill": {
     "duration": 1.392551,
     "end_time": "2025-02-22T12:49:30.125097",
     "exception": false,
     "start_time": "2025-02-22T12:49:28.732546",
     "status": "completed"
    },
    "tags": []
   },
   "outputs": [
    {
     "name": "stderr",
     "output_type": "stream",
     "text": [
      "/usr/local/lib/python3.10/dist-packages/seaborn/_oldcore.py:1119: FutureWarning: use_inf_as_na option is deprecated and will be removed in a future version. Convert inf values to NaN before operating instead.\n",
      "  with pd.option_context('mode.use_inf_as_na', True):\n",
      "/usr/local/lib/python3.10/dist-packages/seaborn/_oldcore.py:1119: FutureWarning: use_inf_as_na option is deprecated and will be removed in a future version. Convert inf values to NaN before operating instead.\n",
      "  with pd.option_context('mode.use_inf_as_na', True):\n",
      "/usr/local/lib/python3.10/dist-packages/seaborn/_oldcore.py:1119: FutureWarning: use_inf_as_na option is deprecated and will be removed in a future version. Convert inf values to NaN before operating instead.\n",
      "  with pd.option_context('mode.use_inf_as_na', True):\n",
      "/usr/local/lib/python3.10/dist-packages/seaborn/_oldcore.py:1119: FutureWarning: use_inf_as_na option is deprecated and will be removed in a future version. Convert inf values to NaN before operating instead.\n",
      "  with pd.option_context('mode.use_inf_as_na', True):\n",
      "/usr/local/lib/python3.10/dist-packages/seaborn/_oldcore.py:1119: FutureWarning: use_inf_as_na option is deprecated and will be removed in a future version. Convert inf values to NaN before operating instead.\n",
      "  with pd.option_context('mode.use_inf_as_na', True):\n"
     ]
    },
    {
     "data": {
      "text/plain": [
       "<seaborn.axisgrid.FacetGrid at 0x7d6acb33c2e0>"
      ]
     },
     "execution_count": 20,
     "metadata": {},
     "output_type": "execute_result"
    },
    {
     "data": {
      "image/png": "[encoded data removed]",
      "text/plain": [
       "<Figure size 1500x300 with 5 Axes>"
      ]
     },
     "metadata": {},
     "output_type": "display_data"
    }
   ],
   "source": [
    "sns.FacetGrid(data=dataset,col='stars').map(sns.histplot,'text length')"
   ]
  },
  {
   "metadata": {},
   "cell_type": "code",
   "outputs": [],
   "execution_count": null,
   "source": [
    "X = new_dataset[\"cleaned\"]\n",
    "y = new_dataset[\"stars\"]"
   ],
   "id": "784a52e1705e443c"
  },
  {
   "cell_type": "code",
   "execution_count": 23,
   "id": "5a17d60a",
   "metadata": {
    "execution": {
     "iopub.execute_input": "2025-02-22T12:49:30.226188Z",
     "iopub.status.busy": "2025-02-22T12:49:30.225941Z",
     "iopub.status.idle": "2025-02-22T12:49:30.241330Z",
     "shell.execute_reply": "2025-02-22T12:49:30.240302Z"
    },
    "papermill": {
     "duration": 0.025726,
     "end_time": "2025-02-22T12:49:30.242567",
     "exception": false,
     "start_time": "2025-02-22T12:49:30.216841",
     "status": "completed"
    },
    "tags": []
   },
   "outputs": [
    {
     "name": "stdout",
     "output_type": "stream",
     "text": [
      "Number of class 1 examples after: 3469\n",
      "Number of class 2 examples after: 3469\n",
      "Number of class 3 examples after: 3469\n",
      "Number of class 5 examples after: 3301\n"
     ]
    }
   ],
   "source": [
    "from sklearn.utils import resample\n",
    "\n",
    "\n",
    "X_upsampled1, y_upsampled1 = resample(X[y == 0],\n",
    "                                    y[y == 0],\n",
    "                                    replace=True,\n",
    "                                    n_samples=X[y == 3].shape[0],\n",
    "                                    random_state=123)\n",
    "\n",
    "X_upsampled2, y_upsampled2 = resample(X[y == 1],\n",
    "                                     y[y == 1],\n",
    "                                     replace=True,\n",
    "                                     n_samples=X[y == 3].shape[0],\n",
    "                                     random_state=123)\n",
    "\n",
    "X_upsampled3, y_upsampled3 = resample(X[y == 2],\n",
    "                                     y[y == 2],\n",
    "                                     replace=True,\n",
    "                                     n_samples=X[y == 3].shape[0],\n",
    "                                     random_state=123)\n",
    "\n",
    "X_upsampled5, y_upsampled5 = resample(X[y == 4],\n",
    "                                     y[y == 4],\n",
    "                                     replace=True,\n",
    "                                     n_samples=X[y == 4].shape[0],\n",
    "                                     random_state=123)\n",
    "print('Number of class 1 examples after:', X_upsampled1.shape[0])\n",
    "print('Number of class 2 examples after:', X_upsampled2.shape[0])\n",
    "print('Number of class 3 examples after:', X_upsampled3.shape[0])\n",
    "print('Number of class 5 examples after:', X_upsampled5.shape[0])"
   ]
  },
  {
   "cell_type": "code",
   "execution_count": 24,
   "id": "98b93327",
   "metadata": {
    "execution": {
     "iopub.execute_input": "2025-02-22T12:49:30.261365Z",
     "iopub.status.busy": "2025-02-22T12:49:30.261137Z",
     "iopub.status.idle": "2025-02-22T12:49:30.267799Z",
     "shell.execute_reply": "2025-02-22T12:49:30.266984Z"
    },
    "papermill": {
     "duration": 0.01758,
     "end_time": "2025-02-22T12:49:30.269115",
     "exception": false,
     "start_time": "2025-02-22T12:49:30.251535",
     "status": "completed"
    },
    "tags": []
   },
   "outputs": [
    {
     "data": {
      "text/plain": [
       "((17177,), (17177,))"
      ]
     },
     "execution_count": 24,
     "metadata": {},
     "output_type": "execute_result"
    }
   ],
   "source": [
    "X_bal = np.hstack((X[y == 3], X_upsampled1, X_upsampled2, X_upsampled3, X_upsampled5))\n",
    "y_bal = np.hstack((y[y == 3], y_upsampled1, y_upsampled2, y_upsampled3, y_upsampled5))\n",
    "X_bal.shape, y_bal.shape"
   ]
  },
  {
   "cell_type": "code",
   "execution_count": 25,
   "id": "d4f84132",
   "metadata": {
    "execution": {
     "iopub.execute_input": "2025-02-22T12:49:30.287299Z",
     "iopub.status.busy": "2025-02-22T12:49:30.287091Z",
     "iopub.status.idle": "2025-02-22T12:49:54.456181Z",
     "shell.execute_reply": "2025-02-22T12:49:54.455176Z"
    },
    "papermill": {
     "duration": 24.17997,
     "end_time": "2025-02-22T12:49:54.457701",
     "exception": false,
     "start_time": "2025-02-22T12:49:30.277731",
     "status": "completed"
    },
    "tags": []
   },
   "outputs": [
    {
     "data": {
      "application/vnd.jupyter.widget-view+json": {
       "model_id": "b0d721fe5ef64c659a45a85b14b830f3",
       "version_major": 2,
       "version_minor": 0
      },
      "text/plain": [
       "tokenizer_config.json:   0%|          | 0.00/25.0 [00:00<?, ?B/s]"
      ]
     },
     "metadata": {},
     "output_type": "display_data"
    },
    {
     "data": {
      "application/vnd.jupyter.widget-view+json": {
       "model_id": "f3e452a328a54fe6a06166d595b10cd7",
       "version_major": 2,
       "version_minor": 0
      },
      "text/plain": [
       "vocab.json:   0%|          | 0.00/899k [00:00<?, ?B/s]"
      ]
     },
     "metadata": {},
     "output_type": "display_data"
    },
    {
     "data": {
      "application/vnd.jupyter.widget-view+json": {
       "model_id": "4ac36e9c6fff46c2b3327abe7a1a0ba4",
       "version_major": 2,
       "version_minor": 0
      },
      "text/plain": [
       "merges.txt:   0%|          | 0.00/456k [00:00<?, ?B/s]"
      ]
     },
     "metadata": {},
     "output_type": "display_data"
    },
    {
     "data": {
      "application/vnd.jupyter.widget-view+json": {
       "model_id": "f10fc8c2f0574c919ace40ecd1b9220a",
       "version_major": 2,
       "version_minor": 0
      },
      "text/plain": [
       "tokenizer.json:   0%|          | 0.00/1.36M [00:00<?, ?B/s]"
      ]
     },
     "metadata": {},
     "output_type": "display_data"
    },
    {
     "data": {
      "application/vnd.jupyter.widget-view+json": {
       "model_id": "522a7b5b740646788eb5c99f8d759afb",
       "version_major": 2,
       "version_minor": 0
      },
      "text/plain": [
       "config.json:   0%|          | 0.00/481 [00:00<?, ?B/s]"
      ]
     },
     "metadata": {},
     "output_type": "display_data"
    },
    {
     "name": "stdout",
     "output_type": "stream",
     "text": [
      "Train Input Shape: torch.Size([13741, 156])\n",
      "Train Label Shape: torch.Size([13741])\n"
     ]
    }
   ],
   "source": [
    "import torch\n",
    "import torch.nn as nn\n",
    "from transformers import DistilBertTokenizer\n",
    "from sklearn.model_selection import train_test_split\n",
    "import numpy as np\n",
    "from torch.utils.data import TensorDataset, DataLoader\n",
    "\n",
    "\n",
    "from transformers import RobertaTokenizer\n",
    "\n",
    "\n",
    "tokenizer = RobertaTokenizer.from_pretrained(\"roberta-base\")\n",
    "X = X_bal.tolist()\n",
    "y = y_bal.tolist()\n",
    "\n",
    "x_train, x_test, y_train, y_test = train_test_split(\n",
    "    X,  # Raw text list\n",
    "    y,  # Labels\n",
    "    test_size=0.2, \n",
    "    random_state=42,\n",
    "    stratify = y\n",
    ")\n",
    "\n",
    "train_encodings = tokenizer(x_train, padding=\"max_length\", truncation=True, max_length=156, return_tensors=\"pt\")\n",
    "test_encodings = tokenizer(x_test, padding=\"max_length\", truncation=True, max_length=156, return_tensors=\"pt\")\n",
    "\n",
    "y_train_tensor = torch.tensor(np.array(y_train).astype(np.float32))\n",
    "y_test_tensor = torch.tensor(np.array(y_test).astype(np.float32))\n",
    "\n",
    "train_dataset = TensorDataset(train_encodings[\"input_ids\"], train_encodings[\"attention_mask\"], y_train_tensor)\n",
    "val_dataset = TensorDataset(test_encodings[\"input_ids\"], test_encodings[\"attention_mask\"], y_test_tensor)\n",
    "\n",
    "train_dataloader = DataLoader(train_dataset, batch_size=16, shuffle=True, num_workers=4)\n",
    "val_dataloader = DataLoader(val_dataset, batch_size=16, shuffle=False, num_workers=4)\n",
    "\n",
    "print(\"Train Input Shape:\", train_encodings[\"input_ids\"].shape)  # (num_samples, max_length)\n",
    "print(\"Train Label Shape:\", y_train_tensor.shape)  # (num_samples,)\n"
   ]
  },
  {
   "cell_type": "code",
   "execution_count": 26,
   "id": "5a071802",
   "metadata": {
    "execution": {
     "iopub.execute_input": "2025-02-22T12:49:54.477741Z",
     "iopub.status.busy": "2025-02-22T12:49:54.477244Z",
     "iopub.status.idle": "2025-02-22T12:50:11.937323Z",
     "shell.execute_reply": "2025-02-22T12:50:11.936404Z"
    },
    "papermill": {
     "duration": 17.471205,
     "end_time": "2025-02-22T12:50:11.938706",
     "exception": false,
     "start_time": "2025-02-22T12:49:54.467501",
     "status": "completed"
    },
    "tags": []
   },
   "outputs": [
    {
     "data": {
      "application/vnd.jupyter.widget-view+json": {
       "model_id": "edd1c9b7b29443a69202ea8cb8ee6100",
       "version_major": 2,
       "version_minor": 0
      },
      "text/plain": [
       "model.safetensors:   0%|          | 0.00/499M [00:00<?, ?B/s]"
      ]
     },
     "metadata": {},
     "output_type": "display_data"
    },
    {
     "name": "stderr",
     "output_type": "stream",
     "text": [
      "Some weights of RobertaForSequenceClassification were not initialized from the model checkpoint at roberta-base and are newly initialized: ['classifier.dense.bias', 'classifier.dense.weight', 'classifier.out_proj.bias', 'classifier.out_proj.weight']\n",
      "You should probably TRAIN this model on a down-stream task to be able to use it for predictions and inference.\n"
     ]
    },
    {
     "data": {
      "text/plain": [
       "device(type='cuda')"
      ]
     },
     "execution_count": 26,
     "metadata": {},
     "output_type": "execute_result"
    }
   ],
   "source": [
    "from transformers import DistilBertTokenizer, DistilBertForSequenceClassification\n",
    "from torch.optim.lr_scheduler import ReduceLROnPlateau\n",
    "\n",
    "device = torch.device(\"cuda\" if torch.cuda.is_available() else \"cpu\")\n",
    "\n",
    "#model = DistilBertForSequenceClassification.from_pretrained(\"distilbert-base-uncased\", num_labels=5) \n",
    "from transformers import RobertaForSequenceClassification\n",
    "\n",
    "model = RobertaForSequenceClassification.from_pretrained(\"roberta-base\", num_labels=5)\n",
    "model.to(device)\n",
    "\n",
    "model.to(device)\n",
    "\n",
    "criterion = nn.CrossEntropyLoss()\n",
    "\n",
    "optimizer = torch.optim.AdamW(model.parameters(), lr=1e-5, weight_decay=0.01)\n",
    "scheduler = ReduceLROnPlateau(optimizer, mode='min', factor=0.5, patience=3, verbose=True)\n",
    "\n",
    "device"
   ]
  },
  {
   "cell_type": "code",
   "execution_count": 27,
   "id": "848a3339",
   "metadata": {
    "execution": {
     "iopub.execute_input": "2025-02-22T12:50:11.960190Z",
     "iopub.status.busy": "2025-02-22T12:50:11.959631Z",
     "iopub.status.idle": "2025-02-22T13:06:26.573148Z",
     "shell.execute_reply": "2025-02-22T13:06:26.572052Z"
    },
    "papermill": {
     "duration": 974.941111,
     "end_time": "2025-02-22T13:06:26.890321",
     "exception": false,
     "start_time": "2025-02-22T12:50:11.949210",
     "status": "completed"
    },
    "tags": []
   },
   "outputs": [
    {
     "name": "stderr",
     "output_type": "stream",
     "text": [
      "Epoch 1/4: 100%|██████████| 859/859 [03:47<00:00,  3.77it/s, acc=0.529, loss=1.14]\n"
     ]
    },
    {
     "name": "stdout",
     "output_type": "stream",
     "text": [
      "\n",
      "Epoch 1: Train Loss: 1.0664, Train Acc: 0.5293, Val Loss: 0.8058, Val Acc: 0.6525\n",
      "\n"
     ]
    },
    {
     "name": "stderr",
     "output_type": "stream",
     "text": [
      "Epoch 2/4: 100%|██████████| 859/859 [03:47<00:00,  3.78it/s, acc=0.704, loss=0.714]\n"
     ]
    },
    {
     "name": "stdout",
     "output_type": "stream",
     "text": [
      "\n",
      "Epoch 2: Train Loss: 0.7154, Train Acc: 0.7042, Val Loss: 0.6317, Val Acc: 0.7497\n",
      "\n"
     ]
    },
    {
     "name": "stderr",
     "output_type": "stream",
     "text": [
      "Epoch 3/4: 100%|██████████| 859/859 [03:47<00:00,  3.78it/s, acc=0.789, loss=0.377]\n"
     ]
    },
    {
     "name": "stdout",
     "output_type": "stream",
     "text": [
      "\n",
      "Epoch 3: Train Loss: 0.5178, Train Acc: 0.7892, Val Loss: 0.5790, Val Acc: 0.7744\n",
      "\n"
     ]
    },
    {
     "name": "stderr",
     "output_type": "stream",
     "text": [
      "Epoch 4/4: 100%|██████████| 859/859 [03:47<00:00,  3.78it/s, acc=0.844, loss=0.288]\n"
     ]
    },
    {
     "name": "stdout",
     "output_type": "stream",
     "text": [
      "\n",
      "Epoch 4: Train Loss: 0.3851, Train Acc: 0.8444, Val Loss: 0.5382, Val Acc: 0.8149\n",
      "\n"
     ]
    }
   ],
   "source": [
    "import torch\n",
    "import torch.nn as nn\n",
    "from tqdm import tqdm\n",
    "\n",
    "num_epochs = 4\n",
    "\n",
    "for epoch in range(num_epochs):  \n",
    "    model.train()\n",
    "    total_train_loss = 0\n",
    "    correct_train = 0\n",
    "    total_train = 0\n",
    "\n",
    "    # tqdm để hiển thị progress bar\n",
    "    loop = tqdm(train_dataloader, desc=f\"Epoch {epoch+1}/{num_epochs}\", leave=True)\n",
    "\n",
    "    for batch in loop:\n",
    "        inputs, masks, labels = batch\n",
    "        inputs, masks, labels = inputs.to(device), masks.to(device), labels.to(device)\n",
    "\n",
    "        # Đảm bảo labels có đúng kiểu dữ liệu\n",
    "        labels = labels.to(torch.long)\n",
    "\n",
    "        optimizer.zero_grad()\n",
    "        outputs = model(input_ids=inputs, attention_mask=masks).logits  # Không cần squeeze()\n",
    "\n",
    "        loss = criterion(outputs, labels)  # CrossEntropyLoss tự động xử lý softmax\n",
    "        loss.backward()\n",
    "        optimizer.step()\n",
    "\n",
    "        total_train_loss += loss.item()\n",
    "\n",
    "        # Sử dụng logits trực tiếp mà không cần softmax()\n",
    "        preds = torch.argmax(outputs, dim=1)  \n",
    "        correct_train += (preds == labels).sum().item()\n",
    "        total_train += labels.size(0)\n",
    "\n",
    "        # Cập nhật progress bar\n",
    "        loop.set_postfix(loss=loss.item(), acc=correct_train/total_train)\n",
    "\n",
    "    train_loss = total_train_loss / len(train_dataloader)\n",
    "    train_acc = correct_train / total_train\n",
    "\n",
    "    # ================== Validation ===================\n",
    "    model.eval()\n",
    "    total_val_loss = 0\n",
    "    correct_val = 0\n",
    "    total_val = 0\n",
    "\n",
    "    with torch.no_grad():\n",
    "        for batch in val_dataloader:\n",
    "            inputs, masks, labels = batch\n",
    "            inputs, masks, labels = inputs.to(device), masks.to(device), labels.to(device)\n",
    "\n",
    "            labels = labels.to(torch.long)  # Đảm bảo kiểu đúng\n",
    "\n",
    "            outputs = model(input_ids=inputs, attention_mask=masks).logits\n",
    "            loss = criterion(outputs, labels)\n",
    "\n",
    "            total_val_loss += loss.item()\n",
    "\n",
    "            preds = torch.argmax(outputs, dim=1)  \n",
    "            correct_val += (preds == labels).sum().item()\n",
    "            total_val += labels.size(0)\n",
    "\n",
    "    val_loss = total_val_loss / len(val_dataloader)\n",
    "    val_acc = correct_val / total_val\n",
    "    scheduler.step(val_loss)\n",
    "\n",
    "    print(f\"\\nEpoch {epoch+1}: Train Loss: {train_loss:.4f}, Train Acc: {train_acc:.4f}, Val Loss: {val_loss:.4f}, Val Acc: {val_acc:.4f}\\n\")\n"
   ]
  },
  {
   "cell_type": "code",
   "execution_count": 28,
   "id": "b3bdc8c0",
   "metadata": {
    "execution": {
     "iopub.execute_input": "2025-02-22T13:06:27.564029Z",
     "iopub.status.busy": "2025-02-22T13:06:27.563659Z",
     "iopub.status.idle": "2025-02-22T13:06:27.594082Z",
     "shell.execute_reply": "2025-02-22T13:06:27.593343Z"
    },
    "papermill": {
     "duration": 0.389274,
     "end_time": "2025-02-22T13:06:27.595323",
     "exception": false,
     "start_time": "2025-02-22T13:06:27.206049",
     "status": "completed"
    },
    "tags": []
   },
   "outputs": [
    {
     "name": "stdout",
     "output_type": "stream",
     "text": [
      "<class 'pandas.core.frame.DataFrame'>\n",
      "RangeIndex: 17177 entries, 0 to 17176\n",
      "Data columns (total 2 columns):\n",
      " #   Column  Non-Null Count  Dtype \n",
      "---  ------  --------------  ----- \n",
      " 0   text    17177 non-null  object\n",
      " 1   stars   17177 non-null  int64 \n",
      "dtypes: int64(1), object(1)\n",
      "memory usage: 268.5+ KB\n",
      "None\n"
     ]
    },
    {
     "data": {
      "text/html": [
       "<div>\n",
       "<style scoped>\n",
       "    .dataframe tbody tr th:only-of-type {\n",
       "        vertical-align: middle;\n",
       "    }\n",
       "\n",
       "    .dataframe tbody tr th {\n",
       "        vertical-align: top;\n",
       "    }\n",
       "\n",
       "    .dataframe thead th {\n",
       "        text-align: right;\n",
       "    }\n",
       "</style>\n",
       "<table border=\"1\" class=\"dataframe\">\n",
       "  <thead>\n",
       "    <tr style=\"text-align: right;\">\n",
       "      <th></th>\n",
       "      <th>text</th>\n",
       "      <th>stars</th>\n",
       "    </tr>\n",
       "  </thead>\n",
       "  <tbody>\n",
       "    <tr>\n",
       "      <th>0</th>\n",
       "      <td>love gyro plate rice good also dig candy selec...</td>\n",
       "      <td>3</td>\n",
       "    </tr>\n",
       "    <tr>\n",
       "      <th>1</th>\n",
       "      <td>quiessence simply put beautiful full window ea...</td>\n",
       "      <td>3</td>\n",
       "    </tr>\n",
       "    <tr>\n",
       "      <th>2</th>\n",
       "      <td>luckily not travel far make connect flight tha...</td>\n",
       "      <td>3</td>\n",
       "    </tr>\n",
       "    <tr>\n",
       "      <th>3</th>\n",
       "      <td>definitely come happy hour pric amaze sake bom...</td>\n",
       "      <td>3</td>\n",
       "    </tr>\n",
       "    <tr>\n",
       "      <th>4</th>\n",
       "      <td>good tattoo shop clean space multiple artist c...</td>\n",
       "      <td>3</td>\n",
       "    </tr>\n",
       "    <tr>\n",
       "      <th>...</th>\n",
       "      <td>...</td>\n",
       "      <td>...</td>\n",
       "    </tr>\n",
       "    <tr>\n",
       "      <th>17172</th>\n",
       "      <td>feel like neighborhood bistro much like on vis...</td>\n",
       "      <td>4</td>\n",
       "    </tr>\n",
       "    <tr>\n",
       "      <th>17173</th>\n",
       "      <td>lately addict good caprese style sandwich pane...</td>\n",
       "      <td>4</td>\n",
       "    </tr>\n",
       "    <tr>\n",
       "      <th>17174</th>\n",
       "      <td>largest urban park moreover urban part great 1...</td>\n",
       "      <td>4</td>\n",
       "    </tr>\n",
       "    <tr>\n",
       "      <th>17175</th>\n",
       "      <td>love place cultural experience think even mexi...</td>\n",
       "      <td>4</td>\n",
       "    </tr>\n",
       "    <tr>\n",
       "      <th>17176</th>\n",
       "      <td>came part trip apache trail &lt;UNK&gt; old daughter...</td>\n",
       "      <td>4</td>\n",
       "    </tr>\n",
       "  </tbody>\n",
       "</table>\n",
       "<p>17177 rows × 2 columns</p>\n",
       "</div>"
      ],
      "text/plain": [
       "                                                    text  stars\n",
       "0      love gyro plate rice good also dig candy selec...      3\n",
       "1      quiessence simply put beautiful full window ea...      3\n",
       "2      luckily not travel far make connect flight tha...      3\n",
       "3      definitely come happy hour pric amaze sake bom...      3\n",
       "4      good tattoo shop clean space multiple artist c...      3\n",
       "...                                                  ...    ...\n",
       "17172  feel like neighborhood bistro much like on vis...      4\n",
       "17173  lately addict good caprese style sandwich pane...      4\n",
       "17174  largest urban park moreover urban part great 1...      4\n",
       "17175  love place cultural experience think even mexi...      4\n",
       "17176  came part trip apache trail <UNK> old daughter...      4\n",
       "\n",
       "[17177 rows x 2 columns]"
      ]
     },
     "execution_count": 28,
     "metadata": {},
     "output_type": "execute_result"
    }
   ],
   "source": [
    "yelp = pd.DataFrame(X_bal,columns=[\"text\"])\n",
    "yelp2 = pd.DataFrame(y_bal,columns=[\"stars\"])\n",
    "yelp = yelp.join(yelp2)\n",
    "df = yelp.copy()\n",
    "print(df.info())\n",
    "df"
   ]
  },
  {
   "cell_type": "code",
   "execution_count": 29,
   "id": "771e4944",
   "metadata": {
    "execution": {
     "iopub.execute_input": "2025-02-22T13:06:28.227278Z",
     "iopub.status.busy": "2025-02-22T13:06:28.226952Z",
     "iopub.status.idle": "2025-02-22T13:06:29.528922Z",
     "shell.execute_reply": "2025-02-22T13:06:29.527943Z"
    },
    "papermill": {
     "duration": 1.62339,
     "end_time": "2025-02-22T13:06:29.530564",
     "exception": false,
     "start_time": "2025-02-22T13:06:27.907174",
     "status": "completed"
    },
    "tags": []
   },
   "outputs": [],
   "source": [
    "df.groupby(\"stars\").describe()\n",
    "X = df[\"text\"]\n",
    "y = df[\"stars\"]\n",
    "from sklearn.feature_extraction.text import CountVectorizer\n",
    "cv = CountVectorizer()\n",
    "\n",
    "X = cv.fit_transform(X)\n",
    "from sklearn.model_selection import train_test_split\n",
    "\n",
    "X_train, X_test, y_train, y_test = train_test_split(X, y, test_size=0.2, random_state=42)"
   ]
  },
  {
   "cell_type": "code",
   "execution_count": 30,
   "id": "403cba27",
   "metadata": {
    "execution": {
     "iopub.execute_input": "2025-02-22T13:06:30.201297Z",
     "iopub.status.busy": "2025-02-22T13:06:30.201002Z",
     "iopub.status.idle": "2025-02-22T13:06:30.417405Z",
     "shell.execute_reply": "2025-02-22T13:06:30.416435Z"
    },
    "papermill": {
     "duration": 0.576339,
     "end_time": "2025-02-22T13:06:30.418978",
     "exception": false,
     "start_time": "2025-02-22T13:06:29.842639",
     "status": "completed"
    },
    "tags": []
   },
   "outputs": [],
   "source": [
    "from sklearn.metrics import classification_report,confusion_matrix\n",
    "from sklearn.svm import SVC\n",
    "from sklearn.ensemble import RandomForestClassifier\n",
    "from math import sqrt\n",
    "from sklearn.metrics import mean_squared_error\n",
    "from sklearn.svm import LinearSVC\n",
    "def prediction(model, X_train, X_test, y_train, y_test):\n",
    "    model.fit(X_train, y_train)\n",
    "    predictions = model.predict(X_test)\n",
    "    print(classification_report(y_test,predictions))\n",
    "    print(confusion_matrix(y_test,predictions))\n"
   ]
  },
  {
   "cell_type": "code",
   "execution_count": 31,
   "id": "92f9bac3",
   "metadata": {
    "execution": {
     "iopub.execute_input": "2025-02-22T13:06:31.054053Z",
     "iopub.status.busy": "2025-02-22T13:06:31.053664Z",
     "iopub.status.idle": "2025-02-22T13:06:39.323201Z",
     "shell.execute_reply": "2025-02-22T13:06:39.322264Z"
    },
    "papermill": {
     "duration": 8.589339,
     "end_time": "2025-02-22T13:06:39.324495",
     "exception": false,
     "start_time": "2025-02-22T13:06:30.735156",
     "status": "completed"
    },
    "tags": []
   },
   "outputs": [
    {
     "name": "stdout",
     "output_type": "stream",
     "text": [
      "              precision    recall  f1-score   support\n",
      "\n",
      "           0       0.92      0.98      0.95       686\n",
      "           1       0.96      0.95      0.95       742\n",
      "           2       0.85      0.88      0.87       665\n",
      "           3       0.68      0.67      0.68       686\n",
      "           4       0.79      0.73      0.76       657\n",
      "\n",
      "    accuracy                           0.85      3436\n",
      "   macro avg       0.84      0.84      0.84      3436\n",
      "weighted avg       0.84      0.85      0.84      3436\n",
      "\n",
      "[[673   6   6   0   1]\n",
      " [ 14 708   7   7   6]\n",
      " [  8   6 584  60   7]\n",
      " [ 23  20  68 463 112]\n",
      " [ 10   1  19 148 479]]\n"
     ]
    }
   ],
   "source": [
    "prediction(RandomForestClassifier(n_estimators=40), X_train, X_test, y_train, y_test)\n"
   ]
  },
  {
   "cell_type": "code",
   "execution_count": 32,
   "id": "5c42dcdc",
   "metadata": {
    "execution": {
     "iopub.execute_input": "2025-02-22T13:06:39.999228Z",
     "iopub.status.busy": "2025-02-22T13:06:39.998859Z",
     "iopub.status.idle": "2025-02-22T13:08:23.080308Z",
     "shell.execute_reply": "2025-02-22T13:08:23.079468Z"
    },
    "papermill": {
     "duration": 103.712804,
     "end_time": "2025-02-22T13:08:23.399074",
     "exception": false,
     "start_time": "2025-02-22T13:06:39.686270",
     "status": "completed"
    },
    "tags": []
   },
   "outputs": [
    {
     "name": "stdout",
     "output_type": "stream",
     "text": [
      "              precision    recall  f1-score   support\n",
      "\n",
      "           0       0.90      0.96      0.93       686\n",
      "           1       0.90      0.88      0.89       742\n",
      "           2       0.81      0.76      0.79       665\n",
      "           3       0.62      0.59      0.60       686\n",
      "           4       0.67      0.71      0.69       657\n",
      "\n",
      "    accuracy                           0.78      3436\n",
      "   macro avg       0.78      0.78      0.78      3436\n",
      "weighted avg       0.78      0.78      0.78      3436\n",
      "\n",
      "[[658  15   2   2   9]\n",
      " [ 30 654  27  15  16]\n",
      " [ 21  23 507  70  44]\n",
      " [ 14  26  77 405 164]\n",
      " [  5   9  13 162 468]]\n"
     ]
    }
   ],
   "source": [
    "prediction(SVC(), X_train, X_test, y_train, y_test)"
   ]
  },
  {
   "cell_type": "code",
   "execution_count": null,
   "id": "84ec7702",
   "metadata": {
    "papermill": {
     "duration": 0.402389,
     "end_time": "2025-02-22T13:08:24.115245",
     "exception": false,
     "start_time": "2025-02-22T13:08:23.712856",
     "status": "completed"
    },
    "tags": []
   },
   "outputs": [],
   "source": []
  }
 ],
 "metadata": {
  "kaggle": {
   "accelerator": "gpu",
   "dataSources": [
    {
     "datasetId": 29760,
     "sourceId": 37927,
     "sourceType": "datasetVersion"
    }
   ],
   "dockerImageVersionId": 30919,
   "isGpuEnabled": true,
   "isInternetEnabled": true,
   "language": "python",
   "sourceType": "notebook"
  },
  "kernelspec": {
   "display_name": "Python 3",
   "language": "python",
   "name": "python3"
  },
  "language_info": {
   "codemirror_mode": {
    "name": "ipython",
    "version": 3
   },
   "file_extension": ".py",
   "mimetype": "text/x-python",
   "name": "python",
   "nbconvert_exporter": "python",
   "pygments_lexer": "ipython3",
   "version": "3.10.12"
  },
  "papermill": {
   "default_parameters": {},
   "duration": 1160.365434,
   "end_time": "2025-02-22T13:08:27.342856",
   "environment_variables": {},
   "exception": null,
   "input_path": "__notebook__.ipynb",
   "output_path": "__notebook__.ipynb",
   "parameters": {},
   "start_time": "2025-02-22T12:49:06.977422",
   "version": "2.6.0"
  },
  "widgets": {
   "application/vnd.jupyter.widget-state+json": {
    "state": {
     "00df50110d7b4847ac27079df59b1df7": {
      "model_module": "@jupyter-widgets/controls",
      "model_module_version": "2.0.0",
      "model_name": "HTMLModel",
      "state": {
       "_dom_classes": [],
       "_model_module": "@jupyter-widgets/controls",
       "_model_module_version": "2.0.0",
       "_model_name": "HTMLModel",
       "_view_count": null,
       "_view_module": "@jupyter-widgets/controls",
       "_view_module_version": "2.0.0",
       "_view_name": "HTMLView",
       "description": "",
       "description_allow_html": false,
       "layout": "IPY_MODEL_5c58db7ee3de49d6873f96ebc7c32659",
       "placeholder": "​",
       "style": "IPY_MODEL_ec37dbe364bc49fe981e4a84c7065cd4",
       "tabbable": null,
       "tooltip": null,
       "value": "tokenizer.json: 100%"
      }
     },
     "07b0288f328e42b584abdc5d395eb36a": {
      "model_module": "@jupyter-widgets/base",
      "model_module_version": "2.0.0",
      "model_name": "LayoutModel",
      "state": {
       "_model_module": "@jupyter-widgets/base",
       "_model_module_version": "2.0.0",
       "_model_name": "LayoutModel",
       "_view_count": null,
       "_view_module": "@jupyter-widgets/base",
       "_view_module_version": "2.0.0",
       "_view_name": "LayoutView",
       "align_content": null,
       "align_items": null,
       "align_self": null,
       "border_bottom": null,
       "border_left": null,
       "border_right": null,
       "border_top": null,
       "bottom": null,
       "display": null,
       "flex": null,
       "flex_flow": null,
       "grid_area": null,
       "grid_auto_columns": null,
       "grid_auto_flow": null,
       "grid_auto_rows": null,
       "grid_column": null,
       "grid_gap": null,
       "grid_row": null,
       "grid_template_areas": null,
       "grid_template_columns": null,
       "grid_template_rows": null,
       "height": null,
       "justify_content": null,
       "justify_items": null,
       "left": null,
       "margin": null,
       "max_height": null,
       "max_width": null,
       "min_height": null,
       "min_width": null,
       "object_fit": null,
       "object_position": null,
       "order": null,
       "overflow": null,
       "padding": null,
       "right": null,
       "top": null,
       "visibility": null,
       "width": null
      }
     },
     "0e7fb855c54f4ffea04eb505b0e329f7": {
      "model_module": "@jupyter-widgets/controls",
      "model_module_version": "2.0.0",
      "model_name": "HTMLModel",
      "state": {
       "_dom_classes": [],
       "_model_module": "@jupyter-widgets/controls",
       "_model_module_version": "2.0.0",
       "_model_name": "HTMLModel",
       "_view_count": null,
       "_view_module": "@jupyter-widgets/controls",
       "_view_module_version": "2.0.0",
       "_view_name": "HTMLView",
       "description": "",
       "description_allow_html": false,
       "layout": "IPY_MODEL_8ed0f9f950aa417889f52ac94565cc76",
       "placeholder": "​",
       "style": "IPY_MODEL_ec90823919f541099344c57ad08d39c6",
       "tabbable": null,
       "tooltip": null,
       "value": "vocab.json: 100%"
      }
     },
     "1bb06cd46d1c41bd8a2ff41f5735135e": {
      "model_module": "@jupyter-widgets/controls",
      "model_module_version": "2.0.0",
      "model_name": "HTMLModel",
      "state": {
       "_dom_classes": [],
       "_model_module": "@jupyter-widgets/controls",
       "_model_module_version": "2.0.0",
       "_model_name": "HTMLModel",
       "_view_count": null,
       "_view_module": "@jupyter-widgets/controls",
       "_view_module_version": "2.0.0",
       "_view_name": "HTMLView",
       "description": "",
       "description_allow_html": false,
       "layout": "IPY_MODEL_07b0288f328e42b584abdc5d395eb36a",
       "placeholder": "​",
       "style": "IPY_MODEL_8e12f1f9751f409c88e681a09ae98f59",
       "tabbable": null,
       "tooltip": null,
       "value": " 899k/899k [00:00&lt;00:00, 5.03MB/s]"
      }
     },
     "1db48a9f38224916a59df13b3410302e": {
      "model_module": "@jupyter-widgets/base",
      "model_module_version": "2.0.0",
      "model_name": "LayoutModel",
      "state": {
       "_model_module": "@jupyter-widgets/base",
       "_model_module_version": "2.0.0",
       "_model_name": "LayoutModel",
       "_view_count": null,
       "_view_module": "@jupyter-widgets/base",
       "_view_module_version": "2.0.0",
       "_view_name": "LayoutView",
       "align_content": null,
       "align_items": null,
       "align_self": null,
       "border_bottom": null,
       "border_left": null,
       "border_right": null,
       "border_top": null,
       "bottom": null,
       "display": null,
       "flex": null,
       "flex_flow": null,
       "grid_area": null,
       "grid_auto_columns": null,
       "grid_auto_flow": null,
       "grid_auto_rows": null,
       "grid_column": null,
       "grid_gap": null,
       "grid_row": null,
       "grid_template_areas": null,
       "grid_template_columns": null,
       "grid_template_rows": null,
       "height": null,
       "justify_content": null,
       "justify_items": null,
       "left": null,
       "margin": null,
       "max_height": null,
       "max_width": null,
       "min_height": null,
       "min_width": null,
       "object_fit": null,
       "object_position": null,
       "order": null,
       "overflow": null,
       "padding": null,
       "right": null,
       "top": null,
       "visibility": null,
       "width": null
      }
     },
     "20375d98d3a84a469606b6f3ddba7cf0": {
      "model_module": "@jupyter-widgets/controls",
      "model_module_version": "2.0.0",
      "model_name": "FloatProgressModel",
      "state": {
       "_dom_classes": [],
       "_model_module": "@jupyter-widgets/controls",
       "_model_module_version": "2.0.0",
       "_model_name": "FloatProgressModel",
       "_view_count": null,
       "_view_module": "@jupyter-widgets/controls",
       "_view_module_version": "2.0.0",
       "_view_name": "ProgressView",
       "bar_style": "success",
       "description": "",
       "description_allow_html": false,
       "layout": "IPY_MODEL_d7a136ecd4fc4bd4aceecaef28667b96",
       "max": 1355863.0,
       "min": 0.0,
       "orientation": "horizontal",
       "style": "IPY_MODEL_86bdf072152942cca80d8029747934fa",
       "tabbable": null,
       "tooltip": null,
       "value": 1355863.0
      }
     },
     "251303240c5448e398d56534b1dbfe71": {
      "model_module": "@jupyter-widgets/base",
      "model_module_version": "2.0.0",
      "model_name": "LayoutModel",
      "state": {
       "_model_module": "@jupyter-widgets/base",
       "_model_module_version": "2.0.0",
       "_model_name": "LayoutModel",
       "_view_count": null,
       "_view_module": "@jupyter-widgets/base",
       "_view_module_version": "2.0.0",
       "_view_name": "LayoutView",
       "align_content": null,
       "align_items": null,
       "align_self": null,
       "border_bottom": null,
       "border_left": null,
       "border_right": null,
       "border_top": null,
       "bottom": null,
       "display": null,
       "flex": null,
       "flex_flow": null,
       "grid_area": null,
       "grid_auto_columns": null,
       "grid_auto_flow": null,
       "grid_auto_rows": null,
       "grid_column": null,
       "grid_gap": null,
       "grid_row": null,
       "grid_template_areas": null,
       "grid_template_columns": null,
       "grid_template_rows": null,
       "height": null,
       "justify_content": null,
       "justify_items": null,
       "left": null,
       "margin": null,
       "max_height": null,
       "max_width": null,
       "min_height": null,
       "min_width": null,
       "object_fit": null,
       "object_position": null,
       "order": null,
       "overflow": null,
       "padding": null,
       "right": null,
       "top": null,
       "visibility": null,
       "width": null
      }
     },
     "25dcd2b679fc41d8bf69cfa97f692602": {
      "model_module": "@jupyter-widgets/base",
      "model_module_version": "2.0.0",
      "model_name": "LayoutModel",
      "state": {
       "_model_module": "@jupyter-widgets/base",
       "_model_module_version": "2.0.0",
       "_model_name": "LayoutModel",
       "_view_count": null,
       "_view_module": "@jupyter-widgets/base",
       "_view_module_version": "2.0.0",
       "_view_name": "LayoutView",
       "align_content": null,
       "align_items": null,
       "align_self": null,
       "border_bottom": null,
       "border_left": null,
       "border_right": null,
       "border_top": null,
       "bottom": null,
       "display": null,
       "flex": null,
       "flex_flow": null,
       "grid_area": null,
       "grid_auto_columns": null,
       "grid_auto_flow": null,
       "grid_auto_rows": null,
       "grid_column": null,
       "grid_gap": null,
       "grid_row": null,
       "grid_template_areas": null,
       "grid_template_columns": null,
       "grid_template_rows": null,
       "height": null,
       "justify_content": null,
       "justify_items": null,
       "left": null,
       "margin": null,
       "max_height": null,
       "max_width": null,
       "min_height": null,
       "min_width": null,
       "object_fit": null,
       "object_position": null,
       "order": null,
       "overflow": null,
       "padding": null,
       "right": null,
       "top": null,
       "visibility": null,
       "width": null
      }
     },
     "28e9c9d8c40b48a58fabc0cf318c652a": {
      "model_module": "@jupyter-widgets/controls",
      "model_module_version": "2.0.0",
      "model_name": "HTMLModel",
      "state": {
       "_dom_classes": [],
       "_model_module": "@jupyter-widgets/controls",
       "_model_module_version": "2.0.0",
       "_model_name": "HTMLModel",
       "_view_count": null,
       "_view_module": "@jupyter-widgets/controls",
       "_view_module_version": "2.0.0",
       "_view_name": "HTMLView",
       "description": "",
       "description_allow_html": false,
       "layout": "IPY_MODEL_de858ee1a7ed4d5f8279ebde155b4662",
       "placeholder": "​",
       "style": "IPY_MODEL_cfd25a9e4a774549b3bbf92edb4c2e55",
       "tabbable": null,
       "tooltip": null,
       "value": "merges.txt: 100%"
      }
     },
     "2a9c9a2f8c6d4d73b365937d15d2c707": {
      "model_module": "@jupyter-widgets/base",
      "model_module_version": "2.0.0",
      "model_name": "LayoutModel",
      "state": {
       "_model_module": "@jupyter-widgets/base",
       "_model_module_version": "2.0.0",
       "_model_name": "LayoutModel",
       "_view_count": null,
       "_view_module": "@jupyter-widgets/base",
       "_view_module_version": "2.0.0",
       "_view_name": "LayoutView",
       "align_content": null,
       "align_items": null,
       "align_self": null,
       "border_bottom": null,
       "border_left": null,
       "border_right": null,
       "border_top": null,
       "bottom": null,
       "display": null,
       "flex": null,
       "flex_flow": null,
       "grid_area": null,
       "grid_auto_columns": null,
       "grid_auto_flow": null,
       "grid_auto_rows": null,
       "grid_column": null,
       "grid_gap": null,
       "grid_row": null,
       "grid_template_areas": null,
       "grid_template_columns": null,
       "grid_template_rows": null,
       "height": null,
       "justify_content": null,
       "justify_items": null,
       "left": null,
       "margin": null,
       "max_height": null,
       "max_width": null,
       "min_height": null,
       "min_width": null,
       "object_fit": null,
       "object_position": null,
       "order": null,
       "overflow": null,
       "padding": null,
       "right": null,
       "top": null,
       "visibility": null,
       "width": null
      }
     },
     "2ec58cb91dd14b56a5a2ba55be99db43": {
      "model_module": "@jupyter-widgets/controls",
      "model_module_version": "2.0.0",
      "model_name": "HTMLModel",
      "state": {
       "_dom_classes": [],
       "_model_module": "@jupyter-widgets/controls",
       "_model_module_version": "2.0.0",
       "_model_name": "HTMLModel",
       "_view_count": null,
       "_view_module": "@jupyter-widgets/controls",
       "_view_module_version": "2.0.0",
       "_view_name": "HTMLView",
       "description": "",
       "description_allow_html": false,
       "layout": "IPY_MODEL_832314698c7c466f878dc6d6be26068e",
       "placeholder": "​",
       "style": "IPY_MODEL_f83df522f7164705aa50c65c864b4c46",
       "tabbable": null,
       "tooltip": null,
       "value": " 25.0/25.0 [00:00&lt;00:00, 2.39kB/s]"
      }
     },
     "3285cdecb94a43e984adcc2e8de29436": {
      "model_module": "@jupyter-widgets/base",
      "model_module_version": "2.0.0",
      "model_name": "LayoutModel",
      "state": {
       "_model_module": "@jupyter-widgets/base",
       "_model_module_version": "2.0.0",
       "_model_name": "LayoutModel",
       "_view_count": null,
       "_view_module": "@jupyter-widgets/base",
       "_view_module_version": "2.0.0",
       "_view_name": "LayoutView",
       "align_content": null,
       "align_items": null,
       "align_self": null,
       "border_bottom": null,
       "border_left": null,
       "border_right": null,
       "border_top": null,
       "bottom": null,
       "display": null,
       "flex": null,
       "flex_flow": null,
       "grid_area": null,
       "grid_auto_columns": null,
       "grid_auto_flow": null,
       "grid_auto_rows": null,
       "grid_column": null,
       "grid_gap": null,
       "grid_row": null,
       "grid_template_areas": null,
       "grid_template_columns": null,
       "grid_template_rows": null,
       "height": null,
       "justify_content": null,
       "justify_items": null,
       "left": null,
       "margin": null,
       "max_height": null,
       "max_width": null,
       "min_height": null,
       "min_width": null,
       "object_fit": null,
       "object_position": null,
       "order": null,
       "overflow": null,
       "padding": null,
       "right": null,
       "top": null,
       "visibility": null,
       "width": null
      }
     },
     "338c18f9ef1a40a693dd11e981911be1": {
      "model_module": "@jupyter-widgets/base",
      "model_module_version": "2.0.0",
      "model_name": "LayoutModel",
      "state": {
       "_model_module": "@jupyter-widgets/base",
       "_model_module_version": "2.0.0",
       "_model_name": "LayoutModel",
       "_view_count": null,
       "_view_module": "@jupyter-widgets/base",
       "_view_module_version": "2.0.0",
       "_view_name": "LayoutView",
       "align_content": null,
       "align_items": null,
       "align_self": null,
       "border_bottom": null,
       "border_left": null,
       "border_right": null,
       "border_top": null,
       "bottom": null,
       "display": null,
       "flex": null,
       "flex_flow": null,
       "grid_area": null,
       "grid_auto_columns": null,
       "grid_auto_flow": null,
       "grid_auto_rows": null,
       "grid_column": null,
       "grid_gap": null,
       "grid_row": null,
       "grid_template_areas": null,
       "grid_template_columns": null,
       "grid_template_rows": null,
       "height": null,
       "justify_content": null,
       "justify_items": null,
       "left": null,
       "margin": null,
       "max_height": null,
       "max_width": null,
       "min_height": null,
       "min_width": null,
       "object_fit": null,
       "object_position": null,
       "order": null,
       "overflow": null,
       "padding": null,
       "right": null,
       "top": null,
       "visibility": null,
       "width": null
      }
     },
     "37f74461dda54036b1f7d89b89de4583": {
      "model_module": "@jupyter-widgets/controls",
      "model_module_version": "2.0.0",
      "model_name": "FloatProgressModel",
      "state": {
       "_dom_classes": [],
       "_model_module": "@jupyter-widgets/controls",
       "_model_module_version": "2.0.0",
       "_model_name": "FloatProgressModel",
       "_view_count": null,
       "_view_module": "@jupyter-widgets/controls",
       "_view_module_version": "2.0.0",
       "_view_name": "ProgressView",
       "bar_style": "success",
       "description": "",
       "description_allow_html": false,
       "layout": "IPY_MODEL_72b7a729c9a34a7f8bd8a703a76f2811",
       "max": 481.0,
       "min": 0.0,
       "orientation": "horizontal",
       "style": "IPY_MODEL_6f7ac77b43f64234a914ccd85e7401b2",
       "tabbable": null,
       "tooltip": null,
       "value": 481.0
      }
     },
     "4ac36e9c6fff46c2b3327abe7a1a0ba4": {
      "model_module": "@jupyter-widgets/controls",
      "model_module_version": "2.0.0",
      "model_name": "HBoxModel",
      "state": {
       "_dom_classes": [],
       "_model_module": "@jupyter-widgets/controls",
       "_model_module_version": "2.0.0",
       "_model_name": "HBoxModel",
       "_view_count": null,
       "_view_module": "@jupyter-widgets/controls",
       "_view_module_version": "2.0.0",
       "_view_name": "HBoxView",
       "box_style": "",
       "children": [
        "IPY_MODEL_28e9c9d8c40b48a58fabc0cf318c652a",
        "IPY_MODEL_f23e11572ffd4683a155233049ffaa1e",
        "IPY_MODEL_f8ea606169c24fea968fd9299657b420"
       ],
       "layout": "IPY_MODEL_fb0a5a69fbe84d1a907018127178d910",
       "tabbable": null,
       "tooltip": null
      }
     },
     "510f1df071fe4286b0065cc780ae5782": {
      "model_module": "@jupyter-widgets/controls",
      "model_module_version": "2.0.0",
      "model_name": "HTMLStyleModel",
      "state": {
       "_model_module": "@jupyter-widgets/controls",
       "_model_module_version": "2.0.0",
       "_model_name": "HTMLStyleModel",
       "_view_count": null,
       "_view_module": "@jupyter-widgets/base",
       "_view_module_version": "2.0.0",
       "_view_name": "StyleView",
       "background": null,
       "description_width": "",
       "font_size": null,
       "text_color": null
      }
     },
     "513a9d617a834ee9bf0b112c0b8f4510": {
      "model_module": "@jupyter-widgets/controls",
      "model_module_version": "2.0.0",
      "model_name": "FloatProgressModel",
      "state": {
       "_dom_classes": [],
       "_model_module": "@jupyter-widgets/controls",
       "_model_module_version": "2.0.0",
       "_model_name": "FloatProgressModel",
       "_view_count": null,
       "_view_module": "@jupyter-widgets/controls",
       "_view_module_version": "2.0.0",
       "_view_name": "ProgressView",
       "bar_style": "success",
       "description": "",
       "description_allow_html": false,
       "layout": "IPY_MODEL_f980a2cdc90d4264b2dd36176ca33732",
       "max": 898823.0,
       "min": 0.0,
       "orientation": "horizontal",
       "style": "IPY_MODEL_bb7c908477b748e997f4f044c8aec8b5",
       "tabbable": null,
       "tooltip": null,
       "value": 898823.0
      }
     },
     "522a7b5b740646788eb5c99f8d759afb": {
      "model_module": "@jupyter-widgets/controls",
      "model_module_version": "2.0.0",
      "model_name": "HBoxModel",
      "state": {
       "_dom_classes": [],
       "_model_module": "@jupyter-widgets/controls",
       "_model_module_version": "2.0.0",
       "_model_name": "HBoxModel",
       "_view_count": null,
       "_view_module": "@jupyter-widgets/controls",
       "_view_module_version": "2.0.0",
       "_view_name": "HBoxView",
       "box_style": "",
       "children": [
        "IPY_MODEL_81570f2784ba4a6383611dd98852a289",
        "IPY_MODEL_37f74461dda54036b1f7d89b89de4583",
        "IPY_MODEL_df3025b617f94466a0bf61d534b54712"
       ],
       "layout": "IPY_MODEL_b022dd70ce39450aaccfb06b3ef24a8c",
       "tabbable": null,
       "tooltip": null
      }
     },
     "5bad795daf3041aba1635111a6fca4cc": {
      "model_module": "@jupyter-widgets/base",
      "model_module_version": "2.0.0",
      "model_name": "LayoutModel",
      "state": {
       "_model_module": "@jupyter-widgets/base",
       "_model_module_version": "2.0.0",
       "_model_name": "LayoutModel",
       "_view_count": null,
       "_view_module": "@jupyter-widgets/base",
       "_view_module_version": "2.0.0",
       "_view_name": "LayoutView",
       "align_content": null,
       "align_items": null,
       "align_self": null,
       "border_bottom": null,
       "border_left": null,
       "border_right": null,
       "border_top": null,
       "bottom": null,
       "display": null,
       "flex": null,
       "flex_flow": null,
       "grid_area": null,
       "grid_auto_columns": null,
       "grid_auto_flow": null,
       "grid_auto_rows": null,
       "grid_column": null,
       "grid_gap": null,
       "grid_row": null,
       "grid_template_areas": null,
       "grid_template_columns": null,
       "grid_template_rows": null,
       "height": null,
       "justify_content": null,
       "justify_items": null,
       "left": null,
       "margin": null,
       "max_height": null,
       "max_width": null,
       "min_height": null,
       "min_width": null,
       "object_fit": null,
       "object_position": null,
       "order": null,
       "overflow": null,
       "padding": null,
       "right": null,
       "top": null,
       "visibility": null,
       "width": null
      }
     },
     "5c58db7ee3de49d6873f96ebc7c32659": {
      "model_module": "@jupyter-widgets/base",
      "model_module_version": "2.0.0",
      "model_name": "LayoutModel",
      "state": {
       "_model_module": "@jupyter-widgets/base",
       "_model_module_version": "2.0.0",
       "_model_name": "LayoutModel",
       "_view_count": null,
       "_view_module": "@jupyter-widgets/base",
       "_view_module_version": "2.0.0",
       "_view_name": "LayoutView",
       "align_content": null,
       "align_items": null,
       "align_self": null,
       "border_bottom": null,
       "border_left": null,
       "border_right": null,
       "border_top": null,
       "bottom": null,
       "display": null,
       "flex": null,
       "flex_flow": null,
       "grid_area": null,
       "grid_auto_columns": null,
       "grid_auto_flow": null,
       "grid_auto_rows": null,
       "grid_column": null,
       "grid_gap": null,
       "grid_row": null,
       "grid_template_areas": null,
       "grid_template_columns": null,
       "grid_template_rows": null,
       "height": null,
       "justify_content": null,
       "justify_items": null,
       "left": null,
       "margin": null,
       "max_height": null,
       "max_width": null,
       "min_height": null,
       "min_width": null,
       "object_fit": null,
       "object_position": null,
       "order": null,
       "overflow": null,
       "padding": null,
       "right": null,
       "top": null,
       "visibility": null,
       "width": null
      }
     },
     "6d238748eec340c9b2d17a99d3a791e6": {
      "model_module": "@jupyter-widgets/controls",
      "model_module_version": "2.0.0",
      "model_name": "HTMLStyleModel",
      "state": {
       "_model_module": "@jupyter-widgets/controls",
       "_model_module_version": "2.0.0",
       "_model_name": "HTMLStyleModel",
       "_view_count": null,
       "_view_module": "@jupyter-widgets/base",
       "_view_module_version": "2.0.0",
       "_view_name": "StyleView",
       "background": null,
       "description_width": "",
       "font_size": null,
       "text_color": null
      }
     },
     "6f7ac77b43f64234a914ccd85e7401b2": {
      "model_module": "@jupyter-widgets/controls",
      "model_module_version": "2.0.0",
      "model_name": "ProgressStyleModel",
      "state": {
       "_model_module": "@jupyter-widgets/controls",
       "_model_module_version": "2.0.0",
       "_model_name": "ProgressStyleModel",
       "_view_count": null,
       "_view_module": "@jupyter-widgets/base",
       "_view_module_version": "2.0.0",
       "_view_name": "StyleView",
       "bar_color": null,
       "description_width": ""
      }
     },
     "72b7a729c9a34a7f8bd8a703a76f2811": {
      "model_module": "@jupyter-widgets/base",
      "model_module_version": "2.0.0",
      "model_name": "LayoutModel",
      "state": {
       "_model_module": "@jupyter-widgets/base",
       "_model_module_version": "2.0.0",
       "_model_name": "LayoutModel",
       "_view_count": null,
       "_view_module": "@jupyter-widgets/base",
       "_view_module_version": "2.0.0",
       "_view_name": "LayoutView",
       "align_content": null,
       "align_items": null,
       "align_self": null,
       "border_bottom": null,
       "border_left": null,
       "border_right": null,
       "border_top": null,
       "bottom": null,
       "display": null,
       "flex": null,
       "flex_flow": null,
       "grid_area": null,
       "grid_auto_columns": null,
       "grid_auto_flow": null,
       "grid_auto_rows": null,
       "grid_column": null,
       "grid_gap": null,
       "grid_row": null,
       "grid_template_areas": null,
       "grid_template_columns": null,
       "grid_template_rows": null,
       "height": null,
       "justify_content": null,
       "justify_items": null,
       "left": null,
       "margin": null,
       "max_height": null,
       "max_width": null,
       "min_height": null,
       "min_width": null,
       "object_fit": null,
       "object_position": null,
       "order": null,
       "overflow": null,
       "padding": null,
       "right": null,
       "top": null,
       "visibility": null,
       "width": null
      }
     },
     "7d4cdc93c67d4eba9fc696e1fbaf8700": {
      "model_module": "@jupyter-widgets/controls",
      "model_module_version": "2.0.0",
      "model_name": "HTMLStyleModel",
      "state": {
       "_model_module": "@jupyter-widgets/controls",
       "_model_module_version": "2.0.0",
       "_model_name": "HTMLStyleModel",
       "_view_count": null,
       "_view_module": "@jupyter-widgets/base",
       "_view_module_version": "2.0.0",
       "_view_name": "StyleView",
       "background": null,
       "description_width": "",
       "font_size": null,
       "text_color": null
      }
     },
     "81570f2784ba4a6383611dd98852a289": {
      "model_module": "@jupyter-widgets/controls",
      "model_module_version": "2.0.0",
      "model_name": "HTMLModel",
      "state": {
       "_dom_classes": [],
       "_model_module": "@jupyter-widgets/controls",
       "_model_module_version": "2.0.0",
       "_model_name": "HTMLModel",
       "_view_count": null,
       "_view_module": "@jupyter-widgets/controls",
       "_view_module_version": "2.0.0",
       "_view_name": "HTMLView",
       "description": "",
       "description_allow_html": false,
       "layout": "IPY_MODEL_338c18f9ef1a40a693dd11e981911be1",
       "placeholder": "​",
       "style": "IPY_MODEL_dd9fcddcca244a3ea816be0c10f08161",
       "tabbable": null,
       "tooltip": null,
       "value": "config.json: 100%"
      }
     },
     "832314698c7c466f878dc6d6be26068e": {
      "model_module": "@jupyter-widgets/base",
      "model_module_version": "2.0.0",
      "model_name": "LayoutModel",
      "state": {
       "_model_module": "@jupyter-widgets/base",
       "_model_module_version": "2.0.0",
       "_model_name": "LayoutModel",
       "_view_count": null,
       "_view_module": "@jupyter-widgets/base",
       "_view_module_version": "2.0.0",
       "_view_name": "LayoutView",
       "align_content": null,
       "align_items": null,
       "align_self": null,
       "border_bottom": null,
       "border_left": null,
       "border_right": null,
       "border_top": null,
       "bottom": null,
       "display": null,
       "flex": null,
       "flex_flow": null,
       "grid_area": null,
       "grid_auto_columns": null,
       "grid_auto_flow": null,
       "grid_auto_rows": null,
       "grid_column": null,
       "grid_gap": null,
       "grid_row": null,
       "grid_template_areas": null,
       "grid_template_columns": null,
       "grid_template_rows": null,
       "height": null,
       "justify_content": null,
       "justify_items": null,
       "left": null,
       "margin": null,
       "max_height": null,
       "max_width": null,
       "min_height": null,
       "min_width": null,
       "object_fit": null,
       "object_position": null,
       "order": null,
       "overflow": null,
       "padding": null,
       "right": null,
       "top": null,
       "visibility": null,
       "width": null
      }
     },
     "86bdf072152942cca80d8029747934fa": {
      "model_module": "@jupyter-widgets/controls",
      "model_module_version": "2.0.0",
      "model_name": "ProgressStyleModel",
      "state": {
       "_model_module": "@jupyter-widgets/controls",
       "_model_module_version": "2.0.0",
       "_model_name": "ProgressStyleModel",
       "_view_count": null,
       "_view_module": "@jupyter-widgets/base",
       "_view_module_version": "2.0.0",
       "_view_name": "StyleView",
       "bar_color": null,
       "description_width": ""
      }
     },
     "8e12f1f9751f409c88e681a09ae98f59": {
      "model_module": "@jupyter-widgets/controls",
      "model_module_version": "2.0.0",
      "model_name": "HTMLStyleModel",
      "state": {
       "_model_module": "@jupyter-widgets/controls",
       "_model_module_version": "2.0.0",
       "_model_name": "HTMLStyleModel",
       "_view_count": null,
       "_view_module": "@jupyter-widgets/base",
       "_view_module_version": "2.0.0",
       "_view_name": "StyleView",
       "background": null,
       "description_width": "",
       "font_size": null,
       "text_color": null
      }
     },
     "8e1e95308987468eb1a69633e1e15449": {
      "model_module": "@jupyter-widgets/controls",
      "model_module_version": "2.0.0",
      "model_name": "HTMLModel",
      "state": {
       "_dom_classes": [],
       "_model_module": "@jupyter-widgets/controls",
       "_model_module_version": "2.0.0",
       "_model_name": "HTMLModel",
       "_view_count": null,
       "_view_module": "@jupyter-widgets/controls",
       "_view_module_version": "2.0.0",
       "_view_name": "HTMLView",
       "description": "",
       "description_allow_html": false,
       "layout": "IPY_MODEL_cb75b8fe5ffa4bc8bdf7c13f8b0535b4",
       "placeholder": "​",
       "style": "IPY_MODEL_6d238748eec340c9b2d17a99d3a791e6",
       "tabbable": null,
       "tooltip": null,
       "value": " 1.36M/1.36M [00:00&lt;00:00, 7.80MB/s]"
      }
     },
     "8ed0f9f950aa417889f52ac94565cc76": {
      "model_module": "@jupyter-widgets/base",
      "model_module_version": "2.0.0",
      "model_name": "LayoutModel",
      "state": {
       "_model_module": "@jupyter-widgets/base",
       "_model_module_version": "2.0.0",
       "_model_name": "LayoutModel",
       "_view_count": null,
       "_view_module": "@jupyter-widgets/base",
       "_view_module_version": "2.0.0",
       "_view_name": "LayoutView",
       "align_content": null,
       "align_items": null,
       "align_self": null,
       "border_bottom": null,
       "border_left": null,
       "border_right": null,
       "border_top": null,
       "bottom": null,
       "display": null,
       "flex": null,
       "flex_flow": null,
       "grid_area": null,
       "grid_auto_columns": null,
       "grid_auto_flow": null,
       "grid_auto_rows": null,
       "grid_column": null,
       "grid_gap": null,
       "grid_row": null,
       "grid_template_areas": null,
       "grid_template_columns": null,
       "grid_template_rows": null,
       "height": null,
       "justify_content": null,
       "justify_items": null,
       "left": null,
       "margin": null,
       "max_height": null,
       "max_width": null,
       "min_height": null,
       "min_width": null,
       "object_fit": null,
       "object_position": null,
       "order": null,
       "overflow": null,
       "padding": null,
       "right": null,
       "top": null,
       "visibility": null,
       "width": null
      }
     },
     "91ae3d21a9974232a00eedb898421365": {
      "model_module": "@jupyter-widgets/base",
      "model_module_version": "2.0.0",
      "model_name": "LayoutModel",
      "state": {
       "_model_module": "@jupyter-widgets/base",
       "_model_module_version": "2.0.0",
       "_model_name": "LayoutModel",
       "_view_count": null,
       "_view_module": "@jupyter-widgets/base",
       "_view_module_version": "2.0.0",
       "_view_name": "LayoutView",
       "align_content": null,
       "align_items": null,
       "align_self": null,
       "border_bottom": null,
       "border_left": null,
       "border_right": null,
       "border_top": null,
       "bottom": null,
       "display": null,
       "flex": null,
       "flex_flow": null,
       "grid_area": null,
       "grid_auto_columns": null,
       "grid_auto_flow": null,
       "grid_auto_rows": null,
       "grid_column": null,
       "grid_gap": null,
       "grid_row": null,
       "grid_template_areas": null,
       "grid_template_columns": null,
       "grid_template_rows": null,
       "height": null,
       "justify_content": null,
       "justify_items": null,
       "left": null,
       "margin": null,
       "max_height": null,
       "max_width": null,
       "min_height": null,
       "min_width": null,
       "object_fit": null,
       "object_position": null,
       "order": null,
       "overflow": null,
       "padding": null,
       "right": null,
       "top": null,
       "visibility": null,
       "width": null
      }
     },
     "965386607ca2441b8d156e6b96b6dae0": {
      "model_module": "@jupyter-widgets/base",
      "model_module_version": "2.0.0",
      "model_name": "LayoutModel",
      "state": {
       "_model_module": "@jupyter-widgets/base",
       "_model_module_version": "2.0.0",
       "_model_name": "LayoutModel",
       "_view_count": null,
       "_view_module": "@jupyter-widgets/base",
       "_view_module_version": "2.0.0",
       "_view_name": "LayoutView",
       "align_content": null,
       "align_items": null,
       "align_self": null,
       "border_bottom": null,
       "border_left": null,
       "border_right": null,
       "border_top": null,
       "bottom": null,
       "display": null,
       "flex": null,
       "flex_flow": null,
       "grid_area": null,
       "grid_auto_columns": null,
       "grid_auto_flow": null,
       "grid_auto_rows": null,
       "grid_column": null,
       "grid_gap": null,
       "grid_row": null,
       "grid_template_areas": null,
       "grid_template_columns": null,
       "grid_template_rows": null,
       "height": null,
       "justify_content": null,
       "justify_items": null,
       "left": null,
       "margin": null,
       "max_height": null,
       "max_width": null,
       "min_height": null,
       "min_width": null,
       "object_fit": null,
       "object_position": null,
       "order": null,
       "overflow": null,
       "padding": null,
       "right": null,
       "top": null,
       "visibility": null,
       "width": null
      }
     },
     "9a05e8c98d1e441cbff7e095f789d886": {
      "model_module": "@jupyter-widgets/controls",
      "model_module_version": "2.0.0",
      "model_name": "HTMLStyleModel",
      "state": {
       "_model_module": "@jupyter-widgets/controls",
       "_model_module_version": "2.0.0",
       "_model_name": "HTMLStyleModel",
       "_view_count": null,
       "_view_module": "@jupyter-widgets/base",
       "_view_module_version": "2.0.0",
       "_view_name": "StyleView",
       "background": null,
       "description_width": "",
       "font_size": null,
       "text_color": null
      }
     },
     "a3b66a2823294609b258e24f1a06e671": {
      "model_module": "@jupyter-widgets/controls",
      "model_module_version": "2.0.0",
      "model_name": "FloatProgressModel",
      "state": {
       "_dom_classes": [],
       "_model_module": "@jupyter-widgets/controls",
       "_model_module_version": "2.0.0",
       "_model_name": "FloatProgressModel",
       "_view_count": null,
       "_view_module": "@jupyter-widgets/controls",
       "_view_module_version": "2.0.0",
       "_view_name": "ProgressView",
       "bar_style": "success",
       "description": "",
       "description_allow_html": false,
       "layout": "IPY_MODEL_91ae3d21a9974232a00eedb898421365",
       "max": 25.0,
       "min": 0.0,
       "orientation": "horizontal",
       "style": "IPY_MODEL_f4441348b8ce4fbbb00b1177cd26a42b",
       "tabbable": null,
       "tooltip": null,
       "value": 25.0
      }
     },
     "a8e560dfb4bf4499bc460ef5c1012dec": {
      "model_module": "@jupyter-widgets/controls",
      "model_module_version": "2.0.0",
      "model_name": "ProgressStyleModel",
      "state": {
       "_model_module": "@jupyter-widgets/controls",
       "_model_module_version": "2.0.0",
       "_model_name": "ProgressStyleModel",
       "_view_count": null,
       "_view_module": "@jupyter-widgets/base",
       "_view_module_version": "2.0.0",
       "_view_name": "StyleView",
       "bar_color": null,
       "description_width": ""
      }
     },
     "a9febf06c5804df38cda6674ad385473": {
      "model_module": "@jupyter-widgets/base",
      "model_module_version": "2.0.0",
      "model_name": "LayoutModel",
      "state": {
       "_model_module": "@jupyter-widgets/base",
       "_model_module_version": "2.0.0",
       "_model_name": "LayoutModel",
       "_view_count": null,
       "_view_module": "@jupyter-widgets/base",
       "_view_module_version": "2.0.0",
       "_view_name": "LayoutView",
       "align_content": null,
       "align_items": null,
       "align_self": null,
       "border_bottom": null,
       "border_left": null,
       "border_right": null,
       "border_top": null,
       "bottom": null,
       "display": null,
       "flex": null,
       "flex_flow": null,
       "grid_area": null,
       "grid_auto_columns": null,
       "grid_auto_flow": null,
       "grid_auto_rows": null,
       "grid_column": null,
       "grid_gap": null,
       "grid_row": null,
       "grid_template_areas": null,
       "grid_template_columns": null,
       "grid_template_rows": null,
       "height": null,
       "justify_content": null,
       "justify_items": null,
       "left": null,
       "margin": null,
       "max_height": null,
       "max_width": null,
       "min_height": null,
       "min_width": null,
       "object_fit": null,
       "object_position": null,
       "order": null,
       "overflow": null,
       "padding": null,
       "right": null,
       "top": null,
       "visibility": null,
       "width": null
      }
     },
     "abb1e311fe3c4e6a81f908f1c5044a3c": {
      "model_module": "@jupyter-widgets/controls",
      "model_module_version": "2.0.0",
      "model_name": "HTMLModel",
      "state": {
       "_dom_classes": [],
       "_model_module": "@jupyter-widgets/controls",
       "_model_module_version": "2.0.0",
       "_model_name": "HTMLModel",
       "_view_count": null,
       "_view_module": "@jupyter-widgets/controls",
       "_view_module_version": "2.0.0",
       "_view_name": "HTMLView",
       "description": "",
       "description_allow_html": false,
       "layout": "IPY_MODEL_2a9c9a2f8c6d4d73b365937d15d2c707",
       "placeholder": "​",
       "style": "IPY_MODEL_510f1df071fe4286b0065cc780ae5782",
       "tabbable": null,
       "tooltip": null,
       "value": " 499M/499M [00:04&lt;00:00, 148MB/s]"
      }
     },
     "b022dd70ce39450aaccfb06b3ef24a8c": {
      "model_module": "@jupyter-widgets/base",
      "model_module_version": "2.0.0",
      "model_name": "LayoutModel",
      "state": {
       "_model_module": "@jupyter-widgets/base",
       "_model_module_version": "2.0.0",
       "_model_name": "LayoutModel",
       "_view_count": null,
       "_view_module": "@jupyter-widgets/base",
       "_view_module_version": "2.0.0",
       "_view_name": "LayoutView",
       "align_content": null,
       "align_items": null,
       "align_self": null,
       "border_bottom": null,
       "border_left": null,
       "border_right": null,
       "border_top": null,
       "bottom": null,
       "display": null,
       "flex": null,
       "flex_flow": null,
       "grid_area": null,
       "grid_auto_columns": null,
       "grid_auto_flow": null,
       "grid_auto_rows": null,
       "grid_column": null,
       "grid_gap": null,
       "grid_row": null,
       "grid_template_areas": null,
       "grid_template_columns": null,
       "grid_template_rows": null,
       "height": null,
       "justify_content": null,
       "justify_items": null,
       "left": null,
       "margin": null,
       "max_height": null,
       "max_width": null,
       "min_height": null,
       "min_width": null,
       "object_fit": null,
       "object_position": null,
       "order": null,
       "overflow": null,
       "padding": null,
       "right": null,
       "top": null,
       "visibility": null,
       "width": null
      }
     },
     "b0d721fe5ef64c659a45a85b14b830f3": {
      "model_module": "@jupyter-widgets/controls",
      "model_module_version": "2.0.0",
      "model_name": "HBoxModel",
      "state": {
       "_dom_classes": [],
       "_model_module": "@jupyter-widgets/controls",
       "_model_module_version": "2.0.0",
       "_model_name": "HBoxModel",
       "_view_count": null,
       "_view_module": "@jupyter-widgets/controls",
       "_view_module_version": "2.0.0",
       "_view_name": "HBoxView",
       "box_style": "",
       "children": [
        "IPY_MODEL_bcd970044dbd445c9f07f570f05ca76c",
        "IPY_MODEL_a3b66a2823294609b258e24f1a06e671",
        "IPY_MODEL_2ec58cb91dd14b56a5a2ba55be99db43"
       ],
       "layout": "IPY_MODEL_c6c930dee94645dd8bf270e6990063a3",
       "tabbable": null,
       "tooltip": null
      }
     },
     "b3333226bbe34a9b9aec7e82e975daae": {
      "model_module": "@jupyter-widgets/controls",
      "model_module_version": "2.0.0",
      "model_name": "HTMLModel",
      "state": {
       "_dom_classes": [],
       "_model_module": "@jupyter-widgets/controls",
       "_model_module_version": "2.0.0",
       "_model_name": "HTMLModel",
       "_view_count": null,
       "_view_module": "@jupyter-widgets/controls",
       "_view_module_version": "2.0.0",
       "_view_name": "HTMLView",
       "description": "",
       "description_allow_html": false,
       "layout": "IPY_MODEL_251303240c5448e398d56534b1dbfe71",
       "placeholder": "​",
       "style": "IPY_MODEL_e652029ae35645cb879547c1ef34b373",
       "tabbable": null,
       "tooltip": null,
       "value": "model.safetensors: 100%"
      }
     },
     "bb7c908477b748e997f4f044c8aec8b5": {
      "model_module": "@jupyter-widgets/controls",
      "model_module_version": "2.0.0",
      "model_name": "ProgressStyleModel",
      "state": {
       "_model_module": "@jupyter-widgets/controls",
       "_model_module_version": "2.0.0",
       "_model_name": "ProgressStyleModel",
       "_view_count": null,
       "_view_module": "@jupyter-widgets/base",
       "_view_module_version": "2.0.0",
       "_view_name": "StyleView",
       "bar_color": null,
       "description_width": ""
      }
     },
     "bcd970044dbd445c9f07f570f05ca76c": {
      "model_module": "@jupyter-widgets/controls",
      "model_module_version": "2.0.0",
      "model_name": "HTMLModel",
      "state": {
       "_dom_classes": [],
       "_model_module": "@jupyter-widgets/controls",
       "_model_module_version": "2.0.0",
       "_model_name": "HTMLModel",
       "_view_count": null,
       "_view_module": "@jupyter-widgets/controls",
       "_view_module_version": "2.0.0",
       "_view_name": "HTMLView",
       "description": "",
       "description_allow_html": false,
       "layout": "IPY_MODEL_cf3ece2b41f14aef8f8c8fb16ad698fa",
       "placeholder": "​",
       "style": "IPY_MODEL_9a05e8c98d1e441cbff7e095f789d886",
       "tabbable": null,
       "tooltip": null,
       "value": "tokenizer_config.json: 100%"
      }
     },
     "c16a264b5d2147e1bc424a7f9500b12a": {
      "model_module": "@jupyter-widgets/controls",
      "model_module_version": "2.0.0",
      "model_name": "HTMLStyleModel",
      "state": {
       "_model_module": "@jupyter-widgets/controls",
       "_model_module_version": "2.0.0",
       "_model_name": "HTMLStyleModel",
       "_view_count": null,
       "_view_module": "@jupyter-widgets/base",
       "_view_module_version": "2.0.0",
       "_view_name": "StyleView",
       "background": null,
       "description_width": "",
       "font_size": null,
       "text_color": null
      }
     },
     "c3e208e6a65f4a0597c7d35120901c00": {
      "model_module": "@jupyter-widgets/base",
      "model_module_version": "2.0.0",
      "model_name": "LayoutModel",
      "state": {
       "_model_module": "@jupyter-widgets/base",
       "_model_module_version": "2.0.0",
       "_model_name": "LayoutModel",
       "_view_count": null,
       "_view_module": "@jupyter-widgets/base",
       "_view_module_version": "2.0.0",
       "_view_name": "LayoutView",
       "align_content": null,
       "align_items": null,
       "align_self": null,
       "border_bottom": null,
       "border_left": null,
       "border_right": null,
       "border_top": null,
       "bottom": null,
       "display": null,
       "flex": null,
       "flex_flow": null,
       "grid_area": null,
       "grid_auto_columns": null,
       "grid_auto_flow": null,
       "grid_auto_rows": null,
       "grid_column": null,
       "grid_gap": null,
       "grid_row": null,
       "grid_template_areas": null,
       "grid_template_columns": null,
       "grid_template_rows": null,
       "height": null,
       "justify_content": null,
       "justify_items": null,
       "left": null,
       "margin": null,
       "max_height": null,
       "max_width": null,
       "min_height": null,
       "min_width": null,
       "object_fit": null,
       "object_position": null,
       "order": null,
       "overflow": null,
       "padding": null,
       "right": null,
       "top": null,
       "visibility": null,
       "width": null
      }
     },
     "c6c930dee94645dd8bf270e6990063a3": {
      "model_module": "@jupyter-widgets/base",
      "model_module_version": "2.0.0",
      "model_name": "LayoutModel",
      "state": {
       "_model_module": "@jupyter-widgets/base",
       "_model_module_version": "2.0.0",
       "_model_name": "LayoutModel",
       "_view_count": null,
       "_view_module": "@jupyter-widgets/base",
       "_view_module_version": "2.0.0",
       "_view_name": "LayoutView",
       "align_content": null,
       "align_items": null,
       "align_self": null,
       "border_bottom": null,
       "border_left": null,
       "border_right": null,
       "border_top": null,
       "bottom": null,
       "display": null,
       "flex": null,
       "flex_flow": null,
       "grid_area": null,
       "grid_auto_columns": null,
       "grid_auto_flow": null,
       "grid_auto_rows": null,
       "grid_column": null,
       "grid_gap": null,
       "grid_row": null,
       "grid_template_areas": null,
       "grid_template_columns": null,
       "grid_template_rows": null,
       "height": null,
       "justify_content": null,
       "justify_items": null,
       "left": null,
       "margin": null,
       "max_height": null,
       "max_width": null,
       "min_height": null,
       "min_width": null,
       "object_fit": null,
       "object_position": null,
       "order": null,
       "overflow": null,
       "padding": null,
       "right": null,
       "top": null,
       "visibility": null,
       "width": null
      }
     },
     "cb75b8fe5ffa4bc8bdf7c13f8b0535b4": {
      "model_module": "@jupyter-widgets/base",
      "model_module_version": "2.0.0",
      "model_name": "LayoutModel",
      "state": {
       "_model_module": "@jupyter-widgets/base",
       "_model_module_version": "2.0.0",
       "_model_name": "LayoutModel",
       "_view_count": null,
       "_view_module": "@jupyter-widgets/base",
       "_view_module_version": "2.0.0",
       "_view_name": "LayoutView",
       "align_content": null,
       "align_items": null,
       "align_self": null,
       "border_bottom": null,
       "border_left": null,
       "border_right": null,
       "border_top": null,
       "bottom": null,
       "display": null,
       "flex": null,
       "flex_flow": null,
       "grid_area": null,
       "grid_auto_columns": null,
       "grid_auto_flow": null,
       "grid_auto_rows": null,
       "grid_column": null,
       "grid_gap": null,
       "grid_row": null,
       "grid_template_areas": null,
       "grid_template_columns": null,
       "grid_template_rows": null,
       "height": null,
       "justify_content": null,
       "justify_items": null,
       "left": null,
       "margin": null,
       "max_height": null,
       "max_width": null,
       "min_height": null,
       "min_width": null,
       "object_fit": null,
       "object_position": null,
       "order": null,
       "overflow": null,
       "padding": null,
       "right": null,
       "top": null,
       "visibility": null,
       "width": null
      }
     },
     "cf3ece2b41f14aef8f8c8fb16ad698fa": {
      "model_module": "@jupyter-widgets/base",
      "model_module_version": "2.0.0",
      "model_name": "LayoutModel",
      "state": {
       "_model_module": "@jupyter-widgets/base",
       "_model_module_version": "2.0.0",
       "_model_name": "LayoutModel",
       "_view_count": null,
       "_view_module": "@jupyter-widgets/base",
       "_view_module_version": "2.0.0",
       "_view_name": "LayoutView",
       "align_content": null,
       "align_items": null,
       "align_self": null,
       "border_bottom": null,
       "border_left": null,
       "border_right": null,
       "border_top": null,
       "bottom": null,
       "display": null,
       "flex": null,
       "flex_flow": null,
       "grid_area": null,
       "grid_auto_columns": null,
       "grid_auto_flow": null,
       "grid_auto_rows": null,
       "grid_column": null,
       "grid_gap": null,
       "grid_row": null,
       "grid_template_areas": null,
       "grid_template_columns": null,
       "grid_template_rows": null,
       "height": null,
       "justify_content": null,
       "justify_items": null,
       "left": null,
       "margin": null,
       "max_height": null,
       "max_width": null,
       "min_height": null,
       "min_width": null,
       "object_fit": null,
       "object_position": null,
       "order": null,
       "overflow": null,
       "padding": null,
       "right": null,
       "top": null,
       "visibility": null,
       "width": null
      }
     },
     "cfd25a9e4a774549b3bbf92edb4c2e55": {
      "model_module": "@jupyter-widgets/controls",
      "model_module_version": "2.0.0",
      "model_name": "HTMLStyleModel",
      "state": {
       "_model_module": "@jupyter-widgets/controls",
       "_model_module_version": "2.0.0",
       "_model_name": "HTMLStyleModel",
       "_view_count": null,
       "_view_module": "@jupyter-widgets/base",
       "_view_module_version": "2.0.0",
       "_view_name": "StyleView",
       "background": null,
       "description_width": "",
       "font_size": null,
       "text_color": null
      }
     },
     "d7a136ecd4fc4bd4aceecaef28667b96": {
      "model_module": "@jupyter-widgets/base",
      "model_module_version": "2.0.0",
      "model_name": "LayoutModel",
      "state": {
       "_model_module": "@jupyter-widgets/base",
       "_model_module_version": "2.0.0",
       "_model_name": "LayoutModel",
       "_view_count": null,
       "_view_module": "@jupyter-widgets/base",
       "_view_module_version": "2.0.0",
       "_view_name": "LayoutView",
       "align_content": null,
       "align_items": null,
       "align_self": null,
       "border_bottom": null,
       "border_left": null,
       "border_right": null,
       "border_top": null,
       "bottom": null,
       "display": null,
       "flex": null,
       "flex_flow": null,
       "grid_area": null,
       "grid_auto_columns": null,
       "grid_auto_flow": null,
       "grid_auto_rows": null,
       "grid_column": null,
       "grid_gap": null,
       "grid_row": null,
       "grid_template_areas": null,
       "grid_template_columns": null,
       "grid_template_rows": null,
       "height": null,
       "justify_content": null,
       "justify_items": null,
       "left": null,
       "margin": null,
       "max_height": null,
       "max_width": null,
       "min_height": null,
       "min_width": null,
       "object_fit": null,
       "object_position": null,
       "order": null,
       "overflow": null,
       "padding": null,
       "right": null,
       "top": null,
       "visibility": null,
       "width": null
      }
     },
     "d8bf6d28cb5a4575aea609b85e24b489": {
      "model_module": "@jupyter-widgets/controls",
      "model_module_version": "2.0.0",
      "model_name": "FloatProgressModel",
      "state": {
       "_dom_classes": [],
       "_model_module": "@jupyter-widgets/controls",
       "_model_module_version": "2.0.0",
       "_model_name": "FloatProgressModel",
       "_view_count": null,
       "_view_module": "@jupyter-widgets/controls",
       "_view_module_version": "2.0.0",
       "_view_name": "ProgressView",
       "bar_style": "success",
       "description": "",
       "description_allow_html": false,
       "layout": "IPY_MODEL_965386607ca2441b8d156e6b96b6dae0",
       "max": 4.98818054E8,
       "min": 0.0,
       "orientation": "horizontal",
       "style": "IPY_MODEL_eebe4e9f66c94dd999c52efe6de747c6",
       "tabbable": null,
       "tooltip": null,
       "value": 4.98818054E8
      }
     },
     "dd9fcddcca244a3ea816be0c10f08161": {
      "model_module": "@jupyter-widgets/controls",
      "model_module_version": "2.0.0",
      "model_name": "HTMLStyleModel",
      "state": {
       "_model_module": "@jupyter-widgets/controls",
       "_model_module_version": "2.0.0",
       "_model_name": "HTMLStyleModel",
       "_view_count": null,
       "_view_module": "@jupyter-widgets/base",
       "_view_module_version": "2.0.0",
       "_view_name": "StyleView",
       "background": null,
       "description_width": "",
       "font_size": null,
       "text_color": null
      }
     },
     "de858ee1a7ed4d5f8279ebde155b4662": {
      "model_module": "@jupyter-widgets/base",
      "model_module_version": "2.0.0",
      "model_name": "LayoutModel",
      "state": {
       "_model_module": "@jupyter-widgets/base",
       "_model_module_version": "2.0.0",
       "_model_name": "LayoutModel",
       "_view_count": null,
       "_view_module": "@jupyter-widgets/base",
       "_view_module_version": "2.0.0",
       "_view_name": "LayoutView",
       "align_content": null,
       "align_items": null,
       "align_self": null,
       "border_bottom": null,
       "border_left": null,
       "border_right": null,
       "border_top": null,
       "bottom": null,
       "display": null,
       "flex": null,
       "flex_flow": null,
       "grid_area": null,
       "grid_auto_columns": null,
       "grid_auto_flow": null,
       "grid_auto_rows": null,
       "grid_column": null,
       "grid_gap": null,
       "grid_row": null,
       "grid_template_areas": null,
       "grid_template_columns": null,
       "grid_template_rows": null,
       "height": null,
       "justify_content": null,
       "justify_items": null,
       "left": null,
       "margin": null,
       "max_height": null,
       "max_width": null,
       "min_height": null,
       "min_width": null,
       "object_fit": null,
       "object_position": null,
       "order": null,
       "overflow": null,
       "padding": null,
       "right": null,
       "top": null,
       "visibility": null,
       "width": null
      }
     },
     "df3025b617f94466a0bf61d534b54712": {
      "model_module": "@jupyter-widgets/controls",
      "model_module_version": "2.0.0",
      "model_name": "HTMLModel",
      "state": {
       "_dom_classes": [],
       "_model_module": "@jupyter-widgets/controls",
       "_model_module_version": "2.0.0",
       "_model_name": "HTMLModel",
       "_view_count": null,
       "_view_module": "@jupyter-widgets/controls",
       "_view_module_version": "2.0.0",
       "_view_name": "HTMLView",
       "description": "",
       "description_allow_html": false,
       "layout": "IPY_MODEL_5bad795daf3041aba1635111a6fca4cc",
       "placeholder": "​",
       "style": "IPY_MODEL_7d4cdc93c67d4eba9fc696e1fbaf8700",
       "tabbable": null,
       "tooltip": null,
       "value": " 481/481 [00:00&lt;00:00, 52.4kB/s]"
      }
     },
     "e652029ae35645cb879547c1ef34b373": {
      "model_module": "@jupyter-widgets/controls",
      "model_module_version": "2.0.0",
      "model_name": "HTMLStyleModel",
      "state": {
       "_model_module": "@jupyter-widgets/controls",
       "_model_module_version": "2.0.0",
       "_model_name": "HTMLStyleModel",
       "_view_count": null,
       "_view_module": "@jupyter-widgets/base",
       "_view_module_version": "2.0.0",
       "_view_name": "StyleView",
       "background": null,
       "description_width": "",
       "font_size": null,
       "text_color": null
      }
     },
     "ec37dbe364bc49fe981e4a84c7065cd4": {
      "model_module": "@jupyter-widgets/controls",
      "model_module_version": "2.0.0",
      "model_name": "HTMLStyleModel",
      "state": {
       "_model_module": "@jupyter-widgets/controls",
       "_model_module_version": "2.0.0",
       "_model_name": "HTMLStyleModel",
       "_view_count": null,
       "_view_module": "@jupyter-widgets/base",
       "_view_module_version": "2.0.0",
       "_view_name": "StyleView",
       "background": null,
       "description_width": "",
       "font_size": null,
       "text_color": null
      }
     },
     "ec90823919f541099344c57ad08d39c6": {
      "model_module": "@jupyter-widgets/controls",
      "model_module_version": "2.0.0",
      "model_name": "HTMLStyleModel",
      "state": {
       "_model_module": "@jupyter-widgets/controls",
       "_model_module_version": "2.0.0",
       "_model_name": "HTMLStyleModel",
       "_view_count": null,
       "_view_module": "@jupyter-widgets/base",
       "_view_module_version": "2.0.0",
       "_view_name": "StyleView",
       "background": null,
       "description_width": "",
       "font_size": null,
       "text_color": null
      }
     },
     "edd1c9b7b29443a69202ea8cb8ee6100": {
      "model_module": "@jupyter-widgets/controls",
      "model_module_version": "2.0.0",
      "model_name": "HBoxModel",
      "state": {
       "_dom_classes": [],
       "_model_module": "@jupyter-widgets/controls",
       "_model_module_version": "2.0.0",
       "_model_name": "HBoxModel",
       "_view_count": null,
       "_view_module": "@jupyter-widgets/controls",
       "_view_module_version": "2.0.0",
       "_view_name": "HBoxView",
       "box_style": "",
       "children": [
        "IPY_MODEL_b3333226bbe34a9b9aec7e82e975daae",
        "IPY_MODEL_d8bf6d28cb5a4575aea609b85e24b489",
        "IPY_MODEL_abb1e311fe3c4e6a81f908f1c5044a3c"
       ],
       "layout": "IPY_MODEL_25dcd2b679fc41d8bf69cfa97f692602",
       "tabbable": null,
       "tooltip": null
      }
     },
     "eebe4e9f66c94dd999c52efe6de747c6": {
      "model_module": "@jupyter-widgets/controls",
      "model_module_version": "2.0.0",
      "model_name": "ProgressStyleModel",
      "state": {
       "_model_module": "@jupyter-widgets/controls",
       "_model_module_version": "2.0.0",
       "_model_name": "ProgressStyleModel",
       "_view_count": null,
       "_view_module": "@jupyter-widgets/base",
       "_view_module_version": "2.0.0",
       "_view_name": "StyleView",
       "bar_color": null,
       "description_width": ""
      }
     },
     "f10fc8c2f0574c919ace40ecd1b9220a": {
      "model_module": "@jupyter-widgets/controls",
      "model_module_version": "2.0.0",
      "model_name": "HBoxModel",
      "state": {
       "_dom_classes": [],
       "_model_module": "@jupyter-widgets/controls",
       "_model_module_version": "2.0.0",
       "_model_name": "HBoxModel",
       "_view_count": null,
       "_view_module": "@jupyter-widgets/controls",
       "_view_module_version": "2.0.0",
       "_view_name": "HBoxView",
       "box_style": "",
       "children": [
        "IPY_MODEL_00df50110d7b4847ac27079df59b1df7",
        "IPY_MODEL_20375d98d3a84a469606b6f3ddba7cf0",
        "IPY_MODEL_8e1e95308987468eb1a69633e1e15449"
       ],
       "layout": "IPY_MODEL_c3e208e6a65f4a0597c7d35120901c00",
       "tabbable": null,
       "tooltip": null
      }
     },
     "f23e11572ffd4683a155233049ffaa1e": {
      "model_module": "@jupyter-widgets/controls",
      "model_module_version": "2.0.0",
      "model_name": "FloatProgressModel",
      "state": {
       "_dom_classes": [],
       "_model_module": "@jupyter-widgets/controls",
       "_model_module_version": "2.0.0",
       "_model_name": "FloatProgressModel",
       "_view_count": null,
       "_view_module": "@jupyter-widgets/controls",
       "_view_module_version": "2.0.0",
       "_view_name": "ProgressView",
       "bar_style": "success",
       "description": "",
       "description_allow_html": false,
       "layout": "IPY_MODEL_1db48a9f38224916a59df13b3410302e",
       "max": 456318.0,
       "min": 0.0,
       "orientation": "horizontal",
       "style": "IPY_MODEL_a8e560dfb4bf4499bc460ef5c1012dec",
       "tabbable": null,
       "tooltip": null,
       "value": 456318.0
      }
     },
     "f3e452a328a54fe6a06166d595b10cd7": {
      "model_module": "@jupyter-widgets/controls",
      "model_module_version": "2.0.0",
      "model_name": "HBoxModel",
      "state": {
       "_dom_classes": [],
       "_model_module": "@jupyter-widgets/controls",
       "_model_module_version": "2.0.0",
       "_model_name": "HBoxModel",
       "_view_count": null,
       "_view_module": "@jupyter-widgets/controls",
       "_view_module_version": "2.0.0",
       "_view_name": "HBoxView",
       "box_style": "",
       "children": [
        "IPY_MODEL_0e7fb855c54f4ffea04eb505b0e329f7",
        "IPY_MODEL_513a9d617a834ee9bf0b112c0b8f4510",
        "IPY_MODEL_1bb06cd46d1c41bd8a2ff41f5735135e"
       ],
       "layout": "IPY_MODEL_a9febf06c5804df38cda6674ad385473",
       "tabbable": null,
       "tooltip": null
      }
     },
     "f4441348b8ce4fbbb00b1177cd26a42b": {
      "model_module": "@jupyter-widgets/controls",
      "model_module_version": "2.0.0",
      "model_name": "ProgressStyleModel",
      "state": {
       "_model_module": "@jupyter-widgets/controls",
       "_model_module_version": "2.0.0",
       "_model_name": "ProgressStyleModel",
       "_view_count": null,
       "_view_module": "@jupyter-widgets/base",
       "_view_module_version": "2.0.0",
       "_view_name": "StyleView",
       "bar_color": null,
       "description_width": ""
      }
     },
     "f83df522f7164705aa50c65c864b4c46": {
      "model_module": "@jupyter-widgets/controls",
      "model_module_version": "2.0.0",
      "model_name": "HTMLStyleModel",
      "state": {
       "_model_module": "@jupyter-widgets/controls",
       "_model_module_version": "2.0.0",
       "_model_name": "HTMLStyleModel",
       "_view_count": null,
       "_view_module": "@jupyter-widgets/base",
       "_view_module_version": "2.0.0",
       "_view_name": "StyleView",
       "background": null,
       "description_width": "",
       "font_size": null,
       "text_color": null
      }
     },
     "f8ea606169c24fea968fd9299657b420": {
      "model_module": "@jupyter-widgets/controls",
      "model_module_version": "2.0.0",
      "model_name": "HTMLModel",
      "state": {
       "_dom_classes": [],
       "_model_module": "@jupyter-widgets/controls",
       "_model_module_version": "2.0.0",
       "_model_name": "HTMLModel",
       "_view_count": null,
       "_view_module": "@jupyter-widgets/controls",
       "_view_module_version": "2.0.0",
       "_view_name": "HTMLView",
       "description": "",
       "description_allow_html": false,
       "layout": "IPY_MODEL_3285cdecb94a43e984adcc2e8de29436",
       "placeholder": "​",
       "style": "IPY_MODEL_c16a264b5d2147e1bc424a7f9500b12a",
       "tabbable": null,
       "tooltip": null,
       "value": " 456k/456k [00:00&lt;00:00, 1.31MB/s]"
      }
     },
     "f980a2cdc90d4264b2dd36176ca33732": {
      "model_module": "@jupyter-widgets/base",
      "model_module_version": "2.0.0",
      "model_name": "LayoutModel",
      "state": {
       "_model_module": "@jupyter-widgets/base",
       "_model_module_version": "2.0.0",
       "_model_name": "LayoutModel",
       "_view_count": null,
       "_view_module": "@jupyter-widgets/base",
       "_view_module_version": "2.0.0",
       "_view_name": "LayoutView",
       "align_content": null,
       "align_items": null,
       "align_self": null,
       "border_bottom": null,
       "border_left": null,
       "border_right": null,
       "border_top": null,
       "bottom": null,
       "display": null,
       "flex": null,
       "flex_flow": null,
       "grid_area": null,
       "grid_auto_columns": null,
       "grid_auto_flow": null,
       "grid_auto_rows": null,
       "grid_column": null,
       "grid_gap": null,
       "grid_row": null,
       "grid_template_areas": null,
       "grid_template_columns": null,
       "grid_template_rows": null,
       "height": null,
       "justify_content": null,
       "justify_items": null,
       "left": null,
       "margin": null,
       "max_height": null,
       "max_width": null,
       "min_height": null,
       "min_width": null,
       "object_fit": null,
       "object_position": null,
       "order": null,
       "overflow": null,
       "padding": null,
       "right": null,
       "top": null,
       "visibility": null,
       "width": null
      }
     },
     "fb0a5a69fbe84d1a907018127178d910": {
      "model_module": "@jupyter-widgets/base",
      "model_module_version": "2.0.0",
      "model_name": "LayoutModel",
      "state": {
       "_model_module": "@jupyter-widgets/base",
       "_model_module_version": "2.0.0",
       "_model_name": "LayoutModel",
       "_view_count": null,
       "_view_module": "@jupyter-widgets/base",
       "_view_module_version": "2.0.0",
       "_view_name": "LayoutView",
       "align_content": null,
       "align_items": null,
       "align_self": null,
       "border_bottom": null,
       "border_left": null,
       "border_right": null,
       "border_top": null,
       "bottom": null,
       "display": null,
       "flex": null,
       "flex_flow": null,
       "grid_area": null,
       "grid_auto_columns": null,
       "grid_auto_flow": null,
       "grid_auto_rows": null,
       "grid_column": null,
       "grid_gap": null,
       "grid_row": null,
       "grid_template_areas": null,
       "grid_template_columns": null,
       "grid_template_rows": null,
       "height": null,
       "justify_content": null,
       "justify_items": null,
       "left": null,
       "margin": null,
       "max_height": null,
       "max_width": null,
       "min_height": null,
       "min_width": null,
       "object_fit": null,
       "object_position": null,
       "order": null,
       "overflow": null,
       "padding": null,
       "right": null,
       "top": null,
       "visibility": null,
       "width": null
      }
     }
    },
    "version_major": 2,
    "version_minor": 0
   }
  }
 },
 "nbformat": 4,
 "nbformat_minor": 5
}
