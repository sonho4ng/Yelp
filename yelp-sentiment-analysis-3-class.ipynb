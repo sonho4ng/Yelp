{
 "cells": [
  {
   "cell_type": "code",
   "execution_count": 1,
   "id": "15d7c0c2",
   "metadata": {
    "_cell_guid": "b1076dfc-b9ad-4769-8c92-a6c4dae69d19",
    "_uuid": "8f2839f25d086af736a60e9eeb907d3b93b6e0e5",
    "execution": {
     "iopub.execute_input": "2025-03-07T17:50:30.939037Z",
     "iopub.status.busy": "2025-03-07T17:50:30.938727Z",
     "iopub.status.idle": "2025-03-07T17:50:31.931771Z",
     "shell.execute_reply": "2025-03-07T17:50:31.930840Z"
    },
    "papermill": {
     "duration": 1.002042,
     "end_time": "2025-03-07T17:50:31.933522",
     "exception": false,
     "start_time": "2025-03-07T17:50:30.931480",
     "status": "completed"
    },
    "tags": []
   },
   "outputs": [],
   "source": [
    "import pandas as pd\n",
    "dataset = pd.read_csv('/kaggle/input/yelp-reviews-dataset/yelp.csv', encoding='utf-8')"
   ]
  },
  {
   "cell_type": "code",
   "execution_count": 2,
   "id": "91745ec4",
   "metadata": {
    "execution": {
     "iopub.execute_input": "2025-03-07T17:50:31.946261Z",
     "iopub.status.busy": "2025-03-07T17:50:31.946013Z",
     "iopub.status.idle": "2025-03-07T17:50:31.956311Z",
     "shell.execute_reply": "2025-03-07T17:50:31.955466Z"
    },
    "papermill": {
     "duration": 0.017643,
     "end_time": "2025-03-07T17:50:31.957535",
     "exception": false,
     "start_time": "2025-03-07T17:50:31.939892",
     "status": "completed"
    },
    "tags": []
   },
   "outputs": [
    {
     "name": "stdout",
     "output_type": "stream",
     "text": [
      "business_id    0\n",
      "date           0\n",
      "review_id      0\n",
      "stars          0\n",
      "text           0\n",
      "type           0\n",
      "user_id        0\n",
      "cool           0\n",
      "useful         0\n",
      "funny          0\n",
      "dtype: int64\n"
     ]
    }
   ],
   "source": [
    "print(dataset.isnull().sum())"
   ]
  },
  {
   "cell_type": "markdown",
   "id": "3ff227e7",
   "metadata": {
    "papermill": {
     "duration": 0.005953,
     "end_time": "2025-03-07T17:50:32.059418",
     "exception": false,
     "start_time": "2025-03-07T17:50:32.053465",
     "status": "completed"
    },
    "tags": []
   },
   "source": [
    "# Preprocessing text"
   ]
  },
  {
   "cell_type": "code",
   "execution_count": 5,
   "id": "be599d42",
   "metadata": {
    "execution": {
     "iopub.execute_input": "2025-03-07T17:50:32.071618Z",
     "iopub.status.busy": "2025-03-07T17:50:32.071367Z",
     "iopub.status.idle": "2025-03-07T17:50:38.676827Z",
     "shell.execute_reply": "2025-03-07T17:50:38.675829Z"
    },
    "papermill": {
     "duration": 6.61312,
     "end_time": "2025-03-07T17:50:38.678273",
     "exception": false,
     "start_time": "2025-03-07T17:50:32.065153",
     "status": "completed"
    },
    "tags": []
   },
   "outputs": [
    {
     "name": "stdout",
     "output_type": "stream",
     "text": [
      "Collecting contractions\r\n",
      "  Downloading contractions-0.1.73-py2.py3-none-any.whl.metadata (1.2 kB)\r\n",
      "Collecting textsearch>=0.0.21 (from contractions)\r\n",
      "  Downloading textsearch-0.0.24-py2.py3-none-any.whl.metadata (1.2 kB)\r\n",
      "Collecting anyascii (from textsearch>=0.0.21->contractions)\r\n",
      "  Downloading anyascii-0.3.2-py3-none-any.whl.metadata (1.5 kB)\r\n",
      "Collecting pyahocorasick (from textsearch>=0.0.21->contractions)\r\n",
      "  Downloading pyahocorasick-2.1.0-cp310-cp310-manylinux_2_5_x86_64.manylinux1_x86_64.manylinux_2_12_x86_64.manylinux2010_x86_64.whl.metadata (13 kB)\r\n",
      "Downloading contractions-0.1.73-py2.py3-none-any.whl (8.7 kB)\r\n",
      "Downloading textsearch-0.0.24-py2.py3-none-any.whl (7.6 kB)\r\n",
      "Downloading anyascii-0.3.2-py3-none-any.whl (289 kB)\r\n",
      "\u001B[2K   \u001B[90m━━━━━━━━━━━━━━━━━━━━━━━━━━━━━━━━━━━━━━━━\u001B[0m \u001B[32m289.9/289.9 kB\u001B[0m \u001B[31m7.3 MB/s\u001B[0m eta \u001B[36m0:00:00\u001B[0m\r\n",
      "\u001B[?25hDownloading pyahocorasick-2.1.0-cp310-cp310-manylinux_2_5_x86_64.manylinux1_x86_64.manylinux_2_12_x86_64.manylinux2010_x86_64.whl (110 kB)\r\n",
      "\u001B[2K   \u001B[90m━━━━━━━━━━━━━━━━━━━━━━━━━━━━━━━━━━━━━━━━\u001B[0m \u001B[32m110.7/110.7 kB\u001B[0m \u001B[31m8.0 MB/s\u001B[0m eta \u001B[36m0:00:00\u001B[0m\r\n",
      "\u001B[?25hInstalling collected packages: pyahocorasick, anyascii, textsearch, contractions\r\n",
      "Successfully installed anyascii-0.3.2 contractions-0.1.73 pyahocorasick-2.1.0 textsearch-0.0.24\r\n",
      "[nltk_data] Downloading package wordnet to /usr/share/nltk_data...\n",
      "[nltk_data]   Package wordnet is already up-to-date!\n",
      "[nltk_data] Downloading package stopwords to /usr/share/nltk_data...\n",
      "[nltk_data]   Unzipping corpora/stopwords.zip.\n"
     ]
    },
    {
     "data": {
      "text/plain": [
       "True"
      ]
     },
     "execution_count": 5,
     "metadata": {},
     "output_type": "execute_result"
    }
   ],
   "source": [
    "import nltk\n",
    "!pip install contractions\n",
    "import contractions\n",
    "import string\n",
    "from nltk.tokenize import RegexpTokenizer\n",
    "from nltk.corpus import stopwords\n",
    "from nltk.stem.wordnet import WordNetLemmatizer\n",
    "nltk.download('wordnet')\n",
    "nltk.download('stopwords')"
   ]
  },
  {
   "cell_type": "code",
   "execution_count": 6,
   "id": "932e4690",
   "metadata": {
    "execution": {
     "iopub.execute_input": "2025-03-07T17:50:38.692759Z",
     "iopub.status.busy": "2025-03-07T17:50:38.692207Z",
     "iopub.status.idle": "2025-03-07T17:50:38.698172Z",
     "shell.execute_reply": "2025-03-07T17:50:38.697585Z"
    },
    "papermill": {
     "duration": 0.014188,
     "end_time": "2025-03-07T17:50:38.699235",
     "exception": false,
     "start_time": "2025-03-07T17:50:38.685047",
     "status": "completed"
    },
    "tags": []
   },
   "outputs": [],
   "source": [
    "# lower case\n",
    "# punctuation remove (bỏ dấu câu)\n",
    "# contraction expansion (xử lí từ viết tắt you're -> you are)\n",
    "# tokenization\n",
    "# RegexTokenizer\n",
    "# stopword remove\n",
    "# stemming hoặc lemma (lemma tốt hơn)\n",
    "# loại bỏ số và ký tự đặc biệt\n",
    "import re\n",
    "def manual_lemmatize(word):\n",
    "    irregulars = {\n",
    "        'children': 'child',\n",
    "        'mice': 'mouse',\n",
    "        'geese': 'goose',\n",
    "        'feet': 'foot',\n",
    "        'teeth': 'tooth',\n",
    "        'men': 'man',\n",
    "        'women': 'woman',\n",
    "        'better': 'good',\n",
    "        'best': 'good',\n",
    "        'worse': 'bad',\n",
    "        'worst': 'bad',\n",
    "    }\n",
    "\n",
    "    # Check for irregular forms\n",
    "    if word in irregulars:\n",
    "        return irregulars[word]\n",
    "\n",
    "    # Handle plurals\n",
    "    if re.search(r'ies$', word):\n",
    "        return re.sub(r'ies$', 'y', word)\n",
    "    elif re.search(r'es$', word):\n",
    "        return re.sub(r'es$', '', word)\n",
    "    elif re.search(r's$', word) and not re.search(r'ss$', word):\n",
    "        return re.sub(r's$', '', word)\n",
    "\n",
    "    # Handle verbs ending in 'ing' (simplified)\n",
    "    if re.search(r'ing$', word):\n",
    "        return re.sub(r'ing$', 'e', word) if re.search(r'[aeiou][^aeiou]ing$', word) else re.sub(r'ing$', '', word)\n",
    "\n",
    "    # Handle verbs ending in 'ed' (simplified)\n",
    "    if re.search(r'ed$', word):\n",
    "        return re.sub(r'ed$', '', word)\n",
    "    return word\n"
   ]
  },
  {
   "cell_type": "code",
   "execution_count": 7,
   "id": "086b2e75",
   "metadata": {
    "execution": {
     "iopub.execute_input": "2025-03-07T17:50:38.712602Z",
     "iopub.status.busy": "2025-03-07T17:50:38.712348Z",
     "iopub.status.idle": "2025-03-07T17:50:38.792614Z",
     "shell.execute_reply": "2025-03-07T17:50:38.791670Z"
    },
    "papermill": {
     "duration": 0.088308,
     "end_time": "2025-03-07T17:50:38.793864",
     "exception": false,
     "start_time": "2025-03-07T17:50:38.705556",
     "status": "completed"
    },
    "tags": []
   },
   "outputs": [
    {
     "name": "stdout",
     "output_type": "stream",
     "text": [
      "[nltk_data] Downloading package punkt to /usr/share/nltk_data...\n",
      "[nltk_data]   Package punkt is already up-to-date!\n"
     ]
    }
   ],
   "source": [
    "from nltk.tokenize import word_tokenize\n",
    "nltk.download('punkt')\n",
    "lemmatizer = WordNetLemmatizer()\n",
    "tokenizer = RegexpTokenizer(r'\\w+')\n",
    "stop_words = set(stopwords.words('english')) - {\"not\", \"no\", \"never\", \"n't\"}\n",
    "\n",
    "def preprocess(text):\n",
    "    text = re.sub(r'<br\\s*/?>', ' ', text)\n",
    "    # Chuyển thành chữ thường\n",
    "    text = text.lower()\n",
    "\n",
    "    # Xử lý từ viết tắt\n",
    "    text = contractions.fix(text)  # \"you're\" -> \"you are\", \"isn't\" -> \"is not\"\n",
    "\n",
    "    # Loại bỏ dấu câu\n",
    "    text = re.sub(r'[^\\w\\s]', ' ', text)\n",
    "\n",
    "    # Tokenization\n",
    "    tokens = word_tokenize(text)\n",
    "\n",
    "    # Loại bỏ stopwords nhưng giữ từ phủ định\n",
    "    tokens = [word for word in tokens if word not in stop_words]\n",
    "\n",
    "    # Lemmatization\n",
    "    tokens = [manual_lemmatize(word) for word in tokens]\n",
    "\n",
    "    return \" \".join(tokens)"
   ]
  },
  {
   "cell_type": "code",
   "execution_count": 8,
   "id": "956b3962",
   "metadata": {
    "execution": {
     "iopub.execute_input": "2025-03-07T17:50:38.807625Z",
     "iopub.status.busy": "2025-03-07T17:50:38.807416Z",
     "iopub.status.idle": "2025-03-07T17:50:46.484293Z",
     "shell.execute_reply": "2025-03-07T17:50:46.483360Z"
    },
    "papermill": {
     "duration": 7.68532,
     "end_time": "2025-03-07T17:50:46.485819",
     "exception": false,
     "start_time": "2025-03-07T17:50:38.800499",
     "status": "completed"
    },
    "tags": []
   },
   "outputs": [],
   "source": [
    "feature = [preprocess(text) for text in dataset['text']]"
   ]
  },
  {
   "cell_type": "code",
   "execution_count": 9,
   "id": "6443d6af",
   "metadata": {
    "execution": {
     "iopub.execute_input": "2025-03-07T17:50:46.500183Z",
     "iopub.status.busy": "2025-03-07T17:50:46.499907Z",
     "iopub.status.idle": "2025-03-07T17:50:46.580564Z",
     "shell.execute_reply": "2025-03-07T17:50:46.579851Z"
    },
    "papermill": {
     "duration": 0.088982,
     "end_time": "2025-03-07T17:50:46.581792",
     "exception": false,
     "start_time": "2025-03-07T17:50:46.492810",
     "status": "completed"
    },
    "tags": []
   },
   "outputs": [
    {
     "name": "stdout",
     "output_type": "stream",
     "text": [
      "528\n",
      "23484\n"
     ]
    }
   ],
   "source": [
    "max_sentence = 0\n",
    "unique_words = set()\n",
    "for sentence in feature:\n",
    "  b =str(sentence).split()\n",
    "  a = len(b)\n",
    "  unique_words.update(b)\n",
    "  max_sentence = max(a, max_sentence)\n",
    "vocab_size = len(unique_words)\n",
    "print(max_sentence) # 528\n",
    "print(vocab_size) # 23484"
   ]
  },
  {
   "cell_type": "code",
   "execution_count": 10,
   "id": "d29d54bf",
   "metadata": {
    "execution": {
     "iopub.execute_input": "2025-03-07T17:50:46.595581Z",
     "iopub.status.busy": "2025-03-07T17:50:46.595325Z",
     "iopub.status.idle": "2025-03-07T17:50:46.712905Z",
     "shell.execute_reply": "2025-03-07T17:50:46.712151Z"
    },
    "papermill": {
     "duration": 0.125671,
     "end_time": "2025-03-07T17:50:46.714050",
     "exception": false,
     "start_time": "2025-03-07T17:50:46.588379",
     "status": "completed"
    },
    "tags": []
   },
   "outputs": [
    {
     "name": "stdout",
     "output_type": "stream",
     "text": [
      "New vocab size: 10660\n"
     ]
    }
   ],
   "source": [
    "from collections import Counter\n",
    "\n",
    "\n",
    "word_counter = Counter()\n",
    "for sentence in feature:\n",
    "    words = str(sentence).split()\n",
    "    word_counter.update(words)\n",
    "\n",
    "\n",
    "threshold = 3\n",
    "filtered_vocab = {word for word, count in word_counter.items() if count >= threshold}\n",
    "\n",
    "# Cập nhật vocab size sau khi lọc\n",
    "vocab_size = len(filtered_vocab)\n",
    "print(\"New vocab size:\", vocab_size)"
   ]
  },
  {
   "cell_type": "code",
   "execution_count": 11,
   "id": "dc9b1ba0",
   "metadata": {
    "execution": {
     "iopub.execute_input": "2025-03-07T17:50:46.728294Z",
     "iopub.status.busy": "2025-03-07T17:50:46.728048Z",
     "iopub.status.idle": "2025-03-07T17:50:46.848820Z",
     "shell.execute_reply": "2025-03-07T17:50:46.848030Z"
    },
    "papermill": {
     "duration": 0.129202,
     "end_time": "2025-03-07T17:50:46.850024",
     "exception": false,
     "start_time": "2025-03-07T17:50:46.720822",
     "status": "completed"
    },
    "tags": []
   },
   "outputs": [],
   "source": [
    "filtered_feature = []\n",
    "for sentence in feature:\n",
    "    words = [word if word in filtered_vocab else \"<UNK>\" for word in str(sentence).split()]\n",
    "    filtered_feature.append(\" \".join(words))"
   ]
  },
  {
   "cell_type": "code",
   "execution_count": 12,
   "id": "130e8ffa",
   "metadata": {
    "execution": {
     "iopub.execute_input": "2025-03-07T17:50:46.864126Z",
     "iopub.status.busy": "2025-03-07T17:50:46.863880Z",
     "iopub.status.idle": "2025-03-07T17:50:46.941776Z",
     "shell.execute_reply": "2025-03-07T17:50:46.941069Z"
    },
    "papermill": {
     "duration": 0.086021,
     "end_time": "2025-03-07T17:50:46.942862",
     "exception": false,
     "start_time": "2025-03-07T17:50:46.856841",
     "status": "completed"
    },
    "tags": []
   },
   "outputs": [
    {
     "name": "stdout",
     "output_type": "stream",
     "text": [
      "528\n",
      "10661\n"
     ]
    }
   ],
   "source": [
    "max_sentence = 0\n",
    "unique_words = set()\n",
    "for sentence in filtered_feature:\n",
    "  b =str(sentence).split()\n",
    "  a = len(b)\n",
    "  unique_words.update(b)\n",
    "  max_sentence = max(a, max_sentence)\n",
    "vocab_size = len(unique_words)\n",
    "print(max_sentence) # 528\n",
    "print(vocab_size) # 10661"
   ]
  },
  {
   "cell_type": "code",
   "execution_count": 13,
   "id": "6a6e96df",
   "metadata": {
    "execution": {
     "iopub.execute_input": "2025-03-07T17:50:46.956874Z",
     "iopub.status.busy": "2025-03-07T17:50:46.956673Z",
     "iopub.status.idle": "2025-03-07T17:50:47.297627Z",
     "shell.execute_reply": "2025-03-07T17:50:47.296825Z"
    },
    "papermill": {
     "duration": 0.349369,
     "end_time": "2025-03-07T17:50:47.298888",
     "exception": false,
     "start_time": "2025-03-07T17:50:46.949519",
     "status": "completed"
    },
    "tags": []
   },
   "outputs": [
    {
     "data": {
      "image/png": "[encoded data removed]",
      "text/plain": [
       "<Figure size 1000x500 with 1 Axes>"
      ]
     },
     "metadata": {},
     "output_type": "display_data"
    }
   ],
   "source": [
    "import matplotlib.pyplot as plt\n",
    "sentence_lengths = [len(str(sentence).split()) for sentence in filtered_feature]\n",
    "\n",
    "\n",
    "plt.figure(figsize=(10, 5))\n",
    "plt.hist(sentence_lengths, bins=50, alpha=0.75, edgecolor='black')\n",
    "plt.xlabel(\"Sentence Length\")\n",
    "plt.ylabel(\"Frequency\")\n",
    "plt.title(\"Distribution of Sentence Lengths\")\n",
    "plt.grid(axis='y', linestyle='--', alpha=0.7)\n",
    "plt.show()"
   ]
  },
  {
   "cell_type": "code",
   "execution_count": 14,
   "id": "4ef4366b",
   "metadata": {
    "execution": {
     "iopub.execute_input": "2025-03-07T17:50:47.314505Z",
     "iopub.status.busy": "2025-03-07T17:50:47.314284Z",
     "iopub.status.idle": "2025-03-07T17:50:47.319279Z",
     "shell.execute_reply": "2025-03-07T17:50:47.318599Z"
    },
    "papermill": {
     "duration": 0.013998,
     "end_time": "2025-03-07T17:50:47.320391",
     "exception": false,
     "start_time": "2025-03-07T17:50:47.306393",
     "status": "completed"
    },
    "tags": []
   },
   "outputs": [
    {
     "name": "stdout",
     "output_type": "stream",
     "text": [
      "Chọn max_length = 156 sẽ giữ lại 92.31% dữ liệu.\n"
     ]
    }
   ],
   "source": [
    "import numpy as np\n",
    "\n",
    "\n",
    "max_length = 156\n",
    "\n",
    "valid_sentences = np.sum(np.array(sentence_lengths) <= max_length)\n",
    "total_sentences = len(sentence_lengths)\n",
    "\n",
    "coverage = (valid_sentences / total_sentences) * 100\n",
    "print(f\"Chọn max_length = {max_length} sẽ giữ lại {coverage:.2f}% dữ liệu.\")"
   ]
  },
  {
   "cell_type": "code",
   "execution_count": 15,
   "id": "8a20dd20",
   "metadata": {
    "execution": {
     "iopub.execute_input": "2025-03-07T17:50:47.335412Z",
     "iopub.status.busy": "2025-03-07T17:50:47.335183Z",
     "iopub.status.idle": "2025-03-07T17:50:47.340200Z",
     "shell.execute_reply": "2025-03-07T17:50:47.339387Z"
    },
    "papermill": {
     "duration": 0.013822,
     "end_time": "2025-03-07T17:50:47.341445",
     "exception": false,
     "start_time": "2025-03-07T17:50:47.327623",
     "status": "completed"
    },
    "tags": []
   },
   "outputs": [],
   "source": [
    "dataset['cleaned'] = filtered_feature\n"
   ]
  },
  {
   "cell_type": "code",
   "execution_count": 16,
   "id": "e7643cb2",
   "metadata": {
    "execution": {
     "iopub.execute_input": "2025-03-07T17:50:47.356472Z",
     "iopub.status.busy": "2025-03-07T17:50:47.356249Z",
     "iopub.status.idle": "2025-03-07T17:50:47.363381Z",
     "shell.execute_reply": "2025-03-07T17:50:47.362593Z"
    },
    "papermill": {
     "duration": 0.015886,
     "end_time": "2025-03-07T17:50:47.364501",
     "exception": false,
     "start_time": "2025-03-07T17:50:47.348615",
     "status": "completed"
    },
    "tags": []
   },
   "outputs": [],
   "source": [
    "dataset['text length'] = dataset['cleaned'].apply(len)"
   ]
  },
  {
   "cell_type": "code",
   "execution_count": 17,
   "id": "93a56528",
   "metadata": {
    "execution": {
     "iopub.execute_input": "2025-03-07T17:50:47.379480Z",
     "iopub.status.busy": "2025-03-07T17:50:47.379286Z",
     "iopub.status.idle": "2025-03-07T17:50:49.080898Z",
     "shell.execute_reply": "2025-03-07T17:50:49.080070Z"
    },
    "papermill": {
     "duration": 1.710868,
     "end_time": "2025-03-07T17:50:49.082444",
     "exception": false,
     "start_time": "2025-03-07T17:50:47.371576",
     "status": "completed"
    },
    "tags": []
   },
   "outputs": [
    {
     "name": "stderr",
     "output_type": "stream",
     "text": [
      "/usr/local/lib/python3.10/dist-packages/seaborn/_oldcore.py:1119: FutureWarning: use_inf_as_na option is deprecated and will be removed in a future version. Convert inf values to NaN before operating instead.\n",
      "  with pd.option_context('mode.use_inf_as_na', True):\n",
      "/usr/local/lib/python3.10/dist-packages/seaborn/_oldcore.py:1119: FutureWarning: use_inf_as_na option is deprecated and will be removed in a future version. Convert inf values to NaN before operating instead.\n",
      "  with pd.option_context('mode.use_inf_as_na', True):\n",
      "/usr/local/lib/python3.10/dist-packages/seaborn/_oldcore.py:1119: FutureWarning: use_inf_as_na option is deprecated and will be removed in a future version. Convert inf values to NaN before operating instead.\n",
      "  with pd.option_context('mode.use_inf_as_na', True):\n",
      "/usr/local/lib/python3.10/dist-packages/seaborn/_oldcore.py:1119: FutureWarning: use_inf_as_na option is deprecated and will be removed in a future version. Convert inf values to NaN before operating instead.\n",
      "  with pd.option_context('mode.use_inf_as_na', True):\n",
      "/usr/local/lib/python3.10/dist-packages/seaborn/_oldcore.py:1119: FutureWarning: use_inf_as_na option is deprecated and will be removed in a future version. Convert inf values to NaN before operating instead.\n",
      "  with pd.option_context('mode.use_inf_as_na', True):\n"
     ]
    },
    {
     "data": {
      "text/plain": [
       "<seaborn.axisgrid.FacetGrid at 0x7b3af9b7f6d0>"
      ]
     },
     "execution_count": 17,
     "metadata": {},
     "output_type": "execute_result"
    },
    {
     "data": {
      "image/png": "[encoded data removed]",
      "text/plain": [
       "<Figure size 1500x300 with 5 Axes>"
      ]
     },
     "metadata": {},
     "output_type": "display_data"
    }
   ],
   "source": [
    "import seaborn as sns\n",
    "sns.FacetGrid(data=dataset,col='stars').map(sns.histplot,'text length')"
   ]
  },
  {
   "cell_type": "code",
   "execution_count": 18,
   "id": "7f210c9e",
   "metadata": {
    "execution": {
     "iopub.execute_input": "2025-03-07T17:50:49.099505Z",
     "iopub.status.busy": "2025-03-07T17:50:49.099163Z",
     "iopub.status.idle": "2025-03-07T17:50:49.104818Z",
     "shell.execute_reply": "2025-03-07T17:50:49.104038Z"
    },
    "papermill": {
     "duration": 0.015225,
     "end_time": "2025-03-07T17:50:49.106004",
     "exception": false,
     "start_time": "2025-03-07T17:50:49.090779",
     "status": "completed"
    },
    "tags": []
   },
   "outputs": [],
   "source": [
    "new_dataset = dataset[dataset['text length'] <= 1500]\n"
   ]
  },
  {
   "cell_type": "code",
   "execution_count": 19,
   "id": "57824db6",
   "metadata": {
    "execution": {
     "iopub.execute_input": "2025-03-07T17:50:49.122255Z",
     "iopub.status.busy": "2025-03-07T17:50:49.122040Z",
     "iopub.status.idle": "2025-03-07T17:50:49.130109Z",
     "shell.execute_reply": "2025-03-07T17:50:49.129140Z"
    },
    "papermill": {
     "duration": 0.017557,
     "end_time": "2025-03-07T17:50:49.131309",
     "exception": false,
     "start_time": "2025-03-07T17:50:49.113752",
     "status": "completed"
    },
    "tags": []
   },
   "outputs": [
    {
     "name": "stderr",
     "output_type": "stream",
     "text": [
      "<ipython-input-19-0b730d92867d>:10: SettingWithCopyWarning: \n",
      "A value is trying to be set on a copy of a slice from a DataFrame.\n",
      "Try using .loc[row_indexer,col_indexer] = value instead\n",
      "\n",
      "See the caveats in the documentation: https://pandas.pydata.org/pandas-docs/stable/user_guide/indexing.html#returning-a-view-versus-a-copy\n",
      "  new_dataset[\"stars\"] = new_dataset[\"stars\"].apply(map_star_class)\n"
     ]
    }
   ],
   "source": [
    "def map_star_class(star):\n",
    "    if star in [1, 2]:  \n",
    "        return 0\n",
    "    elif star == 3: \n",
    "        return 1\n",
    "    else:  \n",
    "        return 2\n",
    "\n",
    "# Áp dụng hàm trên cột \"star\"\n",
    "new_dataset[\"stars\"] = new_dataset[\"stars\"].apply(map_star_class)"
   ]
  },
  {
   "cell_type": "code",
   "execution_count": 20,
   "id": "3e4036e4",
   "metadata": {
    "execution": {
     "iopub.execute_input": "2025-03-07T17:50:49.148186Z",
     "iopub.status.busy": "2025-03-07T17:50:49.147952Z",
     "iopub.status.idle": "2025-03-07T17:50:50.575907Z",
     "shell.execute_reply": "2025-03-07T17:50:50.575075Z"
    },
    "papermill": {
     "duration": 1.438029,
     "end_time": "2025-03-07T17:50:50.577367",
     "exception": false,
     "start_time": "2025-03-07T17:50:49.139338",
     "status": "completed"
    },
    "tags": []
   },
   "outputs": [
    {
     "name": "stderr",
     "output_type": "stream",
     "text": [
      "/usr/local/lib/python3.10/dist-packages/seaborn/_oldcore.py:1119: FutureWarning: use_inf_as_na option is deprecated and will be removed in a future version. Convert inf values to NaN before operating instead.\n",
      "  with pd.option_context('mode.use_inf_as_na', True):\n",
      "/usr/local/lib/python3.10/dist-packages/seaborn/_oldcore.py:1119: FutureWarning: use_inf_as_na option is deprecated and will be removed in a future version. Convert inf values to NaN before operating instead.\n",
      "  with pd.option_context('mode.use_inf_as_na', True):\n",
      "/usr/local/lib/python3.10/dist-packages/seaborn/_oldcore.py:1119: FutureWarning: use_inf_as_na option is deprecated and will be removed in a future version. Convert inf values to NaN before operating instead.\n",
      "  with pd.option_context('mode.use_inf_as_na', True):\n",
      "/usr/local/lib/python3.10/dist-packages/seaborn/_oldcore.py:1119: FutureWarning: use_inf_as_na option is deprecated and will be removed in a future version. Convert inf values to NaN before operating instead.\n",
      "  with pd.option_context('mode.use_inf_as_na', True):\n",
      "/usr/local/lib/python3.10/dist-packages/seaborn/_oldcore.py:1119: FutureWarning: use_inf_as_na option is deprecated and will be removed in a future version. Convert inf values to NaN before operating instead.\n",
      "  with pd.option_context('mode.use_inf_as_na', True):\n"
     ]
    },
    {
     "data": {
      "text/plain": [
       "<seaborn.axisgrid.FacetGrid at 0x7b3ad6973220>"
      ]
     },
     "execution_count": 20,
     "metadata": {},
     "output_type": "execute_result"
    },
    {
     "data": {
      "image/png": "[encoded data removed]",
      "text/plain": [
       "<Figure size 1500x300 with 5 Axes>"
      ]
     },
     "metadata": {},
     "output_type": "display_data"
    }
   ],
   "source": [
    "sns.FacetGrid(data=dataset,col='stars').map(sns.histplot,'text length')"
   ]
  },
  {
   "metadata": {},
   "cell_type": "code",
   "outputs": [],
   "execution_count": null,
   "source": [
    "X = new_dataset[\"cleaned\"]\n",
    "y = new_dataset[\"stars\"]"
   ],
   "id": "e585a924e545f301"
  },
  {
   "cell_type": "code",
   "execution_count": 23,
   "id": "d5fa26f5",
   "metadata": {
    "execution": {
     "iopub.execute_input": "2025-03-07T17:50:50.675358Z",
     "iopub.status.busy": "2025-03-07T17:50:50.675153Z",
     "iopub.status.idle": "2025-03-07T17:50:50.685148Z",
     "shell.execute_reply": "2025-03-07T17:50:50.684441Z"
    },
    "papermill": {
     "duration": 0.020267,
     "end_time": "2025-03-07T17:50:50.686228",
     "exception": false,
     "start_time": "2025-03-07T17:50:50.665961",
     "status": "completed"
    },
    "tags": []
   },
   "outputs": [
    {
     "name": "stdout",
     "output_type": "stream",
     "text": [
      "Number of class 1 examples after: 6770\n",
      "Number of class 2 examples after: 6770\n"
     ]
    }
   ],
   "source": [
    "from sklearn.utils import resample\n",
    "\n",
    "\n",
    "X_upsampled1, y_upsampled1 = resample(X[y == 0],\n",
    "                                    y[y == 0],\n",
    "                                    replace=True,\n",
    "                                    n_samples=X[y == 2].shape[0],\n",
    "                                    random_state=123)\n",
    "\n",
    "X_upsampled2, y_upsampled2 = resample(X[y == 1],\n",
    "                                     y[y == 1],\n",
    "                                     replace=True,\n",
    "                                     n_samples=X[y == 2].shape[0],\n",
    "                                     random_state=123)\n",
    "\n",
    "\n",
    "print('Number of class 1 examples after:', X_upsampled1.shape[0])\n",
    "print('Number of class 2 examples after:', X_upsampled2.shape[0])"
   ]
  },
  {
   "cell_type": "code",
   "execution_count": 24,
   "id": "f8dcfdde",
   "metadata": {
    "execution": {
     "iopub.execute_input": "2025-03-07T17:50:50.704275Z",
     "iopub.status.busy": "2025-03-07T17:50:50.704069Z",
     "iopub.status.idle": "2025-03-07T17:50:50.709503Z",
     "shell.execute_reply": "2025-03-07T17:50:50.708878Z"
    },
    "papermill": {
     "duration": 0.015706,
     "end_time": "2025-03-07T17:50:50.710653",
     "exception": false,
     "start_time": "2025-03-07T17:50:50.694947",
     "status": "completed"
    },
    "tags": []
   },
   "outputs": [
    {
     "data": {
      "text/plain": [
       "((20310,), (20310,))"
      ]
     },
     "execution_count": 24,
     "metadata": {},
     "output_type": "execute_result"
    }
   ],
   "source": [
    "X_bal = np.hstack((X[y == 2], X_upsampled1, X_upsampled2))\n",
    "y_bal = np.hstack((y[y == 2], y_upsampled1, y_upsampled2))\n",
    "X_bal.shape, y_bal.shape"
   ]
  },
  {
   "cell_type": "code",
   "execution_count": 25,
   "id": "8b01cdca",
   "metadata": {
    "execution": {
     "iopub.execute_input": "2025-03-07T17:50:50.728646Z",
     "iopub.status.busy": "2025-03-07T17:50:50.728448Z",
     "iopub.status.idle": "2025-03-07T17:51:13.714408Z",
     "shell.execute_reply": "2025-03-07T17:51:13.713395Z"
    },
    "papermill": {
     "duration": 22.996354,
     "end_time": "2025-03-07T17:51:13.715820",
     "exception": false,
     "start_time": "2025-03-07T17:50:50.719466",
     "status": "completed"
    },
    "tags": []
   },
   "outputs": [
    {
     "data": {
      "application/vnd.jupyter.widget-view+json": {
       "model_id": "1e2f4193bc044c758c938a420ab0b3ac",
       "version_major": 2,
       "version_minor": 0
      },
      "text/plain": [
       "tokenizer_config.json:   0%|          | 0.00/25.0 [00:00<?, ?B/s]"
      ]
     },
     "metadata": {},
     "output_type": "display_data"
    },
    {
     "data": {
      "application/vnd.jupyter.widget-view+json": {
       "model_id": "f51a0a6014234ccb87cfef21494ab047",
       "version_major": 2,
       "version_minor": 0
      },
      "text/plain": [
       "vocab.json:   0%|          | 0.00/899k [00:00<?, ?B/s]"
      ]
     },
     "metadata": {},
     "output_type": "display_data"
    },
    {
     "data": {
      "application/vnd.jupyter.widget-view+json": {
       "model_id": "38aadb70279c4e33b602b9d87e373ee3",
       "version_major": 2,
       "version_minor": 0
      },
      "text/plain": [
       "merges.txt:   0%|          | 0.00/456k [00:00<?, ?B/s]"
      ]
     },
     "metadata": {},
     "output_type": "display_data"
    },
    {
     "data": {
      "application/vnd.jupyter.widget-view+json": {
       "model_id": "0630bd6c5abf4982b995a51255384957",
       "version_major": 2,
       "version_minor": 0
      },
      "text/plain": [
       "tokenizer.json:   0%|          | 0.00/1.36M [00:00<?, ?B/s]"
      ]
     },
     "metadata": {},
     "output_type": "display_data"
    },
    {
     "data": {
      "application/vnd.jupyter.widget-view+json": {
       "model_id": "859685148fd9433491ffbdcc12ef4651",
       "version_major": 2,
       "version_minor": 0
      },
      "text/plain": [
       "config.json:   0%|          | 0.00/481 [00:00<?, ?B/s]"
      ]
     },
     "metadata": {},
     "output_type": "display_data"
    },
    {
     "name": "stdout",
     "output_type": "stream",
     "text": [
      "Train Input Shape: torch.Size([16248, 156])\n",
      "Train Label Shape: torch.Size([16248])\n"
     ]
    }
   ],
   "source": [
    "import torch\n",
    "import torch.nn as nn\n",
    "from transformers import DistilBertTokenizer\n",
    "from sklearn.model_selection import train_test_split\n",
    "import numpy as np\n",
    "from torch.utils.data import TensorDataset, DataLoader\n",
    "\n",
    "\n",
    "from transformers import RobertaTokenizer\n",
    "\n",
    "\n",
    "tokenizer = RobertaTokenizer.from_pretrained(\"roberta-base\")\n",
    "X = X_bal.tolist()\n",
    "y = y_bal.tolist()\n",
    "\n",
    "x_train, x_test, y_train, y_test = train_test_split(\n",
    "    X,  # Raw text list\n",
    "    y,  # Labels\n",
    "    test_size=0.2, \n",
    "    random_state=42,\n",
    "    stratify = y\n",
    ")\n",
    "\n",
    "train_encodings = tokenizer(x_train, padding=\"max_length\", truncation=True, max_length=156, return_tensors=\"pt\")\n",
    "test_encodings = tokenizer(x_test, padding=\"max_length\", truncation=True, max_length=156, return_tensors=\"pt\")\n",
    "\n",
    "y_train_tensor = torch.tensor(np.array(y_train).astype(np.float32))\n",
    "y_test_tensor = torch.tensor(np.array(y_test).astype(np.float32))\n",
    "\n",
    "train_dataset = TensorDataset(train_encodings[\"input_ids\"], train_encodings[\"attention_mask\"], y_train_tensor)\n",
    "val_dataset = TensorDataset(test_encodings[\"input_ids\"], test_encodings[\"attention_mask\"], y_test_tensor)\n",
    "\n",
    "train_dataloader = DataLoader(train_dataset, batch_size=16, shuffle=True, num_workers=4)\n",
    "val_dataloader = DataLoader(val_dataset, batch_size=16, shuffle=False, num_workers=4)\n",
    "\n",
    "print(\"Train Input Shape:\", train_encodings[\"input_ids\"].shape)  # (num_samples, max_length)\n",
    "print(\"Train Label Shape:\", y_train_tensor.shape)  # (num_samples,)\n"
   ]
  },
  {
   "cell_type": "code",
   "execution_count": 26,
   "id": "17ef9cf2",
   "metadata": {
    "execution": {
     "iopub.execute_input": "2025-03-07T17:51:13.736342Z",
     "iopub.status.busy": "2025-03-07T17:51:13.735863Z",
     "iopub.status.idle": "2025-03-07T17:51:28.463148Z",
     "shell.execute_reply": "2025-03-07T17:51:28.462336Z"
    },
    "papermill": {
     "duration": 14.738591,
     "end_time": "2025-03-07T17:51:28.464503",
     "exception": false,
     "start_time": "2025-03-07T17:51:13.725912",
     "status": "completed"
    },
    "tags": []
   },
   "outputs": [
    {
     "data": {
      "application/vnd.jupyter.widget-view+json": {
       "model_id": "064690969dff4487b323a5903c82af12",
       "version_major": 2,
       "version_minor": 0
      },
      "text/plain": [
       "model.safetensors:   0%|          | 0.00/499M [00:00<?, ?B/s]"
      ]
     },
     "metadata": {},
     "output_type": "display_data"
    },
    {
     "name": "stderr",
     "output_type": "stream",
     "text": [
      "Some weights of RobertaForSequenceClassification were not initialized from the model checkpoint at roberta-base and are newly initialized: ['classifier.dense.bias', 'classifier.dense.weight', 'classifier.out_proj.bias', 'classifier.out_proj.weight']\n",
      "You should probably TRAIN this model on a down-stream task to be able to use it for predictions and inference.\n"
     ]
    },
    {
     "data": {
      "text/plain": [
       "device(type='cuda')"
      ]
     },
     "execution_count": 26,
     "metadata": {},
     "output_type": "execute_result"
    }
   ],
   "source": [
    "from transformers import DistilBertTokenizer, DistilBertForSequenceClassification\n",
    "from torch.optim.lr_scheduler import ReduceLROnPlateau\n",
    "\n",
    "device = torch.device(\"cuda\" if torch.cuda.is_available() else \"cpu\")\n",
    "\n",
    "#model = DistilBertForSequenceClassification.from_pretrained(\"distilbert-base-uncased\", num_labels=5) \n",
    "from transformers import RobertaForSequenceClassification\n",
    "\n",
    "model = RobertaForSequenceClassification.from_pretrained(\"roberta-base\", num_labels=3)\n",
    "model.to(device)\n",
    "\n",
    "model.to(device)\n",
    "\n",
    "criterion = nn.CrossEntropyLoss()\n",
    "\n",
    "optimizer = torch.optim.AdamW(model.parameters(), lr=1e-5, weight_decay=0.01)\n",
    "scheduler = ReduceLROnPlateau(optimizer, mode='min', factor=0.5, patience=3, verbose=True)\n",
    "\n",
    "device"
   ]
  },
  {
   "cell_type": "code",
   "execution_count": 27,
   "id": "fe31bd2a",
   "metadata": {
    "execution": {
     "iopub.execute_input": "2025-03-07T17:51:28.485185Z",
     "iopub.status.busy": "2025-03-07T17:51:28.484623Z",
     "iopub.status.idle": "2025-03-07T18:39:17.673639Z",
     "shell.execute_reply": "2025-03-07T18:39:17.672316Z"
    },
    "papermill": {
     "duration": 2870.192206,
     "end_time": "2025-03-07T18:39:18.666820",
     "exception": false,
     "start_time": "2025-03-07T17:51:28.474614",
     "status": "completed"
    },
    "tags": []
   },
   "outputs": [
    {
     "name": "stderr",
     "output_type": "stream",
     "text": [
      "Epoch 1/10: 100%|██████████| 1016/1016 [04:29<00:00,  3.78it/s, acc=0.711, loss=0.37]\n"
     ]
    },
    {
     "name": "stdout",
     "output_type": "stream",
     "text": [
      "\n",
      "Epoch 1: Train Loss: 0.6577, Train Acc: 0.7114, Val Loss: 0.4520, Val Acc: 0.8245\n",
      "\n"
     ]
    },
    {
     "name": "stderr",
     "output_type": "stream",
     "text": [
      "Epoch 2/10: 100%|██████████| 1016/1016 [04:27<00:00,  3.79it/s, acc=0.861, loss=0.776]\n"
     ]
    },
    {
     "name": "stdout",
     "output_type": "stream",
     "text": [
      "\n",
      "Epoch 2: Train Loss: 0.3754, Train Acc: 0.8609, Val Loss: 0.2827, Val Acc: 0.9035\n",
      "\n"
     ]
    },
    {
     "name": "stderr",
     "output_type": "stream",
     "text": [
      "Epoch 3/10: 100%|██████████| 1016/1016 [04:28<00:00,  3.78it/s, acc=0.927, loss=0.642]\n"
     ]
    },
    {
     "name": "stdout",
     "output_type": "stream",
     "text": [
      "\n",
      "Epoch 3: Train Loss: 0.2128, Train Acc: 0.9267, Val Loss: 0.2278, Val Acc: 0.9276\n",
      "\n"
     ]
    },
    {
     "name": "stderr",
     "output_type": "stream",
     "text": [
      "Epoch 4/10: 100%|██████████| 1016/1016 [04:28<00:00,  3.79it/s, acc=0.956, loss=0.0108]\n"
     ]
    },
    {
     "name": "stdout",
     "output_type": "stream",
     "text": [
      "\n",
      "Epoch 4: Train Loss: 0.1325, Train Acc: 0.9564, Val Loss: 0.1850, Val Acc: 0.9490\n",
      "\n"
     ]
    },
    {
     "name": "stderr",
     "output_type": "stream",
     "text": [
      "Epoch 5/10: 100%|██████████| 1016/1016 [04:27<00:00,  3.79it/s, acc=0.971, loss=0.35]\n"
     ]
    },
    {
     "name": "stdout",
     "output_type": "stream",
     "text": [
      "\n",
      "Epoch 5: Train Loss: 0.0933, Train Acc: 0.9705, Val Loss: 0.2022, Val Acc: 0.9451\n",
      "\n"
     ]
    },
    {
     "name": "stderr",
     "output_type": "stream",
     "text": [
      "Epoch 6/10: 100%|██████████| 1016/1016 [04:27<00:00,  3.79it/s, acc=0.975, loss=0.0924]\n"
     ]
    },
    {
     "name": "stdout",
     "output_type": "stream",
     "text": [
      "\n",
      "Epoch 6: Train Loss: 0.0764, Train Acc: 0.9753, Val Loss: 0.1949, Val Acc: 0.9483\n",
      "\n"
     ]
    },
    {
     "name": "stderr",
     "output_type": "stream",
     "text": [
      "Epoch 7/10: 100%|██████████| 1016/1016 [04:27<00:00,  3.79it/s, acc=0.982, loss=0.000988]\n"
     ]
    },
    {
     "name": "stdout",
     "output_type": "stream",
     "text": [
      "\n",
      "Epoch 7: Train Loss: 0.0521, Train Acc: 0.9823, Val Loss: 0.2812, Val Acc: 0.9353\n",
      "\n"
     ]
    },
    {
     "name": "stderr",
     "output_type": "stream",
     "text": [
      "Epoch 8/10: 100%|██████████| 1016/1016 [04:27<00:00,  3.80it/s, acc=0.984, loss=0.00112]\n"
     ]
    },
    {
     "name": "stdout",
     "output_type": "stream",
     "text": [
      "\n",
      "Epoch 8: Train Loss: 0.0491, Train Acc: 0.9839, Val Loss: 0.1975, Val Acc: 0.9542\n",
      "\n"
     ]
    },
    {
     "name": "stderr",
     "output_type": "stream",
     "text": [
      "Epoch 9/10: 100%|██████████| 1016/1016 [04:27<00:00,  3.80it/s, acc=0.994, loss=0.00666]\n"
     ]
    },
    {
     "name": "stdout",
     "output_type": "stream",
     "text": [
      "\n",
      "Epoch 9: Train Loss: 0.0192, Train Acc: 0.9944, Val Loss: 0.2141, Val Acc: 0.9579\n",
      "\n"
     ]
    },
    {
     "name": "stderr",
     "output_type": "stream",
     "text": [
      "Epoch 10/10: 100%|██████████| 1016/1016 [04:28<00:00,  3.79it/s, acc=0.994, loss=0.00064]\n"
     ]
    },
    {
     "name": "stdout",
     "output_type": "stream",
     "text": [
      "\n",
      "Epoch 10: Train Loss: 0.0180, Train Acc: 0.9945, Val Loss: 0.1700, Val Acc: 0.9623\n",
      "\n"
     ]
    }
   ],
   "source": [
    "import torch\n",
    "import torch.nn as nn\n",
    "from tqdm import tqdm\n",
    "\n",
    "num_epochs = 10\n",
    "\n",
    "for epoch in range(num_epochs):  \n",
    "    model.train()\n",
    "    total_train_loss = 0\n",
    "    correct_train = 0\n",
    "    total_train = 0\n",
    "\n",
    "    # tqdm để hiển thị progress bar\n",
    "    loop = tqdm(train_dataloader, desc=f\"Epoch {epoch+1}/{num_epochs}\", leave=True)\n",
    "\n",
    "    for batch in loop:\n",
    "        inputs, masks, labels = batch\n",
    "        inputs, masks, labels = inputs.to(device), masks.to(device), labels.to(device)\n",
    "\n",
    "        # Đảm bảo labels có đúng kiểu dữ liệu\n",
    "        labels = labels.to(torch.long)\n",
    "\n",
    "        optimizer.zero_grad()\n",
    "        outputs = model(input_ids=inputs, attention_mask=masks).logits  # Không cần squeeze()\n",
    "\n",
    "        loss = criterion(outputs, labels)  # CrossEntropyLoss tự động xử lý softmax\n",
    "        loss.backward()\n",
    "        optimizer.step()\n",
    "\n",
    "        total_train_loss += loss.item()\n",
    "\n",
    "        # Sử dụng logits trực tiếp mà không cần softmax()\n",
    "        preds = torch.argmax(outputs, dim=1)  \n",
    "        correct_train += (preds == labels).sum().item()\n",
    "        total_train += labels.size(0)\n",
    "\n",
    "        # Cập nhật progress bar\n",
    "        loop.set_postfix(loss=loss.item(), acc=correct_train/total_train)\n",
    "\n",
    "    train_loss = total_train_loss / len(train_dataloader)\n",
    "    train_acc = correct_train / total_train\n",
    "\n",
    "    # ================== Validation ===================\n",
    "    model.eval()\n",
    "    total_val_loss = 0\n",
    "    correct_val = 0\n",
    "    total_val = 0\n",
    "\n",
    "    with torch.no_grad():\n",
    "        for batch in val_dataloader:\n",
    "            inputs, masks, labels = batch\n",
    "            inputs, masks, labels = inputs.to(device), masks.to(device), labels.to(device)\n",
    "\n",
    "            labels = labels.to(torch.long)  # Đảm bảo kiểu đúng\n",
    "\n",
    "            outputs = model(input_ids=inputs, attention_mask=masks).logits\n",
    "            loss = criterion(outputs, labels)\n",
    "\n",
    "            total_val_loss += loss.item()\n",
    "\n",
    "            preds = torch.argmax(outputs, dim=1)  \n",
    "            correct_val += (preds == labels).sum().item()\n",
    "            total_val += labels.size(0)\n",
    "\n",
    "    val_loss = total_val_loss / len(val_dataloader)\n",
    "    val_acc = correct_val / total_val\n",
    "    scheduler.step(val_loss)\n",
    "\n",
    "    print(f\"\\nEpoch {epoch+1}: Train Loss: {train_loss:.4f}, Train Acc: {train_acc:.4f}, Val Loss: {val_loss:.4f}, Val Acc: {val_acc:.4f}\\n\")\n"
   ]
  },
  {
   "cell_type": "code",
   "execution_count": 28,
   "id": "e7fb621e",
   "metadata": {
    "execution": {
     "iopub.execute_input": "2025-03-07T18:39:20.585125Z",
     "iopub.status.busy": "2025-03-07T18:39:20.584748Z",
     "iopub.status.idle": "2025-03-07T18:39:20.614586Z",
     "shell.execute_reply": "2025-03-07T18:39:20.613898Z"
    },
    "papermill": {
     "duration": 0.956456,
     "end_time": "2025-03-07T18:39:20.615781",
     "exception": false,
     "start_time": "2025-03-07T18:39:19.659325",
     "status": "completed"
    },
    "tags": []
   },
   "outputs": [
    {
     "name": "stdout",
     "output_type": "stream",
     "text": [
      "<class 'pandas.core.frame.DataFrame'>\n",
      "RangeIndex: 20310 entries, 0 to 20309\n",
      "Data columns (total 2 columns):\n",
      " #   Column  Non-Null Count  Dtype \n",
      "---  ------  --------------  ----- \n",
      " 0   text    20310 non-null  object\n",
      " 1   stars   20310 non-null  int64 \n",
      "dtypes: int64(1), object(1)\n",
      "memory usage: 317.5+ KB\n",
      "None\n"
     ]
    },
    {
     "data": {
      "text/html": [
       "<div>\n",
       "<style scoped>\n",
       "    .dataframe tbody tr th:only-of-type {\n",
       "        vertical-align: middle;\n",
       "    }\n",
       "\n",
       "    .dataframe tbody tr th {\n",
       "        vertical-align: top;\n",
       "    }\n",
       "\n",
       "    .dataframe thead th {\n",
       "        text-align: right;\n",
       "    }\n",
       "</style>\n",
       "<table border=\"1\" class=\"dataframe\">\n",
       "  <thead>\n",
       "    <tr style=\"text-align: right;\">\n",
       "      <th></th>\n",
       "      <th>text</th>\n",
       "      <th>stars</th>\n",
       "    </tr>\n",
       "  </thead>\n",
       "  <tbody>\n",
       "    <tr>\n",
       "      <th>0</th>\n",
       "      <td>wife took birthday breakfast excellent weather...</td>\n",
       "      <td>2</td>\n",
       "    </tr>\n",
       "    <tr>\n",
       "      <th>1</th>\n",
       "      <td>no idea people give bad review place go show p...</td>\n",
       "      <td>2</td>\n",
       "    </tr>\n",
       "    <tr>\n",
       "      <th>2</th>\n",
       "      <td>love gyro plate rice good also dig candy selec...</td>\n",
       "      <td>2</td>\n",
       "    </tr>\n",
       "    <tr>\n",
       "      <th>3</th>\n",
       "      <td>rosie &lt;UNK&gt; love chaparral dog park convenient...</td>\n",
       "      <td>2</td>\n",
       "    </tr>\n",
       "    <tr>\n",
       "      <th>4</th>\n",
       "      <td>general manager scott &lt;UNK&gt; good egg not go de...</td>\n",
       "      <td>2</td>\n",
       "    </tr>\n",
       "    <tr>\n",
       "      <th>...</th>\n",
       "      <td>...</td>\n",
       "      <td>...</td>\n",
       "    </tr>\n",
       "    <tr>\n",
       "      <th>20305</th>\n",
       "      <td>may disagree majority review restaurant came p...</td>\n",
       "      <td>1</td>\n",
       "    </tr>\n",
       "    <tr>\n",
       "      <th>20306</th>\n",
       "      <td>place lot potential really want well went satu...</td>\n",
       "      <td>1</td>\n",
       "    </tr>\n",
       "    <tr>\n",
       "      <th>20307</th>\n",
       "      <td>people either stock shelv cleane floor behind ...</td>\n",
       "      <td>1</td>\n",
       "    </tr>\n",
       "    <tr>\n",
       "      <th>20308</th>\n",
       "      <td>grand total three tim probably not return time...</td>\n",
       "      <td>1</td>\n",
       "    </tr>\n",
       "    <tr>\n",
       "      <th>20309</th>\n",
       "      <td>ok first demise &lt;UNK&gt; fact green tempe place w...</td>\n",
       "      <td>1</td>\n",
       "    </tr>\n",
       "  </tbody>\n",
       "</table>\n",
       "<p>20310 rows × 2 columns</p>\n",
       "</div>"
      ],
      "text/plain": [
       "                                                    text  stars\n",
       "0      wife took birthday breakfast excellent weather...      2\n",
       "1      no idea people give bad review place go show p...      2\n",
       "2      love gyro plate rice good also dig candy selec...      2\n",
       "3      rosie <UNK> love chaparral dog park convenient...      2\n",
       "4      general manager scott <UNK> good egg not go de...      2\n",
       "...                                                  ...    ...\n",
       "20305  may disagree majority review restaurant came p...      1\n",
       "20306  place lot potential really want well went satu...      1\n",
       "20307  people either stock shelv cleane floor behind ...      1\n",
       "20308  grand total three tim probably not return time...      1\n",
       "20309  ok first demise <UNK> fact green tempe place w...      1\n",
       "\n",
       "[20310 rows x 2 columns]"
      ]
     },
     "execution_count": 28,
     "metadata": {},
     "output_type": "execute_result"
    }
   ],
   "source": [
    "yelp = pd.DataFrame(X_bal,columns=[\"text\"])\n",
    "yelp2 = pd.DataFrame(y_bal,columns=[\"stars\"])\n",
    "yelp = yelp.join(yelp2)\n",
    "df = yelp.copy()\n",
    "print(df.info())\n",
    "df"
   ]
  },
  {
   "cell_type": "code",
   "execution_count": 29,
   "id": "6b342d60",
   "metadata": {
    "execution": {
     "iopub.execute_input": "2025-03-07T18:39:22.587917Z",
     "iopub.status.busy": "2025-03-07T18:39:22.587610Z",
     "iopub.status.idle": "2025-03-07T18:39:23.527166Z",
     "shell.execute_reply": "2025-03-07T18:39:23.526438Z"
    },
    "papermill": {
     "duration": 1.922984,
     "end_time": "2025-03-07T18:39:23.528685",
     "exception": false,
     "start_time": "2025-03-07T18:39:21.605701",
     "status": "completed"
    },
    "tags": []
   },
   "outputs": [],
   "source": [
    "df.groupby(\"stars\").describe()\n",
    "X = df[\"text\"]\n",
    "y = df[\"stars\"]\n",
    "from sklearn.feature_extraction.text import CountVectorizer\n",
    "cv = CountVectorizer()\n",
    "\n",
    "X = cv.fit_transform(X)\n",
    "from sklearn.model_selection import train_test_split\n",
    "\n",
    "X_train, X_test, y_train, y_test = train_test_split(X, y, test_size=0.2, random_state=42)"
   ]
  },
  {
   "cell_type": "code",
   "execution_count": 30,
   "id": "5cc42fa5",
   "metadata": {
    "execution": {
     "iopub.execute_input": "2025-03-07T18:39:25.527924Z",
     "iopub.status.busy": "2025-03-07T18:39:25.527600Z",
     "iopub.status.idle": "2025-03-07T18:39:25.749779Z",
     "shell.execute_reply": "2025-03-07T18:39:25.749129Z"
    },
    "papermill": {
     "duration": 1.22952,
     "end_time": "2025-03-07T18:39:25.751270",
     "exception": false,
     "start_time": "2025-03-07T18:39:24.521750",
     "status": "completed"
    },
    "tags": []
   },
   "outputs": [],
   "source": [
    "from sklearn.metrics import classification_report,confusion_matrix\n",
    "from sklearn.svm import SVC\n",
    "from sklearn.ensemble import RandomForestClassifier\n",
    "from math import sqrt\n",
    "from sklearn.metrics import mean_squared_error\n",
    "from sklearn.svm import LinearSVC\n",
    "def prediction(model, X_train, X_test, y_train, y_test):\n",
    "    model.fit(X_train, y_train)\n",
    "    predictions = model.predict(X_test)\n",
    "    print(classification_report(y_test,predictions))\n",
    "    print(confusion_matrix(y_test,predictions))\n"
   ]
  },
  {
   "cell_type": "code",
   "execution_count": 31,
   "id": "c60a4637",
   "metadata": {
    "execution": {
     "iopub.execute_input": "2025-03-07T18:39:27.647524Z",
     "iopub.status.busy": "2025-03-07T18:39:27.647229Z",
     "iopub.status.idle": "2025-03-07T18:39:35.592616Z",
     "shell.execute_reply": "2025-03-07T18:39:35.591605Z"
    },
    "papermill": {
     "duration": 8.863234,
     "end_time": "2025-03-07T18:39:35.594149",
     "exception": false,
     "start_time": "2025-03-07T18:39:26.730915",
     "status": "completed"
    },
    "tags": []
   },
   "outputs": [
    {
     "name": "stdout",
     "output_type": "stream",
     "text": [
      "              precision    recall  f1-score   support\n",
      "\n",
      "           0       0.97      0.99      0.98      1354\n",
      "           1       0.97      0.98      0.97      1360\n",
      "           2       0.97      0.93      0.95      1348\n",
      "\n",
      "    accuracy                           0.97      4062\n",
      "   macro avg       0.97      0.97      0.97      4062\n",
      "weighted avg       0.97      0.97      0.97      4062\n",
      "\n",
      "[[1334    2   18]\n",
      " [   2 1338   20]\n",
      " [  44   46 1258]]\n"
     ]
    }
   ],
   "source": [
    "prediction(RandomForestClassifier(n_estimators=40), X_train, X_test, y_train, y_test)\n"
   ]
  },
  {
   "cell_type": "code",
   "execution_count": 32,
   "id": "f1683680",
   "metadata": {
    "execution": {
     "iopub.execute_input": "2025-03-07T18:39:37.567666Z",
     "iopub.status.busy": "2025-03-07T18:39:37.567281Z",
     "iopub.status.idle": "2025-03-07T18:41:26.936138Z",
     "shell.execute_reply": "2025-03-07T18:41:26.934896Z"
    },
    "papermill": {
     "duration": 111.358397,
     "end_time": "2025-03-07T18:41:27.919297",
     "exception": false,
     "start_time": "2025-03-07T18:39:36.560900",
     "status": "completed"
    },
    "tags": []
   },
   "outputs": [
    {
     "name": "stdout",
     "output_type": "stream",
     "text": [
      "              precision    recall  f1-score   support\n",
      "\n",
      "           0       0.93      0.95      0.94      1354\n",
      "           1       0.90      0.89      0.89      1360\n",
      "           2       0.90      0.89      0.89      1348\n",
      "\n",
      "    accuracy                           0.91      4062\n",
      "   macro avg       0.91      0.91      0.91      4062\n",
      "weighted avg       0.91      0.91      0.91      4062\n",
      "\n",
      "[[1282   33   39]\n",
      " [  52 1209   99]\n",
      " [  46  108 1194]]\n"
     ]
    }
   ],
   "source": [
    "prediction(SVC(), X_train, X_test, y_train, y_test)"
   ]
  },
  {
   "cell_type": "code",
   "execution_count": null,
   "id": "63a61298",
   "metadata": {
    "papermill": {
     "duration": 0.922653,
     "end_time": "2025-03-07T18:41:29.821884",
     "exception": false,
     "start_time": "2025-03-07T18:41:28.899231",
     "status": "completed"
    },
    "tags": []
   },
   "outputs": [],
   "source": []
  }
 ],
 "metadata": {
  "kaggle": {
   "accelerator": "gpu",
   "dataSources": [
    {
     "datasetId": 29760,
     "sourceId": 37927,
     "sourceType": "datasetVersion"
    }
   ],
   "dockerImageVersionId": 30919,
   "isGpuEnabled": true,
   "isInternetEnabled": true,
   "language": "python",
   "sourceType": "notebook"
  },
  "kernelspec": {
   "display_name": "Python 3",
   "language": "python",
   "name": "python3"
  },
  "language_info": {
   "codemirror_mode": {
    "name": "ipython",
    "version": 3
   },
   "file_extension": ".py",
   "mimetype": "text/x-python",
   "name": "python",
   "nbconvert_exporter": "python",
   "pygments_lexer": "ipython3",
   "version": "3.10.12"
  },
  "papermill": {
   "default_parameters": {},
   "duration": 3065.71394,
   "end_time": "2025-03-07T18:41:34.116516",
   "environment_variables": {},
   "exception": null,
   "input_path": "__notebook__.ipynb",
   "output_path": "__notebook__.ipynb",
   "parameters": {},
   "start_time": "2025-03-07T17:50:28.402576",
   "version": "2.6.0"
  },
  "widgets": {
   "application/vnd.jupyter.widget-state+json": {
    "state": {
     "04a6b9eddc31422c8166b2040006a542": {
      "model_module": "@jupyter-widgets/base",
      "model_module_version": "2.0.0",
      "model_name": "LayoutModel",
      "state": {
       "_model_module": "@jupyter-widgets/base",
       "_model_module_version": "2.0.0",
       "_model_name": "LayoutModel",
       "_view_count": null,
       "_view_module": "@jupyter-widgets/base",
       "_view_module_version": "2.0.0",
       "_view_name": "LayoutView",
       "align_content": null,
       "align_items": null,
       "align_self": null,
       "border_bottom": null,
       "border_left": null,
       "border_right": null,
       "border_top": null,
       "bottom": null,
       "display": null,
       "flex": null,
       "flex_flow": null,
       "grid_area": null,
       "grid_auto_columns": null,
       "grid_auto_flow": null,
       "grid_auto_rows": null,
       "grid_column": null,
       "grid_gap": null,
       "grid_row": null,
       "grid_template_areas": null,
       "grid_template_columns": null,
       "grid_template_rows": null,
       "height": null,
       "justify_content": null,
       "justify_items": null,
       "left": null,
       "margin": null,
       "max_height": null,
       "max_width": null,
       "min_height": null,
       "min_width": null,
       "object_fit": null,
       "object_position": null,
       "order": null,
       "overflow": null,
       "padding": null,
       "right": null,
       "top": null,
       "visibility": null,
       "width": null
      }
     },
     "057b8e317a6f49c48267e248e6240e0a": {
      "model_module": "@jupyter-widgets/base",
      "model_module_version": "2.0.0",
      "model_name": "LayoutModel",
      "state": {
       "_model_module": "@jupyter-widgets/base",
       "_model_module_version": "2.0.0",
       "_model_name": "LayoutModel",
       "_view_count": null,
       "_view_module": "@jupyter-widgets/base",
       "_view_module_version": "2.0.0",
       "_view_name": "LayoutView",
       "align_content": null,
       "align_items": null,
       "align_self": null,
       "border_bottom": null,
       "border_left": null,
       "border_right": null,
       "border_top": null,
       "bottom": null,
       "display": null,
       "flex": null,
       "flex_flow": null,
       "grid_area": null,
       "grid_auto_columns": null,
       "grid_auto_flow": null,
       "grid_auto_rows": null,
       "grid_column": null,
       "grid_gap": null,
       "grid_row": null,
       "grid_template_areas": null,
       "grid_template_columns": null,
       "grid_template_rows": null,
       "height": null,
       "justify_content": null,
       "justify_items": null,
       "left": null,
       "margin": null,
       "max_height": null,
       "max_width": null,
       "min_height": null,
       "min_width": null,
       "object_fit": null,
       "object_position": null,
       "order": null,
       "overflow": null,
       "padding": null,
       "right": null,
       "top": null,
       "visibility": null,
       "width": null
      }
     },
     "0630bd6c5abf4982b995a51255384957": {
      "model_module": "@jupyter-widgets/controls",
      "model_module_version": "2.0.0",
      "model_name": "HBoxModel",
      "state": {
       "_dom_classes": [],
       "_model_module": "@jupyter-widgets/controls",
       "_model_module_version": "2.0.0",
       "_model_name": "HBoxModel",
       "_view_count": null,
       "_view_module": "@jupyter-widgets/controls",
       "_view_module_version": "2.0.0",
       "_view_name": "HBoxView",
       "box_style": "",
       "children": [
        "IPY_MODEL_3ddc596cb7184a039a92e5b12445219b",
        "IPY_MODEL_4db3c3639fa446cd8b745f5d73056d91",
        "IPY_MODEL_42c4809f1a624ba793026fed2d74dcad"
       ],
       "layout": "IPY_MODEL_06533955696643cf8de8c94cec17ddb9",
       "tabbable": null,
       "tooltip": null
      }
     },
     "064690969dff4487b323a5903c82af12": {
      "model_module": "@jupyter-widgets/controls",
      "model_module_version": "2.0.0",
      "model_name": "HBoxModel",
      "state": {
       "_dom_classes": [],
       "_model_module": "@jupyter-widgets/controls",
       "_model_module_version": "2.0.0",
       "_model_name": "HBoxModel",
       "_view_count": null,
       "_view_module": "@jupyter-widgets/controls",
       "_view_module_version": "2.0.0",
       "_view_name": "HBoxView",
       "box_style": "",
       "children": [
        "IPY_MODEL_c7563b53c5614c579169117d0d517382",
        "IPY_MODEL_5f95bbb754ba44afae84ef6331d76a8c",
        "IPY_MODEL_17f8a9e8f83d4475a5f2312910c22e7d"
       ],
       "layout": "IPY_MODEL_da312c7d79af4493b1eed4850862027d",
       "tabbable": null,
       "tooltip": null
      }
     },
     "06533955696643cf8de8c94cec17ddb9": {
      "model_module": "@jupyter-widgets/base",
      "model_module_version": "2.0.0",
      "model_name": "LayoutModel",
      "state": {
       "_model_module": "@jupyter-widgets/base",
       "_model_module_version": "2.0.0",
       "_model_name": "LayoutModel",
       "_view_count": null,
       "_view_module": "@jupyter-widgets/base",
       "_view_module_version": "2.0.0",
       "_view_name": "LayoutView",
       "align_content": null,
       "align_items": null,
       "align_self": null,
       "border_bottom": null,
       "border_left": null,
       "border_right": null,
       "border_top": null,
       "bottom": null,
       "display": null,
       "flex": null,
       "flex_flow": null,
       "grid_area": null,
       "grid_auto_columns": null,
       "grid_auto_flow": null,
       "grid_auto_rows": null,
       "grid_column": null,
       "grid_gap": null,
       "grid_row": null,
       "grid_template_areas": null,
       "grid_template_columns": null,
       "grid_template_rows": null,
       "height": null,
       "justify_content": null,
       "justify_items": null,
       "left": null,
       "margin": null,
       "max_height": null,
       "max_width": null,
       "min_height": null,
       "min_width": null,
       "object_fit": null,
       "object_position": null,
       "order": null,
       "overflow": null,
       "padding": null,
       "right": null,
       "top": null,
       "visibility": null,
       "width": null
      }
     },
     "17f8a9e8f83d4475a5f2312910c22e7d": {
      "model_module": "@jupyter-widgets/controls",
      "model_module_version": "2.0.0",
      "model_name": "HTMLModel",
      "state": {
       "_dom_classes": [],
       "_model_module": "@jupyter-widgets/controls",
       "_model_module_version": "2.0.0",
       "_model_name": "HTMLModel",
       "_view_count": null,
       "_view_module": "@jupyter-widgets/controls",
       "_view_module_version": "2.0.0",
       "_view_name": "HTMLView",
       "description": "",
       "description_allow_html": false,
       "layout": "IPY_MODEL_9180714352444e80901001e1f5cf8210",
       "placeholder": "​",
       "style": "IPY_MODEL_e09fbf31b5bf41f0970c73f589b9e1f7",
       "tabbable": null,
       "tooltip": null,
       "value": " 499M/499M [00:02&lt;00:00, 240MB/s]"
      }
     },
     "19cce91b566e4719b7d338003cbd4dd7": {
      "model_module": "@jupyter-widgets/base",
      "model_module_version": "2.0.0",
      "model_name": "LayoutModel",
      "state": {
       "_model_module": "@jupyter-widgets/base",
       "_model_module_version": "2.0.0",
       "_model_name": "LayoutModel",
       "_view_count": null,
       "_view_module": "@jupyter-widgets/base",
       "_view_module_version": "2.0.0",
       "_view_name": "LayoutView",
       "align_content": null,
       "align_items": null,
       "align_self": null,
       "border_bottom": null,
       "border_left": null,
       "border_right": null,
       "border_top": null,
       "bottom": null,
       "display": null,
       "flex": null,
       "flex_flow": null,
       "grid_area": null,
       "grid_auto_columns": null,
       "grid_auto_flow": null,
       "grid_auto_rows": null,
       "grid_column": null,
       "grid_gap": null,
       "grid_row": null,
       "grid_template_areas": null,
       "grid_template_columns": null,
       "grid_template_rows": null,
       "height": null,
       "justify_content": null,
       "justify_items": null,
       "left": null,
       "margin": null,
       "max_height": null,
       "max_width": null,
       "min_height": null,
       "min_width": null,
       "object_fit": null,
       "object_position": null,
       "order": null,
       "overflow": null,
       "padding": null,
       "right": null,
       "top": null,
       "visibility": null,
       "width": null
      }
     },
     "1e2f4193bc044c758c938a420ab0b3ac": {
      "model_module": "@jupyter-widgets/controls",
      "model_module_version": "2.0.0",
      "model_name": "HBoxModel",
      "state": {
       "_dom_classes": [],
       "_model_module": "@jupyter-widgets/controls",
       "_model_module_version": "2.0.0",
       "_model_name": "HBoxModel",
       "_view_count": null,
       "_view_module": "@jupyter-widgets/controls",
       "_view_module_version": "2.0.0",
       "_view_name": "HBoxView",
       "box_style": "",
       "children": [
        "IPY_MODEL_2a8cc608a00b41e489b676be1654b971",
        "IPY_MODEL_4f9273280ecb42899d892c755b315986",
        "IPY_MODEL_f4a461b93f6440be89113b00a6361791"
       ],
       "layout": "IPY_MODEL_04a6b9eddc31422c8166b2040006a542",
       "tabbable": null,
       "tooltip": null
      }
     },
     "28d1e7c856a3422c82246d6f603e2098": {
      "model_module": "@jupyter-widgets/controls",
      "model_module_version": "2.0.0",
      "model_name": "HTMLStyleModel",
      "state": {
       "_model_module": "@jupyter-widgets/controls",
       "_model_module_version": "2.0.0",
       "_model_name": "HTMLStyleModel",
       "_view_count": null,
       "_view_module": "@jupyter-widgets/base",
       "_view_module_version": "2.0.0",
       "_view_name": "StyleView",
       "background": null,
       "description_width": "",
       "font_size": null,
       "text_color": null
      }
     },
     "2a8cc608a00b41e489b676be1654b971": {
      "model_module": "@jupyter-widgets/controls",
      "model_module_version": "2.0.0",
      "model_name": "HTMLModel",
      "state": {
       "_dom_classes": [],
       "_model_module": "@jupyter-widgets/controls",
       "_model_module_version": "2.0.0",
       "_model_name": "HTMLModel",
       "_view_count": null,
       "_view_module": "@jupyter-widgets/controls",
       "_view_module_version": "2.0.0",
       "_view_name": "HTMLView",
       "description": "",
       "description_allow_html": false,
       "layout": "IPY_MODEL_720cd6951f504e19986ada8e205cbda7",
       "placeholder": "​",
       "style": "IPY_MODEL_837ad8d5fed9463f8b0a823b050a7c3b",
       "tabbable": null,
       "tooltip": null,
       "value": "tokenizer_config.json: 100%"
      }
     },
     "2a9bb6dc467a4cacbf181e57310d9b20": {
      "model_module": "@jupyter-widgets/controls",
      "model_module_version": "2.0.0",
      "model_name": "ProgressStyleModel",
      "state": {
       "_model_module": "@jupyter-widgets/controls",
       "_model_module_version": "2.0.0",
       "_model_name": "ProgressStyleModel",
       "_view_count": null,
       "_view_module": "@jupyter-widgets/base",
       "_view_module_version": "2.0.0",
       "_view_name": "StyleView",
       "bar_color": null,
       "description_width": ""
      }
     },
     "2e51971f77d34fcdb047a47652951a23": {
      "model_module": "@jupyter-widgets/controls",
      "model_module_version": "2.0.0",
      "model_name": "FloatProgressModel",
      "state": {
       "_dom_classes": [],
       "_model_module": "@jupyter-widgets/controls",
       "_model_module_version": "2.0.0",
       "_model_name": "FloatProgressModel",
       "_view_count": null,
       "_view_module": "@jupyter-widgets/controls",
       "_view_module_version": "2.0.0",
       "_view_name": "ProgressView",
       "bar_style": "success",
       "description": "",
       "description_allow_html": false,
       "layout": "IPY_MODEL_057b8e317a6f49c48267e248e6240e0a",
       "max": 898823.0,
       "min": 0.0,
       "orientation": "horizontal",
       "style": "IPY_MODEL_c8aa2326ca2e4b42a3924d61492d3ee1",
       "tabbable": null,
       "tooltip": null,
       "value": 898823.0
      }
     },
     "38aadb70279c4e33b602b9d87e373ee3": {
      "model_module": "@jupyter-widgets/controls",
      "model_module_version": "2.0.0",
      "model_name": "HBoxModel",
      "state": {
       "_dom_classes": [],
       "_model_module": "@jupyter-widgets/controls",
       "_model_module_version": "2.0.0",
       "_model_name": "HBoxModel",
       "_view_count": null,
       "_view_module": "@jupyter-widgets/controls",
       "_view_module_version": "2.0.0",
       "_view_name": "HBoxView",
       "box_style": "",
       "children": [
        "IPY_MODEL_cceec005236b405c804df3d5b4dfed89",
        "IPY_MODEL_5491dd7824f4466cb0f0502eea510a58",
        "IPY_MODEL_54f1be1b77eb4257bceabc38051bba2e"
       ],
       "layout": "IPY_MODEL_f5826dc1b47f4258b8b1918fd7e967f3",
       "tabbable": null,
       "tooltip": null
      }
     },
     "3ddc596cb7184a039a92e5b12445219b": {
      "model_module": "@jupyter-widgets/controls",
      "model_module_version": "2.0.0",
      "model_name": "HTMLModel",
      "state": {
       "_dom_classes": [],
       "_model_module": "@jupyter-widgets/controls",
       "_model_module_version": "2.0.0",
       "_model_name": "HTMLModel",
       "_view_count": null,
       "_view_module": "@jupyter-widgets/controls",
       "_view_module_version": "2.0.0",
       "_view_name": "HTMLView",
       "description": "",
       "description_allow_html": false,
       "layout": "IPY_MODEL_abe708bb5444476bae0a594c8024ed17",
       "placeholder": "​",
       "style": "IPY_MODEL_85a8be2c22524106ad703b9a9dbc744b",
       "tabbable": null,
       "tooltip": null,
       "value": "tokenizer.json: 100%"
      }
     },
     "3fdfe59e16394077afa30789491b70a4": {
      "model_module": "@jupyter-widgets/base",
      "model_module_version": "2.0.0",
      "model_name": "LayoutModel",
      "state": {
       "_model_module": "@jupyter-widgets/base",
       "_model_module_version": "2.0.0",
       "_model_name": "LayoutModel",
       "_view_count": null,
       "_view_module": "@jupyter-widgets/base",
       "_view_module_version": "2.0.0",
       "_view_name": "LayoutView",
       "align_content": null,
       "align_items": null,
       "align_self": null,
       "border_bottom": null,
       "border_left": null,
       "border_right": null,
       "border_top": null,
       "bottom": null,
       "display": null,
       "flex": null,
       "flex_flow": null,
       "grid_area": null,
       "grid_auto_columns": null,
       "grid_auto_flow": null,
       "grid_auto_rows": null,
       "grid_column": null,
       "grid_gap": null,
       "grid_row": null,
       "grid_template_areas": null,
       "grid_template_columns": null,
       "grid_template_rows": null,
       "height": null,
       "justify_content": null,
       "justify_items": null,
       "left": null,
       "margin": null,
       "max_height": null,
       "max_width": null,
       "min_height": null,
       "min_width": null,
       "object_fit": null,
       "object_position": null,
       "order": null,
       "overflow": null,
       "padding": null,
       "right": null,
       "top": null,
       "visibility": null,
       "width": null
      }
     },
     "42c4809f1a624ba793026fed2d74dcad": {
      "model_module": "@jupyter-widgets/controls",
      "model_module_version": "2.0.0",
      "model_name": "HTMLModel",
      "state": {
       "_dom_classes": [],
       "_model_module": "@jupyter-widgets/controls",
       "_model_module_version": "2.0.0",
       "_model_name": "HTMLModel",
       "_view_count": null,
       "_view_module": "@jupyter-widgets/controls",
       "_view_module_version": "2.0.0",
       "_view_name": "HTMLView",
       "description": "",
       "description_allow_html": false,
       "layout": "IPY_MODEL_6f0e13ac07004752ac1dd2e61e567133",
       "placeholder": "​",
       "style": "IPY_MODEL_bf91953b238346a1bf84633aae7600c9",
       "tabbable": null,
       "tooltip": null,
       "value": " 1.36M/1.36M [00:00&lt;00:00, 21.4MB/s]"
      }
     },
     "47456debc3494a0d8d6e5e6139d46f5b": {
      "model_module": "@jupyter-widgets/base",
      "model_module_version": "2.0.0",
      "model_name": "LayoutModel",
      "state": {
       "_model_module": "@jupyter-widgets/base",
       "_model_module_version": "2.0.0",
       "_model_name": "LayoutModel",
       "_view_count": null,
       "_view_module": "@jupyter-widgets/base",
       "_view_module_version": "2.0.0",
       "_view_name": "LayoutView",
       "align_content": null,
       "align_items": null,
       "align_self": null,
       "border_bottom": null,
       "border_left": null,
       "border_right": null,
       "border_top": null,
       "bottom": null,
       "display": null,
       "flex": null,
       "flex_flow": null,
       "grid_area": null,
       "grid_auto_columns": null,
       "grid_auto_flow": null,
       "grid_auto_rows": null,
       "grid_column": null,
       "grid_gap": null,
       "grid_row": null,
       "grid_template_areas": null,
       "grid_template_columns": null,
       "grid_template_rows": null,
       "height": null,
       "justify_content": null,
       "justify_items": null,
       "left": null,
       "margin": null,
       "max_height": null,
       "max_width": null,
       "min_height": null,
       "min_width": null,
       "object_fit": null,
       "object_position": null,
       "order": null,
       "overflow": null,
       "padding": null,
       "right": null,
       "top": null,
       "visibility": null,
       "width": null
      }
     },
     "4db3c3639fa446cd8b745f5d73056d91": {
      "model_module": "@jupyter-widgets/controls",
      "model_module_version": "2.0.0",
      "model_name": "FloatProgressModel",
      "state": {
       "_dom_classes": [],
       "_model_module": "@jupyter-widgets/controls",
       "_model_module_version": "2.0.0",
       "_model_name": "FloatProgressModel",
       "_view_count": null,
       "_view_module": "@jupyter-widgets/controls",
       "_view_module_version": "2.0.0",
       "_view_name": "ProgressView",
       "bar_style": "success",
       "description": "",
       "description_allow_html": false,
       "layout": "IPY_MODEL_bf23ed7ca3d048f994608e367e88de8c",
       "max": 1355863.0,
       "min": 0.0,
       "orientation": "horizontal",
       "style": "IPY_MODEL_f0b83f976a0747dc8f26f864755acb74",
       "tabbable": null,
       "tooltip": null,
       "value": 1355863.0
      }
     },
     "4f9273280ecb42899d892c755b315986": {
      "model_module": "@jupyter-widgets/controls",
      "model_module_version": "2.0.0",
      "model_name": "FloatProgressModel",
      "state": {
       "_dom_classes": [],
       "_model_module": "@jupyter-widgets/controls",
       "_model_module_version": "2.0.0",
       "_model_name": "FloatProgressModel",
       "_view_count": null,
       "_view_module": "@jupyter-widgets/controls",
       "_view_module_version": "2.0.0",
       "_view_name": "ProgressView",
       "bar_style": "success",
       "description": "",
       "description_allow_html": false,
       "layout": "IPY_MODEL_923215bf438946a198c74171c80fc3c3",
       "max": 25.0,
       "min": 0.0,
       "orientation": "horizontal",
       "style": "IPY_MODEL_ac51ad9a21f342a3b20ffa8722048926",
       "tabbable": null,
       "tooltip": null,
       "value": 25.0
      }
     },
     "5491dd7824f4466cb0f0502eea510a58": {
      "model_module": "@jupyter-widgets/controls",
      "model_module_version": "2.0.0",
      "model_name": "FloatProgressModel",
      "state": {
       "_dom_classes": [],
       "_model_module": "@jupyter-widgets/controls",
       "_model_module_version": "2.0.0",
       "_model_name": "FloatProgressModel",
       "_view_count": null,
       "_view_module": "@jupyter-widgets/controls",
       "_view_module_version": "2.0.0",
       "_view_name": "ProgressView",
       "bar_style": "success",
       "description": "",
       "description_allow_html": false,
       "layout": "IPY_MODEL_821aafc7e21542d5973e93b23711bf27",
       "max": 456318.0,
       "min": 0.0,
       "orientation": "horizontal",
       "style": "IPY_MODEL_bbe57561c7244a708571c8d1e75935f9",
       "tabbable": null,
       "tooltip": null,
       "value": 456318.0
      }
     },
     "54f1be1b77eb4257bceabc38051bba2e": {
      "model_module": "@jupyter-widgets/controls",
      "model_module_version": "2.0.0",
      "model_name": "HTMLModel",
      "state": {
       "_dom_classes": [],
       "_model_module": "@jupyter-widgets/controls",
       "_model_module_version": "2.0.0",
       "_model_name": "HTMLModel",
       "_view_count": null,
       "_view_module": "@jupyter-widgets/controls",
       "_view_module_version": "2.0.0",
       "_view_name": "HTMLView",
       "description": "",
       "description_allow_html": false,
       "layout": "IPY_MODEL_47456debc3494a0d8d6e5e6139d46f5b",
       "placeholder": "​",
       "style": "IPY_MODEL_28d1e7c856a3422c82246d6f603e2098",
       "tabbable": null,
       "tooltip": null,
       "value": " 456k/456k [00:00&lt;00:00, 3.81MB/s]"
      }
     },
     "5a792d8a9a8f4430b8a15fc309247025": {
      "model_module": "@jupyter-widgets/base",
      "model_module_version": "2.0.0",
      "model_name": "LayoutModel",
      "state": {
       "_model_module": "@jupyter-widgets/base",
       "_model_module_version": "2.0.0",
       "_model_name": "LayoutModel",
       "_view_count": null,
       "_view_module": "@jupyter-widgets/base",
       "_view_module_version": "2.0.0",
       "_view_name": "LayoutView",
       "align_content": null,
       "align_items": null,
       "align_self": null,
       "border_bottom": null,
       "border_left": null,
       "border_right": null,
       "border_top": null,
       "bottom": null,
       "display": null,
       "flex": null,
       "flex_flow": null,
       "grid_area": null,
       "grid_auto_columns": null,
       "grid_auto_flow": null,
       "grid_auto_rows": null,
       "grid_column": null,
       "grid_gap": null,
       "grid_row": null,
       "grid_template_areas": null,
       "grid_template_columns": null,
       "grid_template_rows": null,
       "height": null,
       "justify_content": null,
       "justify_items": null,
       "left": null,
       "margin": null,
       "max_height": null,
       "max_width": null,
       "min_height": null,
       "min_width": null,
       "object_fit": null,
       "object_position": null,
       "order": null,
       "overflow": null,
       "padding": null,
       "right": null,
       "top": null,
       "visibility": null,
       "width": null
      }
     },
     "5f2fda08cf384a939e99195489be6943": {
      "model_module": "@jupyter-widgets/base",
      "model_module_version": "2.0.0",
      "model_name": "LayoutModel",
      "state": {
       "_model_module": "@jupyter-widgets/base",
       "_model_module_version": "2.0.0",
       "_model_name": "LayoutModel",
       "_view_count": null,
       "_view_module": "@jupyter-widgets/base",
       "_view_module_version": "2.0.0",
       "_view_name": "LayoutView",
       "align_content": null,
       "align_items": null,
       "align_self": null,
       "border_bottom": null,
       "border_left": null,
       "border_right": null,
       "border_top": null,
       "bottom": null,
       "display": null,
       "flex": null,
       "flex_flow": null,
       "grid_area": null,
       "grid_auto_columns": null,
       "grid_auto_flow": null,
       "grid_auto_rows": null,
       "grid_column": null,
       "grid_gap": null,
       "grid_row": null,
       "grid_template_areas": null,
       "grid_template_columns": null,
       "grid_template_rows": null,
       "height": null,
       "justify_content": null,
       "justify_items": null,
       "left": null,
       "margin": null,
       "max_height": null,
       "max_width": null,
       "min_height": null,
       "min_width": null,
       "object_fit": null,
       "object_position": null,
       "order": null,
       "overflow": null,
       "padding": null,
       "right": null,
       "top": null,
       "visibility": null,
       "width": null
      }
     },
     "5f95bbb754ba44afae84ef6331d76a8c": {
      "model_module": "@jupyter-widgets/controls",
      "model_module_version": "2.0.0",
      "model_name": "FloatProgressModel",
      "state": {
       "_dom_classes": [],
       "_model_module": "@jupyter-widgets/controls",
       "_model_module_version": "2.0.0",
       "_model_name": "FloatProgressModel",
       "_view_count": null,
       "_view_module": "@jupyter-widgets/controls",
       "_view_module_version": "2.0.0",
       "_view_name": "ProgressView",
       "bar_style": "success",
       "description": "",
       "description_allow_html": false,
       "layout": "IPY_MODEL_a103de0979b841da82199cdad4678a27",
       "max": 4.98818054E8,
       "min": 0.0,
       "orientation": "horizontal",
       "style": "IPY_MODEL_7f2d63d4b96c424597bfab98d583ce95",
       "tabbable": null,
       "tooltip": null,
       "value": 4.98818054E8
      }
     },
     "6f0e13ac07004752ac1dd2e61e567133": {
      "model_module": "@jupyter-widgets/base",
      "model_module_version": "2.0.0",
      "model_name": "LayoutModel",
      "state": {
       "_model_module": "@jupyter-widgets/base",
       "_model_module_version": "2.0.0",
       "_model_name": "LayoutModel",
       "_view_count": null,
       "_view_module": "@jupyter-widgets/base",
       "_view_module_version": "2.0.0",
       "_view_name": "LayoutView",
       "align_content": null,
       "align_items": null,
       "align_self": null,
       "border_bottom": null,
       "border_left": null,
       "border_right": null,
       "border_top": null,
       "bottom": null,
       "display": null,
       "flex": null,
       "flex_flow": null,
       "grid_area": null,
       "grid_auto_columns": null,
       "grid_auto_flow": null,
       "grid_auto_rows": null,
       "grid_column": null,
       "grid_gap": null,
       "grid_row": null,
       "grid_template_areas": null,
       "grid_template_columns": null,
       "grid_template_rows": null,
       "height": null,
       "justify_content": null,
       "justify_items": null,
       "left": null,
       "margin": null,
       "max_height": null,
       "max_width": null,
       "min_height": null,
       "min_width": null,
       "object_fit": null,
       "object_position": null,
       "order": null,
       "overflow": null,
       "padding": null,
       "right": null,
       "top": null,
       "visibility": null,
       "width": null
      }
     },
     "720cd6951f504e19986ada8e205cbda7": {
      "model_module": "@jupyter-widgets/base",
      "model_module_version": "2.0.0",
      "model_name": "LayoutModel",
      "state": {
       "_model_module": "@jupyter-widgets/base",
       "_model_module_version": "2.0.0",
       "_model_name": "LayoutModel",
       "_view_count": null,
       "_view_module": "@jupyter-widgets/base",
       "_view_module_version": "2.0.0",
       "_view_name": "LayoutView",
       "align_content": null,
       "align_items": null,
       "align_self": null,
       "border_bottom": null,
       "border_left": null,
       "border_right": null,
       "border_top": null,
       "bottom": null,
       "display": null,
       "flex": null,
       "flex_flow": null,
       "grid_area": null,
       "grid_auto_columns": null,
       "grid_auto_flow": null,
       "grid_auto_rows": null,
       "grid_column": null,
       "grid_gap": null,
       "grid_row": null,
       "grid_template_areas": null,
       "grid_template_columns": null,
       "grid_template_rows": null,
       "height": null,
       "justify_content": null,
       "justify_items": null,
       "left": null,
       "margin": null,
       "max_height": null,
       "max_width": null,
       "min_height": null,
       "min_width": null,
       "object_fit": null,
       "object_position": null,
       "order": null,
       "overflow": null,
       "padding": null,
       "right": null,
       "top": null,
       "visibility": null,
       "width": null
      }
     },
     "76bbee5665b44067b72d29a79c8433d2": {
      "model_module": "@jupyter-widgets/controls",
      "model_module_version": "2.0.0",
      "model_name": "HTMLModel",
      "state": {
       "_dom_classes": [],
       "_model_module": "@jupyter-widgets/controls",
       "_model_module_version": "2.0.0",
       "_model_name": "HTMLModel",
       "_view_count": null,
       "_view_module": "@jupyter-widgets/controls",
       "_view_module_version": "2.0.0",
       "_view_name": "HTMLView",
       "description": "",
       "description_allow_html": false,
       "layout": "IPY_MODEL_19cce91b566e4719b7d338003cbd4dd7",
       "placeholder": "​",
       "style": "IPY_MODEL_eccfc0228e4f4ee2bfc26a7d5aba6f7d",
       "tabbable": null,
       "tooltip": null,
       "value": "vocab.json: 100%"
      }
     },
     "771825c79e394d18aeac16cedd8e8661": {
      "model_module": "@jupyter-widgets/base",
      "model_module_version": "2.0.0",
      "model_name": "LayoutModel",
      "state": {
       "_model_module": "@jupyter-widgets/base",
       "_model_module_version": "2.0.0",
       "_model_name": "LayoutModel",
       "_view_count": null,
       "_view_module": "@jupyter-widgets/base",
       "_view_module_version": "2.0.0",
       "_view_name": "LayoutView",
       "align_content": null,
       "align_items": null,
       "align_self": null,
       "border_bottom": null,
       "border_left": null,
       "border_right": null,
       "border_top": null,
       "bottom": null,
       "display": null,
       "flex": null,
       "flex_flow": null,
       "grid_area": null,
       "grid_auto_columns": null,
       "grid_auto_flow": null,
       "grid_auto_rows": null,
       "grid_column": null,
       "grid_gap": null,
       "grid_row": null,
       "grid_template_areas": null,
       "grid_template_columns": null,
       "grid_template_rows": null,
       "height": null,
       "justify_content": null,
       "justify_items": null,
       "left": null,
       "margin": null,
       "max_height": null,
       "max_width": null,
       "min_height": null,
       "min_width": null,
       "object_fit": null,
       "object_position": null,
       "order": null,
       "overflow": null,
       "padding": null,
       "right": null,
       "top": null,
       "visibility": null,
       "width": null
      }
     },
     "7f2d63d4b96c424597bfab98d583ce95": {
      "model_module": "@jupyter-widgets/controls",
      "model_module_version": "2.0.0",
      "model_name": "ProgressStyleModel",
      "state": {
       "_model_module": "@jupyter-widgets/controls",
       "_model_module_version": "2.0.0",
       "_model_name": "ProgressStyleModel",
       "_view_count": null,
       "_view_module": "@jupyter-widgets/base",
       "_view_module_version": "2.0.0",
       "_view_name": "StyleView",
       "bar_color": null,
       "description_width": ""
      }
     },
     "821aafc7e21542d5973e93b23711bf27": {
      "model_module": "@jupyter-widgets/base",
      "model_module_version": "2.0.0",
      "model_name": "LayoutModel",
      "state": {
       "_model_module": "@jupyter-widgets/base",
       "_model_module_version": "2.0.0",
       "_model_name": "LayoutModel",
       "_view_count": null,
       "_view_module": "@jupyter-widgets/base",
       "_view_module_version": "2.0.0",
       "_view_name": "LayoutView",
       "align_content": null,
       "align_items": null,
       "align_self": null,
       "border_bottom": null,
       "border_left": null,
       "border_right": null,
       "border_top": null,
       "bottom": null,
       "display": null,
       "flex": null,
       "flex_flow": null,
       "grid_area": null,
       "grid_auto_columns": null,
       "grid_auto_flow": null,
       "grid_auto_rows": null,
       "grid_column": null,
       "grid_gap": null,
       "grid_row": null,
       "grid_template_areas": null,
       "grid_template_columns": null,
       "grid_template_rows": null,
       "height": null,
       "justify_content": null,
       "justify_items": null,
       "left": null,
       "margin": null,
       "max_height": null,
       "max_width": null,
       "min_height": null,
       "min_width": null,
       "object_fit": null,
       "object_position": null,
       "order": null,
       "overflow": null,
       "padding": null,
       "right": null,
       "top": null,
       "visibility": null,
       "width": null
      }
     },
     "837ad8d5fed9463f8b0a823b050a7c3b": {
      "model_module": "@jupyter-widgets/controls",
      "model_module_version": "2.0.0",
      "model_name": "HTMLStyleModel",
      "state": {
       "_model_module": "@jupyter-widgets/controls",
       "_model_module_version": "2.0.0",
       "_model_name": "HTMLStyleModel",
       "_view_count": null,
       "_view_module": "@jupyter-widgets/base",
       "_view_module_version": "2.0.0",
       "_view_name": "StyleView",
       "background": null,
       "description_width": "",
       "font_size": null,
       "text_color": null
      }
     },
     "859685148fd9433491ffbdcc12ef4651": {
      "model_module": "@jupyter-widgets/controls",
      "model_module_version": "2.0.0",
      "model_name": "HBoxModel",
      "state": {
       "_dom_classes": [],
       "_model_module": "@jupyter-widgets/controls",
       "_model_module_version": "2.0.0",
       "_model_name": "HBoxModel",
       "_view_count": null,
       "_view_module": "@jupyter-widgets/controls",
       "_view_module_version": "2.0.0",
       "_view_name": "HBoxView",
       "box_style": "",
       "children": [
        "IPY_MODEL_b800f31b90114780b549ca9388c556ec",
        "IPY_MODEL_a7912dd11f7348e185dd9fff5dee1759",
        "IPY_MODEL_fb9fbb1bb4ec4fa38e88b05f027e72e1"
       ],
       "layout": "IPY_MODEL_5a792d8a9a8f4430b8a15fc309247025",
       "tabbable": null,
       "tooltip": null
      }
     },
     "85a8be2c22524106ad703b9a9dbc744b": {
      "model_module": "@jupyter-widgets/controls",
      "model_module_version": "2.0.0",
      "model_name": "HTMLStyleModel",
      "state": {
       "_model_module": "@jupyter-widgets/controls",
       "_model_module_version": "2.0.0",
       "_model_name": "HTMLStyleModel",
       "_view_count": null,
       "_view_module": "@jupyter-widgets/base",
       "_view_module_version": "2.0.0",
       "_view_name": "StyleView",
       "background": null,
       "description_width": "",
       "font_size": null,
       "text_color": null
      }
     },
     "89c57728cc7541c1a4493b724a4d3456": {
      "model_module": "@jupyter-widgets/base",
      "model_module_version": "2.0.0",
      "model_name": "LayoutModel",
      "state": {
       "_model_module": "@jupyter-widgets/base",
       "_model_module_version": "2.0.0",
       "_model_name": "LayoutModel",
       "_view_count": null,
       "_view_module": "@jupyter-widgets/base",
       "_view_module_version": "2.0.0",
       "_view_name": "LayoutView",
       "align_content": null,
       "align_items": null,
       "align_self": null,
       "border_bottom": null,
       "border_left": null,
       "border_right": null,
       "border_top": null,
       "bottom": null,
       "display": null,
       "flex": null,
       "flex_flow": null,
       "grid_area": null,
       "grid_auto_columns": null,
       "grid_auto_flow": null,
       "grid_auto_rows": null,
       "grid_column": null,
       "grid_gap": null,
       "grid_row": null,
       "grid_template_areas": null,
       "grid_template_columns": null,
       "grid_template_rows": null,
       "height": null,
       "justify_content": null,
       "justify_items": null,
       "left": null,
       "margin": null,
       "max_height": null,
       "max_width": null,
       "min_height": null,
       "min_width": null,
       "object_fit": null,
       "object_position": null,
       "order": null,
       "overflow": null,
       "padding": null,
       "right": null,
       "top": null,
       "visibility": null,
       "width": null
      }
     },
     "8a6e5d7ae593461fa7bfe702dc73f6a8": {
      "model_module": "@jupyter-widgets/controls",
      "model_module_version": "2.0.0",
      "model_name": "HTMLModel",
      "state": {
       "_dom_classes": [],
       "_model_module": "@jupyter-widgets/controls",
       "_model_module_version": "2.0.0",
       "_model_name": "HTMLModel",
       "_view_count": null,
       "_view_module": "@jupyter-widgets/controls",
       "_view_module_version": "2.0.0",
       "_view_name": "HTMLView",
       "description": "",
       "description_allow_html": false,
       "layout": "IPY_MODEL_771825c79e394d18aeac16cedd8e8661",
       "placeholder": "​",
       "style": "IPY_MODEL_cfaf71c39847498eb449d659ba758c6a",
       "tabbable": null,
       "tooltip": null,
       "value": " 899k/899k [00:00&lt;00:00, 19.6MB/s]"
      }
     },
     "9180714352444e80901001e1f5cf8210": {
      "model_module": "@jupyter-widgets/base",
      "model_module_version": "2.0.0",
      "model_name": "LayoutModel",
      "state": {
       "_model_module": "@jupyter-widgets/base",
       "_model_module_version": "2.0.0",
       "_model_name": "LayoutModel",
       "_view_count": null,
       "_view_module": "@jupyter-widgets/base",
       "_view_module_version": "2.0.0",
       "_view_name": "LayoutView",
       "align_content": null,
       "align_items": null,
       "align_self": null,
       "border_bottom": null,
       "border_left": null,
       "border_right": null,
       "border_top": null,
       "bottom": null,
       "display": null,
       "flex": null,
       "flex_flow": null,
       "grid_area": null,
       "grid_auto_columns": null,
       "grid_auto_flow": null,
       "grid_auto_rows": null,
       "grid_column": null,
       "grid_gap": null,
       "grid_row": null,
       "grid_template_areas": null,
       "grid_template_columns": null,
       "grid_template_rows": null,
       "height": null,
       "justify_content": null,
       "justify_items": null,
       "left": null,
       "margin": null,
       "max_height": null,
       "max_width": null,
       "min_height": null,
       "min_width": null,
       "object_fit": null,
       "object_position": null,
       "order": null,
       "overflow": null,
       "padding": null,
       "right": null,
       "top": null,
       "visibility": null,
       "width": null
      }
     },
     "923215bf438946a198c74171c80fc3c3": {
      "model_module": "@jupyter-widgets/base",
      "model_module_version": "2.0.0",
      "model_name": "LayoutModel",
      "state": {
       "_model_module": "@jupyter-widgets/base",
       "_model_module_version": "2.0.0",
       "_model_name": "LayoutModel",
       "_view_count": null,
       "_view_module": "@jupyter-widgets/base",
       "_view_module_version": "2.0.0",
       "_view_name": "LayoutView",
       "align_content": null,
       "align_items": null,
       "align_self": null,
       "border_bottom": null,
       "border_left": null,
       "border_right": null,
       "border_top": null,
       "bottom": null,
       "display": null,
       "flex": null,
       "flex_flow": null,
       "grid_area": null,
       "grid_auto_columns": null,
       "grid_auto_flow": null,
       "grid_auto_rows": null,
       "grid_column": null,
       "grid_gap": null,
       "grid_row": null,
       "grid_template_areas": null,
       "grid_template_columns": null,
       "grid_template_rows": null,
       "height": null,
       "justify_content": null,
       "justify_items": null,
       "left": null,
       "margin": null,
       "max_height": null,
       "max_width": null,
       "min_height": null,
       "min_width": null,
       "object_fit": null,
       "object_position": null,
       "order": null,
       "overflow": null,
       "padding": null,
       "right": null,
       "top": null,
       "visibility": null,
       "width": null
      }
     },
     "933367fa753b490480dfe190a1c41a0f": {
      "model_module": "@jupyter-widgets/base",
      "model_module_version": "2.0.0",
      "model_name": "LayoutModel",
      "state": {
       "_model_module": "@jupyter-widgets/base",
       "_model_module_version": "2.0.0",
       "_model_name": "LayoutModel",
       "_view_count": null,
       "_view_module": "@jupyter-widgets/base",
       "_view_module_version": "2.0.0",
       "_view_name": "LayoutView",
       "align_content": null,
       "align_items": null,
       "align_self": null,
       "border_bottom": null,
       "border_left": null,
       "border_right": null,
       "border_top": null,
       "bottom": null,
       "display": null,
       "flex": null,
       "flex_flow": null,
       "grid_area": null,
       "grid_auto_columns": null,
       "grid_auto_flow": null,
       "grid_auto_rows": null,
       "grid_column": null,
       "grid_gap": null,
       "grid_row": null,
       "grid_template_areas": null,
       "grid_template_columns": null,
       "grid_template_rows": null,
       "height": null,
       "justify_content": null,
       "justify_items": null,
       "left": null,
       "margin": null,
       "max_height": null,
       "max_width": null,
       "min_height": null,
       "min_width": null,
       "object_fit": null,
       "object_position": null,
       "order": null,
       "overflow": null,
       "padding": null,
       "right": null,
       "top": null,
       "visibility": null,
       "width": null
      }
     },
     "a103de0979b841da82199cdad4678a27": {
      "model_module": "@jupyter-widgets/base",
      "model_module_version": "2.0.0",
      "model_name": "LayoutModel",
      "state": {
       "_model_module": "@jupyter-widgets/base",
       "_model_module_version": "2.0.0",
       "_model_name": "LayoutModel",
       "_view_count": null,
       "_view_module": "@jupyter-widgets/base",
       "_view_module_version": "2.0.0",
       "_view_name": "LayoutView",
       "align_content": null,
       "align_items": null,
       "align_self": null,
       "border_bottom": null,
       "border_left": null,
       "border_right": null,
       "border_top": null,
       "bottom": null,
       "display": null,
       "flex": null,
       "flex_flow": null,
       "grid_area": null,
       "grid_auto_columns": null,
       "grid_auto_flow": null,
       "grid_auto_rows": null,
       "grid_column": null,
       "grid_gap": null,
       "grid_row": null,
       "grid_template_areas": null,
       "grid_template_columns": null,
       "grid_template_rows": null,
       "height": null,
       "justify_content": null,
       "justify_items": null,
       "left": null,
       "margin": null,
       "max_height": null,
       "max_width": null,
       "min_height": null,
       "min_width": null,
       "object_fit": null,
       "object_position": null,
       "order": null,
       "overflow": null,
       "padding": null,
       "right": null,
       "top": null,
       "visibility": null,
       "width": null
      }
     },
     "a7912dd11f7348e185dd9fff5dee1759": {
      "model_module": "@jupyter-widgets/controls",
      "model_module_version": "2.0.0",
      "model_name": "FloatProgressModel",
      "state": {
       "_dom_classes": [],
       "_model_module": "@jupyter-widgets/controls",
       "_model_module_version": "2.0.0",
       "_model_name": "FloatProgressModel",
       "_view_count": null,
       "_view_module": "@jupyter-widgets/controls",
       "_view_module_version": "2.0.0",
       "_view_name": "ProgressView",
       "bar_style": "success",
       "description": "",
       "description_allow_html": false,
       "layout": "IPY_MODEL_3fdfe59e16394077afa30789491b70a4",
       "max": 481.0,
       "min": 0.0,
       "orientation": "horizontal",
       "style": "IPY_MODEL_2a9bb6dc467a4cacbf181e57310d9b20",
       "tabbable": null,
       "tooltip": null,
       "value": 481.0
      }
     },
     "abe708bb5444476bae0a594c8024ed17": {
      "model_module": "@jupyter-widgets/base",
      "model_module_version": "2.0.0",
      "model_name": "LayoutModel",
      "state": {
       "_model_module": "@jupyter-widgets/base",
       "_model_module_version": "2.0.0",
       "_model_name": "LayoutModel",
       "_view_count": null,
       "_view_module": "@jupyter-widgets/base",
       "_view_module_version": "2.0.0",
       "_view_name": "LayoutView",
       "align_content": null,
       "align_items": null,
       "align_self": null,
       "border_bottom": null,
       "border_left": null,
       "border_right": null,
       "border_top": null,
       "bottom": null,
       "display": null,
       "flex": null,
       "flex_flow": null,
       "grid_area": null,
       "grid_auto_columns": null,
       "grid_auto_flow": null,
       "grid_auto_rows": null,
       "grid_column": null,
       "grid_gap": null,
       "grid_row": null,
       "grid_template_areas": null,
       "grid_template_columns": null,
       "grid_template_rows": null,
       "height": null,
       "justify_content": null,
       "justify_items": null,
       "left": null,
       "margin": null,
       "max_height": null,
       "max_width": null,
       "min_height": null,
       "min_width": null,
       "object_fit": null,
       "object_position": null,
       "order": null,
       "overflow": null,
       "padding": null,
       "right": null,
       "top": null,
       "visibility": null,
       "width": null
      }
     },
     "ac51ad9a21f342a3b20ffa8722048926": {
      "model_module": "@jupyter-widgets/controls",
      "model_module_version": "2.0.0",
      "model_name": "ProgressStyleModel",
      "state": {
       "_model_module": "@jupyter-widgets/controls",
       "_model_module_version": "2.0.0",
       "_model_name": "ProgressStyleModel",
       "_view_count": null,
       "_view_module": "@jupyter-widgets/base",
       "_view_module_version": "2.0.0",
       "_view_name": "StyleView",
       "bar_color": null,
       "description_width": ""
      }
     },
     "b6da455946cb40d7a4e5519e49097c4b": {
      "model_module": "@jupyter-widgets/controls",
      "model_module_version": "2.0.0",
      "model_name": "HTMLStyleModel",
      "state": {
       "_model_module": "@jupyter-widgets/controls",
       "_model_module_version": "2.0.0",
       "_model_name": "HTMLStyleModel",
       "_view_count": null,
       "_view_module": "@jupyter-widgets/base",
       "_view_module_version": "2.0.0",
       "_view_name": "StyleView",
       "background": null,
       "description_width": "",
       "font_size": null,
       "text_color": null
      }
     },
     "b800f31b90114780b549ca9388c556ec": {
      "model_module": "@jupyter-widgets/controls",
      "model_module_version": "2.0.0",
      "model_name": "HTMLModel",
      "state": {
       "_dom_classes": [],
       "_model_module": "@jupyter-widgets/controls",
       "_model_module_version": "2.0.0",
       "_model_name": "HTMLModel",
       "_view_count": null,
       "_view_module": "@jupyter-widgets/controls",
       "_view_module_version": "2.0.0",
       "_view_name": "HTMLView",
       "description": "",
       "description_allow_html": false,
       "layout": "IPY_MODEL_933367fa753b490480dfe190a1c41a0f",
       "placeholder": "​",
       "style": "IPY_MODEL_b93b80a39d1b43ae91884cae5cd35bb4",
       "tabbable": null,
       "tooltip": null,
       "value": "config.json: 100%"
      }
     },
     "b93b80a39d1b43ae91884cae5cd35bb4": {
      "model_module": "@jupyter-widgets/controls",
      "model_module_version": "2.0.0",
      "model_name": "HTMLStyleModel",
      "state": {
       "_model_module": "@jupyter-widgets/controls",
       "_model_module_version": "2.0.0",
       "_model_name": "HTMLStyleModel",
       "_view_count": null,
       "_view_module": "@jupyter-widgets/base",
       "_view_module_version": "2.0.0",
       "_view_name": "StyleView",
       "background": null,
       "description_width": "",
       "font_size": null,
       "text_color": null
      }
     },
     "bbe57561c7244a708571c8d1e75935f9": {
      "model_module": "@jupyter-widgets/controls",
      "model_module_version": "2.0.0",
      "model_name": "ProgressStyleModel",
      "state": {
       "_model_module": "@jupyter-widgets/controls",
       "_model_module_version": "2.0.0",
       "_model_name": "ProgressStyleModel",
       "_view_count": null,
       "_view_module": "@jupyter-widgets/base",
       "_view_module_version": "2.0.0",
       "_view_name": "StyleView",
       "bar_color": null,
       "description_width": ""
      }
     },
     "bf23ed7ca3d048f994608e367e88de8c": {
      "model_module": "@jupyter-widgets/base",
      "model_module_version": "2.0.0",
      "model_name": "LayoutModel",
      "state": {
       "_model_module": "@jupyter-widgets/base",
       "_model_module_version": "2.0.0",
       "_model_name": "LayoutModel",
       "_view_count": null,
       "_view_module": "@jupyter-widgets/base",
       "_view_module_version": "2.0.0",
       "_view_name": "LayoutView",
       "align_content": null,
       "align_items": null,
       "align_self": null,
       "border_bottom": null,
       "border_left": null,
       "border_right": null,
       "border_top": null,
       "bottom": null,
       "display": null,
       "flex": null,
       "flex_flow": null,
       "grid_area": null,
       "grid_auto_columns": null,
       "grid_auto_flow": null,
       "grid_auto_rows": null,
       "grid_column": null,
       "grid_gap": null,
       "grid_row": null,
       "grid_template_areas": null,
       "grid_template_columns": null,
       "grid_template_rows": null,
       "height": null,
       "justify_content": null,
       "justify_items": null,
       "left": null,
       "margin": null,
       "max_height": null,
       "max_width": null,
       "min_height": null,
       "min_width": null,
       "object_fit": null,
       "object_position": null,
       "order": null,
       "overflow": null,
       "padding": null,
       "right": null,
       "top": null,
       "visibility": null,
       "width": null
      }
     },
     "bf91953b238346a1bf84633aae7600c9": {
      "model_module": "@jupyter-widgets/controls",
      "model_module_version": "2.0.0",
      "model_name": "HTMLStyleModel",
      "state": {
       "_model_module": "@jupyter-widgets/controls",
       "_model_module_version": "2.0.0",
       "_model_name": "HTMLStyleModel",
       "_view_count": null,
       "_view_module": "@jupyter-widgets/base",
       "_view_module_version": "2.0.0",
       "_view_name": "StyleView",
       "background": null,
       "description_width": "",
       "font_size": null,
       "text_color": null
      }
     },
     "c7563b53c5614c579169117d0d517382": {
      "model_module": "@jupyter-widgets/controls",
      "model_module_version": "2.0.0",
      "model_name": "HTMLModel",
      "state": {
       "_dom_classes": [],
       "_model_module": "@jupyter-widgets/controls",
       "_model_module_version": "2.0.0",
       "_model_name": "HTMLModel",
       "_view_count": null,
       "_view_module": "@jupyter-widgets/controls",
       "_view_module_version": "2.0.0",
       "_view_name": "HTMLView",
       "description": "",
       "description_allow_html": false,
       "layout": "IPY_MODEL_89c57728cc7541c1a4493b724a4d3456",
       "placeholder": "​",
       "style": "IPY_MODEL_e431cb8390b44fd29fa16e8e0869c85a",
       "tabbable": null,
       "tooltip": null,
       "value": "model.safetensors: 100%"
      }
     },
     "c8aa2326ca2e4b42a3924d61492d3ee1": {
      "model_module": "@jupyter-widgets/controls",
      "model_module_version": "2.0.0",
      "model_name": "ProgressStyleModel",
      "state": {
       "_model_module": "@jupyter-widgets/controls",
       "_model_module_version": "2.0.0",
       "_model_name": "ProgressStyleModel",
       "_view_count": null,
       "_view_module": "@jupyter-widgets/base",
       "_view_module_version": "2.0.0",
       "_view_name": "StyleView",
       "bar_color": null,
       "description_width": ""
      }
     },
     "cceec005236b405c804df3d5b4dfed89": {
      "model_module": "@jupyter-widgets/controls",
      "model_module_version": "2.0.0",
      "model_name": "HTMLModel",
      "state": {
       "_dom_classes": [],
       "_model_module": "@jupyter-widgets/controls",
       "_model_module_version": "2.0.0",
       "_model_name": "HTMLModel",
       "_view_count": null,
       "_view_module": "@jupyter-widgets/controls",
       "_view_module_version": "2.0.0",
       "_view_name": "HTMLView",
       "description": "",
       "description_allow_html": false,
       "layout": "IPY_MODEL_f03559323542413b8dcc790e063c5994",
       "placeholder": "​",
       "style": "IPY_MODEL_d56efcf5cccc4209a99f455f0bb6caf8",
       "tabbable": null,
       "tooltip": null,
       "value": "merges.txt: 100%"
      }
     },
     "cfaf71c39847498eb449d659ba758c6a": {
      "model_module": "@jupyter-widgets/controls",
      "model_module_version": "2.0.0",
      "model_name": "HTMLStyleModel",
      "state": {
       "_model_module": "@jupyter-widgets/controls",
       "_model_module_version": "2.0.0",
       "_model_name": "HTMLStyleModel",
       "_view_count": null,
       "_view_module": "@jupyter-widgets/base",
       "_view_module_version": "2.0.0",
       "_view_name": "StyleView",
       "background": null,
       "description_width": "",
       "font_size": null,
       "text_color": null
      }
     },
     "d56efcf5cccc4209a99f455f0bb6caf8": {
      "model_module": "@jupyter-widgets/controls",
      "model_module_version": "2.0.0",
      "model_name": "HTMLStyleModel",
      "state": {
       "_model_module": "@jupyter-widgets/controls",
       "_model_module_version": "2.0.0",
       "_model_name": "HTMLStyleModel",
       "_view_count": null,
       "_view_module": "@jupyter-widgets/base",
       "_view_module_version": "2.0.0",
       "_view_name": "StyleView",
       "background": null,
       "description_width": "",
       "font_size": null,
       "text_color": null
      }
     },
     "d74d786d064444bbb11124c80d0d7bea": {
      "model_module": "@jupyter-widgets/base",
      "model_module_version": "2.0.0",
      "model_name": "LayoutModel",
      "state": {
       "_model_module": "@jupyter-widgets/base",
       "_model_module_version": "2.0.0",
       "_model_name": "LayoutModel",
       "_view_count": null,
       "_view_module": "@jupyter-widgets/base",
       "_view_module_version": "2.0.0",
       "_view_name": "LayoutView",
       "align_content": null,
       "align_items": null,
       "align_self": null,
       "border_bottom": null,
       "border_left": null,
       "border_right": null,
       "border_top": null,
       "bottom": null,
       "display": null,
       "flex": null,
       "flex_flow": null,
       "grid_area": null,
       "grid_auto_columns": null,
       "grid_auto_flow": null,
       "grid_auto_rows": null,
       "grid_column": null,
       "grid_gap": null,
       "grid_row": null,
       "grid_template_areas": null,
       "grid_template_columns": null,
       "grid_template_rows": null,
       "height": null,
       "justify_content": null,
       "justify_items": null,
       "left": null,
       "margin": null,
       "max_height": null,
       "max_width": null,
       "min_height": null,
       "min_width": null,
       "object_fit": null,
       "object_position": null,
       "order": null,
       "overflow": null,
       "padding": null,
       "right": null,
       "top": null,
       "visibility": null,
       "width": null
      }
     },
     "da312c7d79af4493b1eed4850862027d": {
      "model_module": "@jupyter-widgets/base",
      "model_module_version": "2.0.0",
      "model_name": "LayoutModel",
      "state": {
       "_model_module": "@jupyter-widgets/base",
       "_model_module_version": "2.0.0",
       "_model_name": "LayoutModel",
       "_view_count": null,
       "_view_module": "@jupyter-widgets/base",
       "_view_module_version": "2.0.0",
       "_view_name": "LayoutView",
       "align_content": null,
       "align_items": null,
       "align_self": null,
       "border_bottom": null,
       "border_left": null,
       "border_right": null,
       "border_top": null,
       "bottom": null,
       "display": null,
       "flex": null,
       "flex_flow": null,
       "grid_area": null,
       "grid_auto_columns": null,
       "grid_auto_flow": null,
       "grid_auto_rows": null,
       "grid_column": null,
       "grid_gap": null,
       "grid_row": null,
       "grid_template_areas": null,
       "grid_template_columns": null,
       "grid_template_rows": null,
       "height": null,
       "justify_content": null,
       "justify_items": null,
       "left": null,
       "margin": null,
       "max_height": null,
       "max_width": null,
       "min_height": null,
       "min_width": null,
       "object_fit": null,
       "object_position": null,
       "order": null,
       "overflow": null,
       "padding": null,
       "right": null,
       "top": null,
       "visibility": null,
       "width": null
      }
     },
     "e09fbf31b5bf41f0970c73f589b9e1f7": {
      "model_module": "@jupyter-widgets/controls",
      "model_module_version": "2.0.0",
      "model_name": "HTMLStyleModel",
      "state": {
       "_model_module": "@jupyter-widgets/controls",
       "_model_module_version": "2.0.0",
       "_model_name": "HTMLStyleModel",
       "_view_count": null,
       "_view_module": "@jupyter-widgets/base",
       "_view_module_version": "2.0.0",
       "_view_name": "StyleView",
       "background": null,
       "description_width": "",
       "font_size": null,
       "text_color": null
      }
     },
     "e2e00c4c05844280b02bd829bf3bb3b8": {
      "model_module": "@jupyter-widgets/controls",
      "model_module_version": "2.0.0",
      "model_name": "HTMLStyleModel",
      "state": {
       "_model_module": "@jupyter-widgets/controls",
       "_model_module_version": "2.0.0",
       "_model_name": "HTMLStyleModel",
       "_view_count": null,
       "_view_module": "@jupyter-widgets/base",
       "_view_module_version": "2.0.0",
       "_view_name": "StyleView",
       "background": null,
       "description_width": "",
       "font_size": null,
       "text_color": null
      }
     },
     "e431cb8390b44fd29fa16e8e0869c85a": {
      "model_module": "@jupyter-widgets/controls",
      "model_module_version": "2.0.0",
      "model_name": "HTMLStyleModel",
      "state": {
       "_model_module": "@jupyter-widgets/controls",
       "_model_module_version": "2.0.0",
       "_model_name": "HTMLStyleModel",
       "_view_count": null,
       "_view_module": "@jupyter-widgets/base",
       "_view_module_version": "2.0.0",
       "_view_name": "StyleView",
       "background": null,
       "description_width": "",
       "font_size": null,
       "text_color": null
      }
     },
     "eccfc0228e4f4ee2bfc26a7d5aba6f7d": {
      "model_module": "@jupyter-widgets/controls",
      "model_module_version": "2.0.0",
      "model_name": "HTMLStyleModel",
      "state": {
       "_model_module": "@jupyter-widgets/controls",
       "_model_module_version": "2.0.0",
       "_model_name": "HTMLStyleModel",
       "_view_count": null,
       "_view_module": "@jupyter-widgets/base",
       "_view_module_version": "2.0.0",
       "_view_name": "StyleView",
       "background": null,
       "description_width": "",
       "font_size": null,
       "text_color": null
      }
     },
     "f03559323542413b8dcc790e063c5994": {
      "model_module": "@jupyter-widgets/base",
      "model_module_version": "2.0.0",
      "model_name": "LayoutModel",
      "state": {
       "_model_module": "@jupyter-widgets/base",
       "_model_module_version": "2.0.0",
       "_model_name": "LayoutModel",
       "_view_count": null,
       "_view_module": "@jupyter-widgets/base",
       "_view_module_version": "2.0.0",
       "_view_name": "LayoutView",
       "align_content": null,
       "align_items": null,
       "align_self": null,
       "border_bottom": null,
       "border_left": null,
       "border_right": null,
       "border_top": null,
       "bottom": null,
       "display": null,
       "flex": null,
       "flex_flow": null,
       "grid_area": null,
       "grid_auto_columns": null,
       "grid_auto_flow": null,
       "grid_auto_rows": null,
       "grid_column": null,
       "grid_gap": null,
       "grid_row": null,
       "grid_template_areas": null,
       "grid_template_columns": null,
       "grid_template_rows": null,
       "height": null,
       "justify_content": null,
       "justify_items": null,
       "left": null,
       "margin": null,
       "max_height": null,
       "max_width": null,
       "min_height": null,
       "min_width": null,
       "object_fit": null,
       "object_position": null,
       "order": null,
       "overflow": null,
       "padding": null,
       "right": null,
       "top": null,
       "visibility": null,
       "width": null
      }
     },
     "f0b83f976a0747dc8f26f864755acb74": {
      "model_module": "@jupyter-widgets/controls",
      "model_module_version": "2.0.0",
      "model_name": "ProgressStyleModel",
      "state": {
       "_model_module": "@jupyter-widgets/controls",
       "_model_module_version": "2.0.0",
       "_model_name": "ProgressStyleModel",
       "_view_count": null,
       "_view_module": "@jupyter-widgets/base",
       "_view_module_version": "2.0.0",
       "_view_name": "StyleView",
       "bar_color": null,
       "description_width": ""
      }
     },
     "f4a461b93f6440be89113b00a6361791": {
      "model_module": "@jupyter-widgets/controls",
      "model_module_version": "2.0.0",
      "model_name": "HTMLModel",
      "state": {
       "_dom_classes": [],
       "_model_module": "@jupyter-widgets/controls",
       "_model_module_version": "2.0.0",
       "_model_name": "HTMLModel",
       "_view_count": null,
       "_view_module": "@jupyter-widgets/controls",
       "_view_module_version": "2.0.0",
       "_view_name": "HTMLView",
       "description": "",
       "description_allow_html": false,
       "layout": "IPY_MODEL_fde37944c15c415a95310d39f0708523",
       "placeholder": "​",
       "style": "IPY_MODEL_b6da455946cb40d7a4e5519e49097c4b",
       "tabbable": null,
       "tooltip": null,
       "value": " 25.0/25.0 [00:00&lt;00:00, 2.31kB/s]"
      }
     },
     "f51a0a6014234ccb87cfef21494ab047": {
      "model_module": "@jupyter-widgets/controls",
      "model_module_version": "2.0.0",
      "model_name": "HBoxModel",
      "state": {
       "_dom_classes": [],
       "_model_module": "@jupyter-widgets/controls",
       "_model_module_version": "2.0.0",
       "_model_name": "HBoxModel",
       "_view_count": null,
       "_view_module": "@jupyter-widgets/controls",
       "_view_module_version": "2.0.0",
       "_view_name": "HBoxView",
       "box_style": "",
       "children": [
        "IPY_MODEL_76bbee5665b44067b72d29a79c8433d2",
        "IPY_MODEL_2e51971f77d34fcdb047a47652951a23",
        "IPY_MODEL_8a6e5d7ae593461fa7bfe702dc73f6a8"
       ],
       "layout": "IPY_MODEL_5f2fda08cf384a939e99195489be6943",
       "tabbable": null,
       "tooltip": null
      }
     },
     "f5826dc1b47f4258b8b1918fd7e967f3": {
      "model_module": "@jupyter-widgets/base",
      "model_module_version": "2.0.0",
      "model_name": "LayoutModel",
      "state": {
       "_model_module": "@jupyter-widgets/base",
       "_model_module_version": "2.0.0",
       "_model_name": "LayoutModel",
       "_view_count": null,
       "_view_module": "@jupyter-widgets/base",
       "_view_module_version": "2.0.0",
       "_view_name": "LayoutView",
       "align_content": null,
       "align_items": null,
       "align_self": null,
       "border_bottom": null,
       "border_left": null,
       "border_right": null,
       "border_top": null,
       "bottom": null,
       "display": null,
       "flex": null,
       "flex_flow": null,
       "grid_area": null,
       "grid_auto_columns": null,
       "grid_auto_flow": null,
       "grid_auto_rows": null,
       "grid_column": null,
       "grid_gap": null,
       "grid_row": null,
       "grid_template_areas": null,
       "grid_template_columns": null,
       "grid_template_rows": null,
       "height": null,
       "justify_content": null,
       "justify_items": null,
       "left": null,
       "margin": null,
       "max_height": null,
       "max_width": null,
       "min_height": null,
       "min_width": null,
       "object_fit": null,
       "object_position": null,
       "order": null,
       "overflow": null,
       "padding": null,
       "right": null,
       "top": null,
       "visibility": null,
       "width": null
      }
     },
     "fb9fbb1bb4ec4fa38e88b05f027e72e1": {
      "model_module": "@jupyter-widgets/controls",
      "model_module_version": "2.0.0",
      "model_name": "HTMLModel",
      "state": {
       "_dom_classes": [],
       "_model_module": "@jupyter-widgets/controls",
       "_model_module_version": "2.0.0",
       "_model_name": "HTMLModel",
       "_view_count": null,
       "_view_module": "@jupyter-widgets/controls",
       "_view_module_version": "2.0.0",
       "_view_name": "HTMLView",
       "description": "",
       "description_allow_html": false,
       "layout": "IPY_MODEL_d74d786d064444bbb11124c80d0d7bea",
       "placeholder": "​",
       "style": "IPY_MODEL_e2e00c4c05844280b02bd829bf3bb3b8",
       "tabbable": null,
       "tooltip": null,
       "value": " 481/481 [00:00&lt;00:00, 55.8kB/s]"
      }
     },
     "fde37944c15c415a95310d39f0708523": {
      "model_module": "@jupyter-widgets/base",
      "model_module_version": "2.0.0",
      "model_name": "LayoutModel",
      "state": {
       "_model_module": "@jupyter-widgets/base",
       "_model_module_version": "2.0.0",
       "_model_name": "LayoutModel",
       "_view_count": null,
       "_view_module": "@jupyter-widgets/base",
       "_view_module_version": "2.0.0",
       "_view_name": "LayoutView",
       "align_content": null,
       "align_items": null,
       "align_self": null,
       "border_bottom": null,
       "border_left": null,
       "border_right": null,
       "border_top": null,
       "bottom": null,
       "display": null,
       "flex": null,
       "flex_flow": null,
       "grid_area": null,
       "grid_auto_columns": null,
       "grid_auto_flow": null,
       "grid_auto_rows": null,
       "grid_column": null,
       "grid_gap": null,
       "grid_row": null,
       "grid_template_areas": null,
       "grid_template_columns": null,
       "grid_template_rows": null,
       "height": null,
       "justify_content": null,
       "justify_items": null,
       "left": null,
       "margin": null,
       "max_height": null,
       "max_width": null,
       "min_height": null,
       "min_width": null,
       "object_fit": null,
       "object_position": null,
       "order": null,
       "overflow": null,
       "padding": null,
       "right": null,
       "top": null,
       "visibility": null,
       "width": null
      }
     }
    },
    "version_major": 2,
    "version_minor": 0
   }
  }
 },
 "nbformat": 4,
 "nbformat_minor": 5
}
